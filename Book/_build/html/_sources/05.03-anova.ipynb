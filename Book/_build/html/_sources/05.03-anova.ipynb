{
 "cells": [
  {
   "attachments": {},
   "cell_type": "markdown",
   "id": "72569493",
   "metadata": {},
   "source": [
    "(ANOVA)=\n",
    "# Comparing several means (one-way ANOVA)\n",
    "\n",
    "\n",
    "\n",
    "This chapter introduces one of the most widely used tools in statistics, known as \"the analysis of variance\", which is usually referred to as ANOVA. The basic technique was developed by Sir Ronald Fisher in the early 20th century, and it is to him that we owe the rather unfortunate terminology. The term ANOVA is a little misleading, in two respects. Firstly, although the name of the technique refers to variances, ANOVA is concerned with investigating differences in means. Secondly, there are several different things out there that are all referred to as ANOVAs, some of which have only a very tenuous connection to one another. Third (and this is Ethan speaking now) _everything_ in statistics is an analysis of variance: analyzing variance is the entire purpose of statistics, so it seems a little unfair to give that name to any particular test. I challenge you to show me any statistical procedure that is not, in some sense, an analysis of variance. Still, Fisher got there first, so what can you do? Later on in the book we'll encounter a range of different ANOVA methods that apply in quite different situations, but for the purposes of this chapter we'll only consider the simplest form of ANOVA, in which we have several different groups of observations, and we're interested in finding out whether those groups differ in terms of some outcome variable of interest. This is the question that is addressed by a **_one-way ANOVA_**. \n",
    "\n",
    "The structure of this chapter is as follows: In [](anxifree) I'll introduce a fictitious data set that we'll use as a running example throughout the chapter. After introducing the data, I'll describe the mechanics of [how a one-way ANOVA actually works](anovaintro) and then focus on [how you can run one in Python](introduceaov). These two sections are the core of the chapter. The remainder of the chapter discusses a range of important topics that inevitably arise when running an ANOVA, namely [how to calculate effect sizes](etasquared), [post hoc tests and corrections for multiple comparisons](posthoc) and the [assumptions](anovaassumptions) that ANOVA relies upon. We'll also talk about how to check those assumptions and some of the things you can do if the assumptions are violated in the sections from [](levene) to [](kruskalwallis). At the end of the chapter we'll talk a little about the [relationship](anovaandt) between ANOVA and other statistical tools. "
   ]
  },
  {
   "attachments": {},
   "cell_type": "markdown",
   "id": "dbeb4731",
   "metadata": {},
   "source": [
    "(anxifree)=\n",
    "## An illustrative data set\n",
    "\n",
    "Suppose you've become involved in a clinical trial in which you are testing a new antidepressant drug called *Joyzepam*. In order to construct a fair test of the drug's effectiveness, the study involves three separate drugs to be administered. One is a placebo, and the other is an existing antidepressant / anti-anxiety drug called *Anxifree*. A collection of 18 participants with moderate to severe depression are recruited for your initial testing. Because the drugs are sometimes administered in conjunction with psychological therapy, your study includes 9 people undergoing cognitive behavioural therapy (CBT) and 9 who are not. Participants are randomly assigned (doubly blinded, of course) a treatment, such that there are 3 CBT people and 3 no-therapy people assigned to each of the 3 drugs. A psychologist assesses the mood of each person after a 3 month run with each drug: and the overall *improvement* in each person's mood is assessed on a scale ranging from $-5$ to $+5$. \n",
    "\n",
    "With that as the study design, let's now look at what we've got in the data file:"
   ]
  },
  {
   "cell_type": "code",
   "execution_count": 1,
   "id": "3c54e65d",
   "metadata": {},
   "outputs": [
    {
     "data": {
      "text/html": [
       "<div>\n",
       "<style scoped>\n",
       "    .dataframe tbody tr th:only-of-type {\n",
       "        vertical-align: middle;\n",
       "    }\n",
       "\n",
       "    .dataframe tbody tr th {\n",
       "        vertical-align: top;\n",
       "    }\n",
       "\n",
       "    .dataframe thead th {\n",
       "        text-align: right;\n",
       "    }\n",
       "</style>\n",
       "<table border=\"1\" class=\"dataframe\">\n",
       "  <thead>\n",
       "    <tr style=\"text-align: right;\">\n",
       "      <th></th>\n",
       "      <th>drug</th>\n",
       "      <th>therapy</th>\n",
       "      <th>mood_gain</th>\n",
       "    </tr>\n",
       "  </thead>\n",
       "  <tbody>\n",
       "    <tr>\n",
       "      <th>0</th>\n",
       "      <td>placebo</td>\n",
       "      <td>no.therapy</td>\n",
       "      <td>0.5</td>\n",
       "    </tr>\n",
       "    <tr>\n",
       "      <th>1</th>\n",
       "      <td>placebo</td>\n",
       "      <td>no.therapy</td>\n",
       "      <td>0.3</td>\n",
       "    </tr>\n",
       "    <tr>\n",
       "      <th>2</th>\n",
       "      <td>placebo</td>\n",
       "      <td>no.therapy</td>\n",
       "      <td>0.1</td>\n",
       "    </tr>\n",
       "    <tr>\n",
       "      <th>3</th>\n",
       "      <td>anxifree</td>\n",
       "      <td>no.therapy</td>\n",
       "      <td>0.6</td>\n",
       "    </tr>\n",
       "    <tr>\n",
       "      <th>4</th>\n",
       "      <td>anxifree</td>\n",
       "      <td>no.therapy</td>\n",
       "      <td>0.4</td>\n",
       "    </tr>\n",
       "    <tr>\n",
       "      <th>5</th>\n",
       "      <td>anxifree</td>\n",
       "      <td>no.therapy</td>\n",
       "      <td>0.2</td>\n",
       "    </tr>\n",
       "    <tr>\n",
       "      <th>6</th>\n",
       "      <td>joyzepam</td>\n",
       "      <td>no.therapy</td>\n",
       "      <td>1.4</td>\n",
       "    </tr>\n",
       "    <tr>\n",
       "      <th>7</th>\n",
       "      <td>joyzepam</td>\n",
       "      <td>no.therapy</td>\n",
       "      <td>1.7</td>\n",
       "    </tr>\n",
       "    <tr>\n",
       "      <th>8</th>\n",
       "      <td>joyzepam</td>\n",
       "      <td>no.therapy</td>\n",
       "      <td>1.3</td>\n",
       "    </tr>\n",
       "    <tr>\n",
       "      <th>9</th>\n",
       "      <td>placebo</td>\n",
       "      <td>CBT</td>\n",
       "      <td>0.6</td>\n",
       "    </tr>\n",
       "    <tr>\n",
       "      <th>10</th>\n",
       "      <td>placebo</td>\n",
       "      <td>CBT</td>\n",
       "      <td>0.9</td>\n",
       "    </tr>\n",
       "    <tr>\n",
       "      <th>11</th>\n",
       "      <td>placebo</td>\n",
       "      <td>CBT</td>\n",
       "      <td>0.3</td>\n",
       "    </tr>\n",
       "    <tr>\n",
       "      <th>12</th>\n",
       "      <td>anxifree</td>\n",
       "      <td>CBT</td>\n",
       "      <td>1.1</td>\n",
       "    </tr>\n",
       "    <tr>\n",
       "      <th>13</th>\n",
       "      <td>anxifree</td>\n",
       "      <td>CBT</td>\n",
       "      <td>0.8</td>\n",
       "    </tr>\n",
       "    <tr>\n",
       "      <th>14</th>\n",
       "      <td>anxifree</td>\n",
       "      <td>CBT</td>\n",
       "      <td>1.2</td>\n",
       "    </tr>\n",
       "    <tr>\n",
       "      <th>15</th>\n",
       "      <td>joyzepam</td>\n",
       "      <td>CBT</td>\n",
       "      <td>1.8</td>\n",
       "    </tr>\n",
       "    <tr>\n",
       "      <th>16</th>\n",
       "      <td>joyzepam</td>\n",
       "      <td>CBT</td>\n",
       "      <td>1.3</td>\n",
       "    </tr>\n",
       "    <tr>\n",
       "      <th>17</th>\n",
       "      <td>joyzepam</td>\n",
       "      <td>CBT</td>\n",
       "      <td>1.4</td>\n",
       "    </tr>\n",
       "  </tbody>\n",
       "</table>\n",
       "</div>"
      ],
      "text/plain": [
       "        drug     therapy  mood_gain\n",
       "0    placebo  no.therapy        0.5\n",
       "1    placebo  no.therapy        0.3\n",
       "2    placebo  no.therapy        0.1\n",
       "3   anxifree  no.therapy        0.6\n",
       "4   anxifree  no.therapy        0.4\n",
       "5   anxifree  no.therapy        0.2\n",
       "6   joyzepam  no.therapy        1.4\n",
       "7   joyzepam  no.therapy        1.7\n",
       "8   joyzepam  no.therapy        1.3\n",
       "9    placebo         CBT        0.6\n",
       "10   placebo         CBT        0.9\n",
       "11   placebo         CBT        0.3\n",
       "12  anxifree         CBT        1.1\n",
       "13  anxifree         CBT        0.8\n",
       "14  anxifree         CBT        1.2\n",
       "15  joyzepam         CBT        1.8\n",
       "16  joyzepam         CBT        1.3\n",
       "17  joyzepam         CBT        1.4"
      ]
     },
     "execution_count": 1,
     "metadata": {},
     "output_type": "execute_result"
    }
   ],
   "source": [
    "import pandas as pd\n",
    "\n",
    "df = pd.read_csv(\"https://raw.githubusercontent.com/ethanweed/pythonbook/main/Data/clintrial.csv\")\n",
    "df"
   ]
  },
  {
   "attachments": {},
   "cell_type": "markdown",
   "id": "d5aa7346",
   "metadata": {},
   "source": [
    "So we have a single data frame called `clin.trial`, containing three variables; `drug`, `therapy` and `mood_gain`."
   ]
  },
  {
   "attachments": {},
   "cell_type": "markdown",
   "id": "30d9a6ab",
   "metadata": {},
   "source": [
    "For the purposes of this chapter, what we're really interested in is the effect of `drug` on `mood_gain`. The first thing to do is calculate some descriptive statistics and draw some graphs. In the chapters on [descriptive statistics](descriptives) and [data-wrangling](datawrangling) we discussed a variety of different functions that can be used for this purpose. For instance, we can use the `pd.crosstab()` function to see how many people we have in each group:"
   ]
  },
  {
   "cell_type": "code",
   "execution_count": 2,
   "id": "5d1c335f",
   "metadata": {},
   "outputs": [
    {
     "data": {
      "text/html": [
       "<div>\n",
       "<style scoped>\n",
       "    .dataframe tbody tr th:only-of-type {\n",
       "        vertical-align: middle;\n",
       "    }\n",
       "\n",
       "    .dataframe tbody tr th {\n",
       "        vertical-align: top;\n",
       "    }\n",
       "\n",
       "    .dataframe thead th {\n",
       "        text-align: right;\n",
       "    }\n",
       "</style>\n",
       "<table border=\"1\" class=\"dataframe\">\n",
       "  <thead>\n",
       "    <tr style=\"text-align: right;\">\n",
       "      <th>therapy</th>\n",
       "      <th>CBT</th>\n",
       "      <th>no.therapy</th>\n",
       "    </tr>\n",
       "    <tr>\n",
       "      <th>drug</th>\n",
       "      <th></th>\n",
       "      <th></th>\n",
       "    </tr>\n",
       "  </thead>\n",
       "  <tbody>\n",
       "    <tr>\n",
       "      <th>anxifree</th>\n",
       "      <td>3</td>\n",
       "      <td>3</td>\n",
       "    </tr>\n",
       "    <tr>\n",
       "      <th>joyzepam</th>\n",
       "      <td>3</td>\n",
       "      <td>3</td>\n",
       "    </tr>\n",
       "    <tr>\n",
       "      <th>placebo</th>\n",
       "      <td>3</td>\n",
       "      <td>3</td>\n",
       "    </tr>\n",
       "  </tbody>\n",
       "</table>\n",
       "</div>"
      ],
      "text/plain": [
       "therapy   CBT  no.therapy\n",
       "drug                     \n",
       "anxifree    3           3\n",
       "joyzepam    3           3\n",
       "placebo     3           3"
      ]
     },
     "execution_count": 2,
     "metadata": {},
     "output_type": "execute_result"
    }
   ],
   "source": [
    "pd.crosstab(df['drug'], df['therapy'])"
   ]
  },
  {
   "attachments": {},
   "cell_type": "markdown",
   "id": "76588ebe",
   "metadata": {},
   "source": [
    "Similarly, we can use the `aggregate()` function to calculate means and standard deviations for the `mood_gain` variable broken down by which `drug` was administered:"
   ]
  },
  {
   "cell_type": "code",
   "execution_count": 3,
   "id": "979991d0",
   "metadata": {},
   "outputs": [
    {
     "data": {
      "text/html": [
       "<div>\n",
       "<style scoped>\n",
       "    .dataframe tbody tr th:only-of-type {\n",
       "        vertical-align: middle;\n",
       "    }\n",
       "\n",
       "    .dataframe tbody tr th {\n",
       "        vertical-align: top;\n",
       "    }\n",
       "\n",
       "    .dataframe thead th {\n",
       "        text-align: right;\n",
       "    }\n",
       "</style>\n",
       "<table border=\"1\" class=\"dataframe\">\n",
       "  <thead>\n",
       "    <tr style=\"text-align: right;\">\n",
       "      <th></th>\n",
       "      <th>mean</th>\n",
       "      <th>std</th>\n",
       "    </tr>\n",
       "    <tr>\n",
       "      <th>drug</th>\n",
       "      <th></th>\n",
       "      <th></th>\n",
       "    </tr>\n",
       "  </thead>\n",
       "  <tbody>\n",
       "    <tr>\n",
       "      <th>anxifree</th>\n",
       "      <td>0.716667</td>\n",
       "      <td>0.392003</td>\n",
       "    </tr>\n",
       "    <tr>\n",
       "      <th>joyzepam</th>\n",
       "      <td>1.483333</td>\n",
       "      <td>0.213698</td>\n",
       "    </tr>\n",
       "    <tr>\n",
       "      <th>placebo</th>\n",
       "      <td>0.450000</td>\n",
       "      <td>0.281069</td>\n",
       "    </tr>\n",
       "  </tbody>\n",
       "</table>\n",
       "</div>"
      ],
      "text/plain": [
       "              mean       std\n",
       "drug                        \n",
       "anxifree  0.716667  0.392003\n",
       "joyzepam  1.483333  0.213698\n",
       "placebo   0.450000  0.281069"
      ]
     },
     "execution_count": 3,
     "metadata": {},
     "output_type": "execute_result"
    }
   ],
   "source": [
    "df.groupby('drug')['mood_gain'].agg(['mean', 'std'])"
   ]
  },
  {
   "attachments": {},
   "cell_type": "markdown",
   "id": "dbd10fbb",
   "metadata": {},
   "source": [
    "Finally, we can use `pointplot()` from the `seaborn` package to produce a pretty picture."
   ]
  },
  {
   "cell_type": "code",
   "execution_count": 4,
   "id": "e68da6dc",
   "metadata": {
    "tags": []
   },
   "outputs": [
    {
     "data": {
      "image/png": "[encoded data removed]",
      "text/plain": [
       "<Figure size 640x480 with 1 Axes>"
      ]
     },
     "metadata": {},
     "output_type": "display_data"
    }
   ],
   "source": [
    "import seaborn as sns\n",
    "\n",
    "fig = sns.pointplot(x='drug', y = 'mood_gain', data = df)\n",
    "sns.despine()"
   ]
  },
  {
   "attachments": {},
   "cell_type": "markdown",
   "id": "7aeb0f1f",
   "metadata": {},
   "source": [
    " ```{glue:figure} moodgain_fig\n",
    ":figwidth: 600px\n",
    ":name: fig-moodgain\n",
    "\n",
    "Average mood gain as a function of drug administered. Error bars depict 95% confidence intervals associated with each of the group means.\n",
    "```"
   ]
  },
  {
   "attachments": {},
   "cell_type": "markdown",
   "id": "053f1e4e",
   "metadata": {},
   "source": [
    "\n",
    "The results are shown in the figure above, which plots the average mood gain for all three conditions; error bars show 95\\% confidence intervals. As the plot makes clear, there is a larger improvement in mood for participants in the Joyzepam group than for either the Anxifree group or the placebo group. The Anxifree group shows a larger mood gain than the control group, but the difference isn't as large. \n",
    "\n",
    "The question that we want to answer is: are these difference \"real\", or are they just due to chance?\n"
   ]
  },
  {
   "attachments": {},
   "cell_type": "markdown",
   "id": "f8438ac7",
   "metadata": {},
   "source": [
    "(anovaintro)=\n",
    "## How ANOVA works\n",
    "\n",
    "In order to answer the question posed by our clinical trial data, we're going to run a one-way ANOVA. As usual, I'm going to start by showing you how to do it the hard way, building the statistical tool from the ground up and showing you how you could do it in Python if you didn't have access to any of the cool ANOVA functions that kind people have made for us. And, as always, I hope you'll read it carefully, try to do it the long way once or twice to make sure you really understand how ANOVA works, and then -- once you've grasped the concept -- never *ever* do it this way again.\n",
    "\n",
    "The experimental design that I described in the previous section strongly suggests that we're interested in comparing the average mood change for the three different drugs. In that sense, we're talking about an analysis similar to the [$t$-test](ttest), but involving more than two groups. If we let $\\mu_P$ denote the population mean for the mood change induced by the placebo, and let $\\mu_A$ and $\\mu_J$ denote the corresponding means for our two drugs, Anxifree and Joyzepam, then the (somewhat pessimistic) null hypothesis that we want to test is that all three population means are identical: that is, *neither* of the two drugs is any more effective than a placebo. Mathematically, we write this null hypothesis like this:\n",
    "\n",
    "$$\n",
    "\\begin{array}{rcl}\n",
    "H_0 &:& \\mbox{it is true that } \\mu_P = \\mu_A = \\mu_J\n",
    "\\end{array}\n",
    "$$\n",
    "\n",
    "As a consequence, our alternative hypothesis is that at least one of the three different treatments is different from the others. It's a little trickier to write this mathematically, because (as we'll discuss) there are quite a few different ways in which the null hypothesis can be false. So for now we'll just write the alternative hypothesis like this:\n",
    "\n",
    "$$\n",
    "\\begin{array}{rcl}\n",
    "H_1 &:& \\mbox{it is *not* true that } \\mu_P = \\mu_A = \\mu_J\n",
    "\\end{array}\n",
    "$$\n",
    "\n",
    "This null hypothesis is a lot trickier to test than any of the ones we've seen previously. How shall we do it? A sensible guess would be to \"do an ANOVA\", since that's the title of the chapter, but it's not particularly clear why an \"analysis of *variances*\" will help us learn anything useful about the *means*. In fact, this is one of the biggest conceptual difficulties that people have when first encountering ANOVA. To see how this works, I find it most helpful to start by talking about variances. In fact, what I'm going to do is start by playing some mathematical games with the formula that describes the variance. That is, we'll start out by playing around with variances, and it will turn out that this gives us a useful tool for investigating means."
   ]
  },
  {
   "attachments": {},
   "cell_type": "markdown",
   "id": "9032c226",
   "metadata": {},
   "source": [
    "### Two formulas for the variance of $Y$\n",
    "\n",
    "Firstly, let's start by introducing some notation. We'll use $G$ to refer to the total number of groups. For our data set, there are three drugs, so there are $G=3$ groups. Next, we'll use $N$ to refer to the total sample size: there are a total of $N=18$ people in our data set. Similarly, let's use $N_k$ to denote the number of people in the $k$-th group. In our fake clinical trial, the sample size is $N_k = 6$ for all three groups.[^note1] Finally, we'll use $Y$ to denote the outcome variable: in our case, $Y$ refers to mood change. Specifically, we'll use $Y_{ik}$ to refer to the mood change experienced by the $i$-th member of the $k$-th group. Similarly, we'll use $\\bar{Y}$ to be the average mood change, taken across all 18 people in the experiment, and $\\bar{Y}_k$ to refer to the average mood change experienced by the 6 people in group $k$.  \n",
    "\n",
    "Excellent. Now that we've got our notation sorted out, we can start writing down formulas. To start with, let's recall the formula for the variance that we used in, way back in those [kinder days](var) when we were just doing descriptive statistics. The sample variance of $Y$ is defined as follows:\n",
    "\n",
    "$$\n",
    "\\mbox{Var}(Y) = \\frac{1}{N} \\sum_{k=1}^G \\sum_{i=1}^{N_k} \\left(Y_{ik} - \\bar{Y} \\right)^2\n",
    "$$\n",
    "\n",
    "This formula looks pretty much identical to the formula for the variance that we [used earlier](var) in the chapter on descriptive statistics. The only difference is that this time around I've got two summations here: I'm summing over groups (i.e., values for $k$) and over the people within the groups (i.e., values for $i$). This is purely a cosmetic detail: if I'd instead used the notation $Y_p$ to refer to the value of the outcome variable for person $p$ in the sample, then I'd only have a single summation. The only reason that we have a double summation here is that I've classified people into groups, and then assigned numbers to people within groups. \n",
    "\n",
    "A concrete example might be useful here. Let's consider this table, in which we have a total of $N=5$ people sorted into $G=2$ groups. Arbitrarily, let's say that the \"cool\" people are group 1, and the \"uncool\" people are group 2, and it turns out that we have three cool people ($N_1 = 3$) and two uncool people ($N_2 = 2$)."
   ]
  },
  {
   "attachments": {},
   "cell_type": "markdown",
   "id": "162d74d6",
   "metadata": {},
   "source": [
    "|name |person ($p$) |group  |group num ($k$) |index in group ($i$) |grumpiness ($Y_{ik}$ or $Y_p$) |\n",
    "|:----|:------------|:------|:---------------|:--------------------|:------------------------------|\n",
    "|Ann  |1            |cool   |1               |1                    |20                             |\n",
    "|Ben  |2            |cool   |1               |2                    |55                             |\n",
    "|Cat  |3            |cool   |1               |3                    |21                             |\n",
    "|Dan  |4            |uncool |2               |1                    |91                             |\n",
    "|Egg  |5            |uncool |2               |2                    |22                             |"
   ]
  },
  {
   "attachments": {},
   "cell_type": "markdown",
   "id": "6148d7f7",
   "metadata": {},
   "source": [
    "Notice that I've constructed two different labelling schemes here. We have a \"person\" variable $p$, so it would be perfectly sensible to refer to $Y_p$ as the grumpiness of the $p$-th person in the sample. For instance, the table shows that Dan is the fourth person, so we'd say $p = 4$. So, when talking about the grumpiness $Y$ of this \"Dan\" person, whoever they might be, we could refer to Dan's grumpiness by saying that $Y_p = 91$, for person $p = 4$ that is.  However, that's not the only way we could refer to Dan. As an alternative, we could note that Dan belongs to the \"uncool\" group ($k = 2$), and is in fact the first person listed in the uncool group ($i = 1$). So it's equally valid to refer to Dan's grumpiness by saying that $Y_{ik} = 91$, where $k = 2$ and $i = 1$. In other words, each person $p$ corresponds to a unique $ik$ combination, and so the formula that I gave above is actually identical to our original formula for the variance, which would be\n",
    "\n",
    "$$\n",
    "\\mbox{Var}(Y) = \\frac{1}{N} \\sum_{p=1}^N  \\left(Y_{p} - \\bar{Y} \\right)^2\n",
    "$$\n",
    "\n",
    "In both formulas, all we're doing is summing over all of the observations in the sample. Most of the time we would just use the simpler $Y_p$ notation: the equation using $Y_p$ is clearly the simpler of the two. However, when doing an ANOVA it's important to keep track of which participants belong in which groups, and we need to use the $Y_{ik}$ notation to do this. "
   ]
  },
  {
   "attachments": {},
   "cell_type": "markdown",
   "id": "67523957",
   "metadata": {},
   "source": [
    "### From variances to sums of squares\n",
    "\n",
    "Okay, now that we've got a good grasp on how the variance is calculated, let's define something called the **_total sum of squares_**, which is denoted SS$_{tot}$. This is very simple: instead of averaging the squared deviations, which is what we do when calculating the variance, we just add them up. So the formula for the total sum of squares is almost identical to the formula for the variance:\n",
    "\n",
    "$$\n",
    "\\mbox{SS}_{tot} = \\sum_{k=1}^G \\sum_{i=1}^{N_k} \\left(Y_{ik} - \\bar{Y} \\right)^2\n",
    "$$ \n",
    "\n",
    "When we talk about analysing variances in the context of ANOVA, what we're really doing is working with the total sums of squares rather than the actual variance. One very nice thing about the total sum of squares is that we can break it up into two different kinds of variation. Firstly, we can talk about the **_within-group sum of squares_**, in which we look to see how different each individual person is from their own group mean:\n",
    "\n",
    "$$\n",
    "\\mbox{SS}_w = \\sum_{k=1}^G \\sum_{i=1}^{N_k} \\left( Y_{ik} - \\bar{Y}_k \\right)^2\n",
    "$$\n",
    "\n",
    "where $\\bar{Y}_k$ is a group mean. In our example, $\\bar{Y}_k$ would be the average mood change experienced by those people given  the $k$-th drug. So, instead of comparing individuals to the average of *all* people in the experiment, we're only comparing them to those people in the the same group. As a consequence, you'd expect the value of $\\mbox{SS}_w$ to be smaller than the total sum of squares, because it's completely ignoring any group differences -- that is, the fact that the drugs (if they work) will have different effects on people's moods.\n",
    " \n",
    "Next, we can define a third notion of variation which captures *only* the differences between groups. We do this by looking at the differences between the group means $\\bar{Y}_k$ and grand mean $\\bar{Y}$. In order to quantify the extent of this variation, what we do is calculate the **_between-group sum of squares_**:\n",
    "\n",
    "$$\n",
    "\\begin{array}{rcl}\n",
    "\\mbox{SS}_{b} &=& \\sum_{k=1}^G \\sum_{i=1}^{N_k} \\left( \\bar{Y}_k - \\bar{Y} \\right)^2\n",
    " \\\\\n",
    "&=& \\sum_{k=1}^G N_k \\left( \\bar{Y}_k - \\bar{Y} \\right)^2\n",
    "\\end{array}\n",
    "$$\n",
    "\n",
    "It's not too difficult to show that the total variation among people in the experiment $\\mbox{SS}_{tot}$ is actually the sum of the differences between the groups $\\mbox{SS}_b$ and the variation inside the groups $\\mbox{SS}_w$. That is:\n",
    "\n",
    "$$\n",
    "\\mbox{SS}_w  + \\mbox{SS}_{b} = \\mbox{SS}_{tot}\n",
    "$$\n",
    "\n",
    "Yay."
   ]
  },
  {
   "cell_type": "code",
   "execution_count": 5,
   "id": "d62b8ec9",
   "metadata": {
    "tags": [
     "hide-input"
    ]
   },
   "outputs": [
    {
     "data": {
      "application/papermill.record/image/png": "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",
      "application/papermill.record/text/plain": "<Figure size 1500x500 with 2 Axes>"
     },
     "metadata": {
      "scrapbook": {
       "mime_prefix": "application/papermill.record/",
       "name": "anovavar_fig"
      }
     },
     "output_type": "display_data"
    }
   ],
   "source": [
    "\n",
    "import numpy as np\n",
    "from scipy import stats\n",
    "from matplotlib import pyplot as plt\n",
    "\n",
    "mu1 = -4\n",
    "mu2 = -.25\n",
    "mu3 = 3.5\n",
    "sigma = 2\n",
    "\n",
    "\n",
    "x1 = np.linspace(mu1 - 4*sigma, mu1 + 4*sigma, 100)\n",
    "y1 = 100* stats.norm.pdf(x1, mu1, sigma)\n",
    "x2 = np.linspace(mu2 - 4*sigma, mu2 + 4*sigma, 100)\n",
    "y2 = 100* stats.norm.pdf(x2, mu2, sigma)\n",
    "x3 = np.linspace(mu3 - 4*sigma, mu3 + 4*sigma, 100)\n",
    "y3 = 100* stats.norm.pdf(x3, mu3, sigma)\n",
    "\n",
    "\n",
    "fig, (ax1, ax2) = plt.subplots(1, 2, figsize=(15, 5))\n",
    "\n",
    "\n",
    "sns.lineplot(x=x1,y=y1, color='black', ax = ax1)\n",
    "sns.lineplot(x=x2,y=y2, color='black', ax = ax1)\n",
    "sns.lineplot(x=x3,y=y3, color='black', ax = ax1)\n",
    "\n",
    "sns.lineplot(x=x1,y=y1, color='black', ax = ax2)\n",
    "sns.lineplot(x=x2,y=y2, color='black', ax = ax2)\n",
    "sns.lineplot(x=x3,y=y3, color='black', ax = ax2)\n",
    "\n",
    "ax1.text(0, 24, 'Between−group variation', size=20, ha=\"center\")\n",
    "ax1.text(0, 22, '(i.e., differences among group means))', size=20, ha=\"center\")\n",
    "\n",
    "ax2.text(0, 24, 'Within−group variation', size=20, ha=\"center\")\n",
    "ax2.text(0, 22, '(i.e., deviations from group means)', size=20, ha=\"center\")\n",
    "\n",
    "\n",
    "ax1.annotate(text = '', xy = (mu1,18), xytext = (mu2,18), arrowprops = dict(arrowstyle='<->'))\n",
    "ax1.annotate(text = '', xy = (mu2,18), xytext = (mu3,18), arrowprops = dict(arrowstyle='<->'))\n",
    "ax1.annotate(text = '', xy = (mu1,16), xytext = (mu3,16), arrowprops = dict(arrowstyle='<->'))\n",
    "\n",
    "ax2.annotate(text = '', xy = (mu1-(sigma/2),18), xytext = (mu1+(sigma/2),18), arrowprops = dict(arrowstyle='<->'))\n",
    "ax2.annotate(text = '', xy = (mu2-(sigma/2),18), xytext = (mu2+(sigma/2),18), arrowprops = dict(arrowstyle='<->'))\n",
    "ax2.annotate(text = '', xy = (mu3-(sigma/2),18), xytext = (mu3+(sigma/2),18), arrowprops = dict(arrowstyle='<->'))\n",
    "\n",
    "\n",
    "ax1.annotate(text = 'A', xy = (-12,16), size = 20)\n",
    "ax2.annotate(text = 'B', xy = (-12,16), size = 20)\n",
    "\n",
    "\n",
    "ax1.set_frame_on(False)\n",
    "ax2.set_frame_on(False)\n",
    "ax1.get_yaxis().set_visible(False)\n",
    "ax2.get_yaxis().set_visible(False)\n",
    "ax1.get_xaxis().set_visible(False)\n",
    "ax2.get_xaxis().set_visible(False)\n",
    "ax1.axhline(y=0, color='black')\n",
    "ax2.axhline(y=0, color='black')\n",
    "\n",
    "# show the figure in the book with caption\n",
    "plt.close()\n",
    "from myst_nb import glue\n",
    "glue(\"anovavar_fig\", fig, display=False)"
   ]
  },
  {
   "attachments": {},
   "cell_type": "markdown",
   "id": "3168985d",
   "metadata": {},
   "source": [
    " ```{glue:figure} anovavar_fig\n",
    ":figwidth: 600px\n",
    ":name: fig-anovavar\n",
    "\n",
    "Graphical illustration of “between groups” variation (panel A) and “within groups” variation (panel B). On the left, the arrows show the differences in the group means; on the right, the arrows highlight the variability within each group.\n",
    "```"
   ]
  },
  {
   "attachments": {},
   "cell_type": "markdown",
   "id": "46266e85",
   "metadata": {},
   "source": [
    "Okay, so what have we found out? We've discovered that the total variability associated with the outcome variable ($\\mbox{SS}_{tot}$) can be mathematically carved up into the sum of \"the variation due to the differences in the sample means for the different groups\" ($\\mbox{SS}_{b}$) plus \"all the rest of the variation\" ($\\mbox{SS}_{w}$). How does that help me find out whether the groups have different population means? Um. Wait. Hold on a second... now that I think about it, this is *exactly* what we were looking for. If the null hypothesis is true, then you'd expect all the sample means to be pretty similar to each other, right? And that would imply that you'd expect $\\mbox{SS}_{b}$ to be really small, or at least you'd expect it to be a lot smaller than the \"the variation associated with everything else\", $\\mbox{SS}_{w}$. Hm. I detect a hypothesis test coming on...\n",
    "\n",
    "### From sums of squares to the $F$-test\n",
    "\n",
    "As we saw in the last section, the *qualitative* idea behind ANOVA is to compare the two sums of squares values $\\mbox{SS}_b$ and $\\mbox{SS}_w$ to each other: if the between-group variation is $\\mbox{SS}_b$ is large relative to the within-group variation $\\mbox{SS}_w$ then we have reason to suspect that the population means for the different groups aren't identical to each other. In order to convert this into a workable hypothesis test, there's a little bit of \"fiddling around\" needed. What I'll do is first show you *what* we do to calculate our test statistic -- which is called an **_$F$ ratio_** -- and then try to give you a feel for *why* we do it this way. \n",
    "\n",
    "In order to convert our SS values into an $F$-ratio, the first thing we need to calculate is the **_degrees of freedom_** associated with the SS$_b$ and SS$_w$ values. As usual, the degrees of freedom corresponds to the number of unique \"data points\" that contribute to a particular calculation, minus the number of \"constraints\" that they need to satisfy. For the within-groups variability, what we're calculating is the variation of the individual observations ($N$ data points) around the group means ($G$ constraints). In contrast, for the between groups variability, we're interested in the variation of the group means ($G$ data points) around the grand mean (1 constraint). Therefore, the degrees of freedom here are:\n",
    "\n",
    "$$\n",
    "\\begin{array}{lcl}\n",
    "\\mbox{df}_b &=& G-1 \\\\\n",
    "\\mbox{df}_w &=& N-G \\\\\n",
    "\\end{array}\n",
    "$$\n",
    "\n",
    "Okay, that seems simple enough. What we do next is convert our summed squares value into a \"mean squares\" value, which we do by dividing by the degrees of freedom: \n",
    "\n",
    "$$\n",
    "\\begin{array}{lcl}\n",
    "\\mbox{MS}_b &=& \\displaystyle\\frac{\\mbox{SS}_b }{ \\mbox{df}_b} \\\\\n",
    "\\mbox{MS}_w &=& \\displaystyle\\frac{\\mbox{SS}_w }{ \\mbox{df}_w} \n",
    "\\end{array}\n",
    "$$\n",
    "\n",
    "Finally, we calculate the $F$-ratio by dividing the between-groups MS by the within-groups MS:\n",
    "\n",
    "$$\n",
    "F = \\frac{\\mbox{MS}_b }{ \\mbox{MS}_w } \n",
    "$$\n",
    "\n",
    "At a very general level, the intuition behind the $F$ statistic is straightforward: bigger values of $F$ means that the between-groups variation is large, relative to the within-groups variation. As a consequence, the larger the value of $F$, the more evidence we have against the null hypothesis. But how large does $F$ have to be in order to actually *reject* $H_0$? In order to understand this, you need a slightly deeper understanding of what ANOVA is and what the mean squares values actually are. \n",
    "\n",
    "The next section discusses that in a bit of detail, but for readers that aren't interested in the details of what the test is actually measuring, I'll cut to the chase. In order to complete our hypothesis test, we need to know the sampling distribution for $F$ if the null hypothesis is true. Not surprisingly, the sampling distribution for the $F$ *statistic* under the null hypothesis is an $F$ *distribution*. If you recall back to our discussion of the $F$ distribution in [](probability), the $F$ distribution has two parameters, corresponding to the two degrees of freedom involved: the first one df$_1$ is the between groups degrees of freedom df$_b$, and the second one df$_2$ is the within groups degrees of freedom df$_w$. \n",
    "\n",
    "A summary of all the key quantities involved in a one-way ANOVA, including the formulas showing how they are calculated, is shown in the table below:"
   ]
  },
  {
   "attachments": {},
   "cell_type": "markdown",
   "id": "228a9725",
   "metadata": {},
   "source": [
    "|               |df                  |sum of squares                                                     |mean squares                                     |$F$ statistic                            |$p$ value     |\n",
    "|:--------------|:-------------------|:------------------------------------------------------------------|:------------------------------------------------|:----------------------------------------|:-------------|\n",
    "|between groups |$\\mbox{df}_b = G-1$ |SS$_b = \\displaystyle\\sum_{k=1}^G N_k (\\bar{Y}_k - \\bar{Y})^2$     |$\\mbox{MS}_b = \\frac{\\mbox{SS}_b}{\\mbox{df}_b}$  |$F = \\frac{\\mbox{MS}_b }{ \\mbox{MS}_w }$ |[complicated] |\n",
    "|within groups  |$\\mbox{df}_w = N-G$ |SS$_w = \\sum_{k=1}^G \\sum_{i = 1}^{N_k} ( {Y}_{ik} - \\bar{Y}_k)^2$ |$\\mbox{MS}_w =  \\frac{\\mbox{SS}_w}{\\mbox{df}_w}$ |-                                        |-             |\n"
   ]
  },
  {
   "attachments": {},
   "cell_type": "markdown",
   "id": "20868a2c",
   "metadata": {},
   "source": [
    "(anovamodel)=\n",
    "### The model for the data and the meaning of $F$ (advanced)\n",
    "\n",
    "At a fundamental level, ANOVA is a competition between two different statistical models, $H_0$ and $H_1$. When I described the null and alternative hypotheses at the start of the section, I was a little imprecise about what these models actually are. I'll remedy that now, though you probably won't like me for doing so. If you recall, our null hypothesis was that all of the group means are identical to one another. If so, then a natural way to think about the outcome variable $Y_{ik}$ is to describe individual scores in terms of a single population mean $\\mu$, plus the deviation from that population mean. This deviation is usually denoted $\\epsilon_{ik}$ and is traditionally called the *error* or **_residual_** associated with that observation. Be careful though: just like we saw with the word \"significant\", the word \"error\" has a technical meaning in statistics that isn't quite the same as its everyday English definition. In everyday language, \"error\" implies a mistake of some kind; in statistics, it doesn't (or at least, not necessarily). With that in mind, the word \"residual\" is a better term than the word \"error\". In statistics, both words mean \"leftover variability\": that is, \"stuff\" that the model can't explain. In any case, here's what the null hypothesis looks like when we write it as a statistical model:\n",
    "\n",
    "$$\n",
    "Y_{ik} = \\mu + \\epsilon_{ik}\n",
    "$$\n",
    "\n",
    "where we make the *assumption* (discussed later) that the residual values $\\epsilon_{ik}$ are normally distributed, with mean 0 and a standard deviation $\\sigma$ that is the same for all groups. To use the notation that we introduced in the [chapter on probability](probability) we would write this assumption like this:\n",
    "\n",
    "$$\n",
    "\\epsilon_{ik} \\sim \\mbox{Normal}(0, \\sigma^2)\n",
    "$$\n",
    "\n",
    "What about the alternative hypothesis, $H_1$? The only difference between the null hypothesis and the alternative hypothesis is that we allow each group to have a different population mean. So, if we let $\\mu_k$ denote the population mean for the $k$-th group in our experiment, then the statistical model corresponding to $H_1$ is:\n",
    "\n",
    "$$\n",
    "Y_{ik} = \\mu_k + \\epsilon_{ik}\n",
    "$$\n",
    "\n",
    "where, once again, we assume that the error terms are normally distributed with mean 0 and standard deviation $\\sigma$. That is, the alternative hypothesis also assumes that \n",
    "\n",
    "$$\n",
    "\\epsilon_{ik} \\sim \\mbox{Normal}(0, \\sigma^2)\n",
    "$$\n",
    "\n",
    "Okay, now that we've described the statistical models underpinning $H_0$ and $H_1$ in more detail, it's now pretty straightforward to say what the mean square values are measuring, and what this means for the interpretation of $F$. I won't bore you with the proof of this, but it turns out that the within-groups mean square, MS$_w$, can be viewed as an estimator (in the technical sense: [estimation](estimation) of the error variance $\\sigma^2$.  The between-groups mean square MS$_b$ is also an estimator; but what it estimates is the error variance *plus* a quantity that depends on the true differences among the group means. If we call this quantity $Q$, then we can see that the $F$-statistic is basically [^note2]\n",
    "\n",
    "$$\n",
    "F = \\frac{\\hat{Q} + \\hat\\sigma^2}{\\hat\\sigma^2}\n",
    "$$\n",
    "\n",
    "where the true value $Q=0$ if the null hypothesis is true, and $Q > 0$ if the alternative hypothesis is true (if you must know more, than check out chapter 10 of {cite}`Hays1994`). Therefore, at a bare minimum *the $F$ value must be larger than 1* to have any chance of rejecting the null hypothesis. Note that this *doesn't* mean that it's impossible to get an $F$-value less than 1. What it means is that, if the null hypothesis is true, then the sampling distribution of the $F$ ratio has a mean of 1,[^note3] and so we need to see $F$-values larger than 1 in order to safely reject the null.\n",
    "\n",
    "To be a bit more precise about the sampling distribution, notice that if the null hypothesis is true, both MS$_b$ and MS$_w$ are estimators of the variance of the residuals $\\epsilon_{ik}$. If those residuals are normally distributed, then you might suspect that the estimate of the variance of $\\epsilon_{ik}$ is chi-square distributed... because (as discussed [much earlier](otherdists)) that's what a chi-square distribution *is*: it's what you get when you square a bunch of normally-distributed things and add them up. And since the $F$ distribution is (again, by definition) what you get when you take the ratio between two things that are $\\chi^2$ distributed... we have our sampling distribution. Obviously, I'm glossing over a whole lot of stuff when I say this, but in broad terms, this really is where our sampling distribution comes from."
   ]
  },
  {
   "attachments": {},
   "cell_type": "markdown",
   "id": "42758f34",
   "metadata": {},
   "source": [
    "(anovacalc)=\n",
    "### A worked example\n",
    "\n",
    "The previous discussion was fairly abstract, and a little on the technical side, so I think that at this point it might be useful to see a worked example. For that, let's go back to the clinical trial data that I introduced at the start of the chapter. The descriptive statistics that we calculated at the beginning tell us our group means: an average mood gain of 0.45 for the placebo, 0.72 for Anxifree, and 1.48 for Joyzepam. With that in mind, let's party like it's 1899 [^note4] and  start doing some pencil and paper calculations. I'll only do this for the first 5 observations, because it's not bloody 1899 and I'm very lazy. Let's start by calculating $\\mbox{SS}_{w}$, the within-group sums of squares. First, let's draw up a nice table to help us with our calculations... "
   ]
  },
  {
   "attachments": {},
   "cell_type": "markdown",
   "id": "ac05a567",
   "metadata": {},
   "source": [
    "\n",
    "|group ($k$) |outcome ($Y_{ik}$) |\n",
    "|:-----------|:------------------|\n",
    "|placebo     |0.5                |\n",
    "|placebo     |0.3                |\n",
    "|placebo     |0.1                |\n",
    "|anxifree    |0.6                |\n",
    "|anxifree    |0.4                |"
   ]
  },
  {
   "attachments": {},
   "cell_type": "markdown",
   "id": "6f6ec067",
   "metadata": {},
   "source": [
    "At this stage, the only thing I've included in the table is the raw data itself: that is, the grouping variable (i.e., `drug`) and outcome variable (i.e. `mood_gain`) for each person. Note that the outcome variable here corresponds to the $Y_{ik}$ value in our equation previously. The next step in the calculation is to write down, for each person in the study, the corresponding group mean; that is, $\\bar{Y}_k$. This is slightly repetitive, but not particularly difficult since we already calculated those group means when doing our descriptive statistics:"
   ]
  },
  {
   "attachments": {},
   "cell_type": "markdown",
   "id": "5e5d842c",
   "metadata": {},
   "source": [
    "\n",
    "|group ($k$) |outcome ($Y_{ik}$) |**group mean** ($\\bar{Y}_k$) |\n",
    "|:-----------|:------------------|:----------------------------|\n",
    "|placebo     |0.5                |**0.45**                     |\n",
    "|placebo     |0.3                |**0.45**                     |\n",
    "|placebo     |0.1                |**0.45**                     |\n",
    "|anxifree    |0.6                |**0.72**                     |\n",
    "|anxifree    |0.4                |**0.72**                     |"
   ]
  },
  {
   "attachments": {},
   "cell_type": "markdown",
   "id": "08ab43c5",
   "metadata": {},
   "source": [
    "\n",
    "\n",
    "Now that we've written those down, we need to calculate -- again for every person -- the deviation from the corresponding group mean. That is, we want to subtract $Y_{ik} - \\bar{Y}_k$. After we've done that, we need to square everything. When we do that, here's what we get:"
   ]
  },
  {
   "attachments": {},
   "cell_type": "markdown",
   "id": "0b55d8a3",
   "metadata": {},
   "source": [
    "\n",
    "|group ($k$) |outcome ($Y_{ik}$) |group mean ($\\bar{Y}_k$) |**dev. from group mean** ($Y_{ik} - \\bar{Y}_{k}$) |**squared deviation** ($(Y_{ik} - \\bar{Y}_{k})^2$) |\n",
    "|:-----------|:------------------|:------------------------|:--------------------------------------------------|:--------------------------------------------------|\n",
    "|placebo     |0.5                |0.45                     |**0.05**                                           |**0.0025**                                         |\n",
    "|placebo     |0.3                |0.45                     |**-0.15**                                          |**0.0225**                                         |\n",
    "|placebo     |0.1                |0.45                     |**-0.35**                                          |**0.1225**                                         |\n",
    "|anxifree    |0.6                |0.72                     |**-0.12**                                          |**0.0136**                                         |\n",
    "|anxifree    |0.4                |0.72                     |**-0.32**                                          |**0.1003**                                         |\n"
   ]
  },
  {
   "attachments": {},
   "cell_type": "markdown",
   "id": "1ec36aa0",
   "metadata": {},
   "source": [
    "The last step is equally straightforward. In order to calculate the within-group sum of squares, we just add up  the squared deviations across all observations:\n",
    "\n",
    "$$\n",
    "\\begin{array}{rcl}\n",
    "\\mbox{SS}_w &=& 0.0025 + 0.0225 + 0.1225 + 0.0136 + 0.1003 \\\\\n",
    "&=& 0.2614\n",
    "\\end{array}\n",
    "$$\n",
    "\n",
    "Of course, if we actually wanted to get the *right* answer, we'd need to do this for all 18 observations in the data set, not just the first five. We could continue with the pencil and paper calculations if we wanted to, but it's pretty tedious. Alternatively, click the button to see how we can get Python to do this tedious work for us [^tedium]:\n",
    "\n",
    "[^tedium]: Ok, I suppose you could make a pretty solid case that writing all this code to do a bit of multiplication and substraction is also tedious, but I would counter your argument by pointing out that coding your way to these solutions has the benefit of being reproducible (if you later discover a mistake, you can trace it back and fix it) and resusable (next time you want to do solve a similar problem, you can take your old code and modify it, because now you already know how to do that sort of thing). Plus, doing it by hand is maybe ok for 18 participants, but what if you had a study with five hundred or a thousand participants, hmmm...?"
   ]
  },
  {
   "cell_type": "code",
   "execution_count": 6,
   "id": "83ea7d72",
   "metadata": {
    "tags": [
     "hide-input"
    ]
   },
   "outputs": [],
   "source": [
    "# select the columns from the dataframe with the group and outcome measure data\n",
    "# this is not strictly necessary, but it makes it clearer what we are doing when we plug these data back into the new dataframe Y\n",
    "group = df['drug']\n",
    "outcome = df['mood_gain']\n",
    "\n",
    "# make a new dataframe called grouped, in which our data are associated by which group (drug treatment) the participant was in\n",
    "grouped = df.groupby('drug')\n",
    "\n",
    "# make a dataframe with the mean values for each group\n",
    "gp_means = grouped.mean(numeric_only=True)\n",
    "\n",
    "# flatten the indices of the new dataframe gp_means, because multiindices can be pretty annoying\n",
    "gp_means.reset_index(inplace=True)\n",
    "\n",
    "# make a list (grouped_means) that the is the length of the number of participants (which we get from the length of the variable \"group\",\n",
    "# which contained all the rows of the original dataframe)\n",
    "grouped_means = [0]*len(group)\n",
    "\n",
    "# go through every row in the dataframe \"gp_means\", which contains the names of the three drugs,\n",
    "# then check in every row of the variable group (which contains the drug name for each participant)\n",
    "# and if the drug names match, put the mean mood gain in the corresponding row of \"grouped_means\"\n",
    "for s, val in enumerate(gp_means['drug']):\n",
    "    for x, drug in enumerate(group):\n",
    "        if val == drug:\n",
    "            grouped_means[x] = round(gp_means['mood_gain'][s],2)\n",
    "\n",
    "# build a new dataframe Y with a row for each participant, with columns for drug name (group), each participants' outcome (mood gain),\n",
    "# and the average (mean) mood gain for all particpants who were in the same treatment group.\n",
    "Y = pd.DataFrame(\n",
    "    {'group': group,\n",
    "     'outcome': outcome,\n",
    "     'group_means': grouped_means\n",
    "    }) \n",
    "\n",
    "# add a column to the dataframe Y showing the distance (residual) of each individual from their group's mean\n",
    "Y['dev_from_group_means'] = Y['outcome'] - Y['group_means']\n",
    "\n",
    "# add a column to the dataframe Y with the same values as the column before (residuals), but squared (multiplied by themeselves)\n",
    "Y['squared_devs'] = Y['dev_from_group_means']**2\n"
   ]
  },
  {
   "attachments": {},
   "cell_type": "markdown",
   "id": "94da7078",
   "metadata": {},
   "source": [
    "This is where the basic Python [skills](getting-started-with-python), programming [skills](programming), and data-wrangling [skills](datawrangling) you learned way back at the beginning of this book really start to pay off. It might not be obvious from inspection what these commands are doing: as a general rule, the human brain seems to just shut down when faced with a big block of programming. However, I strongly suggest that -- if you're like me and tend to find that the mere sight of this code makes you want to look away and see if there's any beer left in the fridge or a game of footy on the telly -- you take a moment and look closely at these commands, and the many comments I have written, one at a time. Every single one of these commands is something you've seen before somewhere else in the book. There's nothing novel about them (though I admit that `reset_index` has appeared only once, and there aren't many nested `for` statements in this book), so if you're not quite sure how these commands work, this might be a good time to try playing around with them yourself, to try to get a sense of what's happening. On the other hand, if this does seem to make sense, then you won't be all that surprised at what happens when we look at the output of all this code, `Y`, and we see..."
   ]
  },
  {
   "cell_type": "code",
   "execution_count": 7,
   "id": "844010dc",
   "metadata": {},
   "outputs": [
    {
     "data": {
      "text/html": [
       "<div>\n",
       "<style scoped>\n",
       "    .dataframe tbody tr th:only-of-type {\n",
       "        vertical-align: middle;\n",
       "    }\n",
       "\n",
       "    .dataframe tbody tr th {\n",
       "        vertical-align: top;\n",
       "    }\n",
       "\n",
       "    .dataframe thead th {\n",
       "        text-align: right;\n",
       "    }\n",
       "</style>\n",
       "<table border=\"1\" class=\"dataframe\">\n",
       "  <thead>\n",
       "    <tr style=\"text-align: right;\">\n",
       "      <th></th>\n",
       "      <th>group</th>\n",
       "      <th>outcome</th>\n",
       "      <th>group_means</th>\n",
       "      <th>dev_from_group_means</th>\n",
       "      <th>squared_devs</th>\n",
       "    </tr>\n",
       "  </thead>\n",
       "  <tbody>\n",
       "    <tr>\n",
       "      <th>0</th>\n",
       "      <td>placebo</td>\n",
       "      <td>0.5</td>\n",
       "      <td>0.45</td>\n",
       "      <td>0.05</td>\n",
       "      <td>0.0025</td>\n",
       "    </tr>\n",
       "    <tr>\n",
       "      <th>1</th>\n",
       "      <td>placebo</td>\n",
       "      <td>0.3</td>\n",
       "      <td>0.45</td>\n",
       "      <td>-0.15</td>\n",
       "      <td>0.0225</td>\n",
       "    </tr>\n",
       "    <tr>\n",
       "      <th>2</th>\n",
       "      <td>placebo</td>\n",
       "      <td>0.1</td>\n",
       "      <td>0.45</td>\n",
       "      <td>-0.35</td>\n",
       "      <td>0.1225</td>\n",
       "    </tr>\n",
       "    <tr>\n",
       "      <th>3</th>\n",
       "      <td>anxifree</td>\n",
       "      <td>0.6</td>\n",
       "      <td>0.72</td>\n",
       "      <td>-0.12</td>\n",
       "      <td>0.0144</td>\n",
       "    </tr>\n",
       "    <tr>\n",
       "      <th>4</th>\n",
       "      <td>anxifree</td>\n",
       "      <td>0.4</td>\n",
       "      <td>0.72</td>\n",
       "      <td>-0.32</td>\n",
       "      <td>0.1024</td>\n",
       "    </tr>\n",
       "    <tr>\n",
       "      <th>5</th>\n",
       "      <td>anxifree</td>\n",
       "      <td>0.2</td>\n",
       "      <td>0.72</td>\n",
       "      <td>-0.52</td>\n",
       "      <td>0.2704</td>\n",
       "    </tr>\n",
       "    <tr>\n",
       "      <th>6</th>\n",
       "      <td>joyzepam</td>\n",
       "      <td>1.4</td>\n",
       "      <td>1.48</td>\n",
       "      <td>-0.08</td>\n",
       "      <td>0.0064</td>\n",
       "    </tr>\n",
       "    <tr>\n",
       "      <th>7</th>\n",
       "      <td>joyzepam</td>\n",
       "      <td>1.7</td>\n",
       "      <td>1.48</td>\n",
       "      <td>0.22</td>\n",
       "      <td>0.0484</td>\n",
       "    </tr>\n",
       "    <tr>\n",
       "      <th>8</th>\n",
       "      <td>joyzepam</td>\n",
       "      <td>1.3</td>\n",
       "      <td>1.48</td>\n",
       "      <td>-0.18</td>\n",
       "      <td>0.0324</td>\n",
       "    </tr>\n",
       "    <tr>\n",
       "      <th>9</th>\n",
       "      <td>placebo</td>\n",
       "      <td>0.6</td>\n",
       "      <td>0.45</td>\n",
       "      <td>0.15</td>\n",
       "      <td>0.0225</td>\n",
       "    </tr>\n",
       "    <tr>\n",
       "      <th>10</th>\n",
       "      <td>placebo</td>\n",
       "      <td>0.9</td>\n",
       "      <td>0.45</td>\n",
       "      <td>0.45</td>\n",
       "      <td>0.2025</td>\n",
       "    </tr>\n",
       "    <tr>\n",
       "      <th>11</th>\n",
       "      <td>placebo</td>\n",
       "      <td>0.3</td>\n",
       "      <td>0.45</td>\n",
       "      <td>-0.15</td>\n",
       "      <td>0.0225</td>\n",
       "    </tr>\n",
       "    <tr>\n",
       "      <th>12</th>\n",
       "      <td>anxifree</td>\n",
       "      <td>1.1</td>\n",
       "      <td>0.72</td>\n",
       "      <td>0.38</td>\n",
       "      <td>0.1444</td>\n",
       "    </tr>\n",
       "    <tr>\n",
       "      <th>13</th>\n",
       "      <td>anxifree</td>\n",
       "      <td>0.8</td>\n",
       "      <td>0.72</td>\n",
       "      <td>0.08</td>\n",
       "      <td>0.0064</td>\n",
       "    </tr>\n",
       "    <tr>\n",
       "      <th>14</th>\n",
       "      <td>anxifree</td>\n",
       "      <td>1.2</td>\n",
       "      <td>0.72</td>\n",
       "      <td>0.48</td>\n",
       "      <td>0.2304</td>\n",
       "    </tr>\n",
       "    <tr>\n",
       "      <th>15</th>\n",
       "      <td>joyzepam</td>\n",
       "      <td>1.8</td>\n",
       "      <td>1.48</td>\n",
       "      <td>0.32</td>\n",
       "      <td>0.1024</td>\n",
       "    </tr>\n",
       "    <tr>\n",
       "      <th>16</th>\n",
       "      <td>joyzepam</td>\n",
       "      <td>1.3</td>\n",
       "      <td>1.48</td>\n",
       "      <td>-0.18</td>\n",
       "      <td>0.0324</td>\n",
       "    </tr>\n",
       "    <tr>\n",
       "      <th>17</th>\n",
       "      <td>joyzepam</td>\n",
       "      <td>1.4</td>\n",
       "      <td>1.48</td>\n",
       "      <td>-0.08</td>\n",
       "      <td>0.0064</td>\n",
       "    </tr>\n",
       "  </tbody>\n",
       "</table>\n",
       "</div>"
      ],
      "text/plain": [
       "       group  outcome  group_means  dev_from_group_means  squared_devs\n",
       "0    placebo      0.5         0.45                  0.05        0.0025\n",
       "1    placebo      0.3         0.45                 -0.15        0.0225\n",
       "2    placebo      0.1         0.45                 -0.35        0.1225\n",
       "3   anxifree      0.6         0.72                 -0.12        0.0144\n",
       "4   anxifree      0.4         0.72                 -0.32        0.1024\n",
       "5   anxifree      0.2         0.72                 -0.52        0.2704\n",
       "6   joyzepam      1.4         1.48                 -0.08        0.0064\n",
       "7   joyzepam      1.7         1.48                  0.22        0.0484\n",
       "8   joyzepam      1.3         1.48                 -0.18        0.0324\n",
       "9    placebo      0.6         0.45                  0.15        0.0225\n",
       "10   placebo      0.9         0.45                  0.45        0.2025\n",
       "11   placebo      0.3         0.45                 -0.15        0.0225\n",
       "12  anxifree      1.1         0.72                  0.38        0.1444\n",
       "13  anxifree      0.8         0.72                  0.08        0.0064\n",
       "14  anxifree      1.2         0.72                  0.48        0.2304\n",
       "15  joyzepam      1.8         1.48                  0.32        0.1024\n",
       "16  joyzepam      1.3         1.48                 -0.18        0.0324\n",
       "17  joyzepam      1.4         1.48                 -0.08        0.0064"
      ]
     },
     "execution_count": 7,
     "metadata": {},
     "output_type": "execute_result"
    }
   ],
   "source": [
    "Y"
   ]
  },
  {
   "attachments": {},
   "cell_type": "markdown",
   "id": "0ecddfba",
   "metadata": {},
   "source": [
    "If you compare this output to the contents of the table I've been constructing by hand, you can see that Python has done exactly the same calculations that I was doing (albeit with a few miniscule differences due to rounding), and much faster too. So, if we want to finish the calculations of the within-group sum of squares in Python, we just ask for the `sum()` of the `squared_devs` variable:"
   ]
  },
  {
   "cell_type": "code",
   "execution_count": 8,
   "id": "80a7f44e",
   "metadata": {},
   "outputs": [
    {
     "data": {
      "text/plain": [
       "1.3918000000000001"
      ]
     },
     "execution_count": 8,
     "metadata": {},
     "output_type": "execute_result"
    }
   ],
   "source": [
    "SSw = Y['squared_devs'].sum()\n",
    "SSw"
   ]
  },
  {
   "attachments": {},
   "cell_type": "markdown",
   "id": "e2353437",
   "metadata": {},
   "source": [
    "Okay. Now that we've calculated the within groups variation, $\\mbox{SS}_w$, it's time to turn our attention to the between-group sum of squares, $\\mbox{SS}_b$. The calculations for this case are very similar. The main difference is that, instead of calculating the differences between an observation $Y_{ik}$ and a group mean $\\bar{Y}_k$ for all of the observations, we calculate the differences between the group means $\\bar{Y}_k$ and the grand mean $\\bar{Y}$ (in this case 0.88) for all of the groups..."
   ]
  },
  {
   "attachments": {},
   "cell_type": "markdown",
   "id": "037aee26",
   "metadata": {},
   "source": [
    "\n",
    "|group ($k$) |group mean ($\\bar{Y}_k$) |grand mean ($\\bar{Y}$) |deviation ($\\bar{Y}_{k} - \\bar{Y}$) |squared deviations ($(\\bar{Y}_{k} - \\bar{Y})^2$) |\n",
    "|:-----------|:------------------------|:----------------------|:-----------------------------------|:------------------------------------------------|\n",
    "|placebo     |0.45                     |0.88                   |-0.43                               |0.18                                             |\n",
    "|anxifree    |0.72                     |0.88                   |-0.16                               |0.03                                             |\n",
    "|joyzepam    |1.48                     |0.88                   |0.60                                |0.36                                             |"
   ]
  },
  {
   "attachments": {},
   "cell_type": "markdown",
   "id": "3fc9ea68",
   "metadata": {},
   "source": [
    "However, for the between group calculations we need to multiply each of these squared deviations by $N_k$, the number of observations in the group. We do this because every *observation* in the group (all $N_k$ of them) is associated with a between group difference. So if there are six people in the placebo group, and the placebo group mean differs from the grand mean by 0.19, then the *total* between group variation associated with these six people is $6 \\times 0.16 = 1.14$. So we have to extend our little table of calculations..."
   ]
  },
  {
   "attachments": {},
   "cell_type": "markdown",
   "id": "b2527b75",
   "metadata": {},
   "source": [
    "\n",
    "|group ($k$) |squared deviations ($(\\bar{Y}_{k} - \\bar{Y})^2$) |sample size ($N_k$) |weighted squared dev ($N_k (\\bar{Y}_{k} - \\bar{Y})^2$) |\n",
    "|:-----------|:------------------------------------------------|:-------------------|:------------------------------------------------------|\n",
    "|placebo     |0.18                                             |6                   |1.11                                                   |\n",
    "|anxifree    |0.03                                             |6                   |0.16                                                   |\n",
    "|joyzepam    |0.36                                             |6                   |2.18                                                   |\n"
   ]
  },
  {
   "attachments": {},
   "cell_type": "markdown",
   "id": "0da12255",
   "metadata": {},
   "source": [
    "And so now our between group sum of squares is obtained by summing these \"weighted squared deviations\" over all three groups in the study:\n",
    "\n",
    "$$\n",
    "\\begin{array}{rcl}\n",
    "\\mbox{SS}_{b} &=& 1.11 + 0.16 + 2.18 \\\\\n",
    "&=& 3.45\n",
    "\\end{array}\n",
    "$$\n",
    "\n",
    "\n",
    "As you can see, the between group calculations are a lot shorter, so you probably wouldn't usually want to bother using Python as your calculator. However, if you *did* decide to do so, here's one way you could do it:"
   ]
  },
  {
   "cell_type": "code",
   "execution_count": 9,
   "id": "443ce436",
   "metadata": {},
   "outputs": [],
   "source": [
    "grouped = df.groupby('drug')\n",
    "gp_means = grouped.mean(numeric_only=True)\n",
    "gp_means.reset_index(inplace=True)\n",
    "group = list(gp_means['drug'])\n",
    "gp_means = list(gp_means['mood_gain'])\n",
    "\n",
    "grand_mean = round(df['mood_gain'].mean(),2)\n",
    "grand_mean = [grand_mean]*3\n",
    "\n",
    "\n",
    "\n",
    "Y = pd.DataFrame(\n",
    "    {'group': group,\n",
    "     'gp_means': gp_means,\n",
    "     'grand_mean': grand_mean \n",
    "    }) \n",
    "\n",
    "Y['dev_from_grandmean'] = Y['gp_means'] - Y['grand_mean']\n",
    "Y['squared_devs'] = Y['dev_from_grandmean']**2\n",
    "\n",
    "xtab = pd.crosstab(index = df[\"drug\"], columns = \"count\")\n",
    "xtab.reset_index(inplace=True)\n",
    "\n",
    "Y['group_sizes'] = xtab['count']\n",
    "Y['weighted_squared_devs'] = Y['group_sizes'] * Y['squared_devs']\n",
    "\n",
    "\n"
   ]
  },
  {
   "attachments": {},
   "cell_type": "markdown",
   "id": "d2651792",
   "metadata": {},
   "source": [
    "I won't actually try to explain this code line by line this time, but -- just like last time -- there's nothing in there that we haven't seen in several places elsewhere in the book, so I'll leave it as an exercise for you to make sure you understand it. Once again, we can dump all our variables into a data frame so that we can print it out as a nice table:"
   ]
  },
  {
   "cell_type": "code",
   "execution_count": 10,
   "id": "3f6bc1f9",
   "metadata": {},
   "outputs": [
    {
     "data": {
      "text/html": [
       "<div>\n",
       "<style scoped>\n",
       "    .dataframe tbody tr th:only-of-type {\n",
       "        vertical-align: middle;\n",
       "    }\n",
       "\n",
       "    .dataframe tbody tr th {\n",
       "        vertical-align: top;\n",
       "    }\n",
       "\n",
       "    .dataframe thead th {\n",
       "        text-align: right;\n",
       "    }\n",
       "</style>\n",
       "<table border=\"1\" class=\"dataframe\">\n",
       "  <thead>\n",
       "    <tr style=\"text-align: right;\">\n",
       "      <th></th>\n",
       "      <th>group</th>\n",
       "      <th>gp_means</th>\n",
       "      <th>grand_mean</th>\n",
       "      <th>dev_from_grandmean</th>\n",
       "      <th>squared_devs</th>\n",
       "      <th>group_sizes</th>\n",
       "      <th>weighted_squared_devs</th>\n",
       "    </tr>\n",
       "  </thead>\n",
       "  <tbody>\n",
       "    <tr>\n",
       "      <th>0</th>\n",
       "      <td>anxifree</td>\n",
       "      <td>0.716667</td>\n",
       "      <td>0.88</td>\n",
       "      <td>-0.163333</td>\n",
       "      <td>0.026678</td>\n",
       "      <td>6</td>\n",
       "      <td>0.160067</td>\n",
       "    </tr>\n",
       "    <tr>\n",
       "      <th>1</th>\n",
       "      <td>joyzepam</td>\n",
       "      <td>1.483333</td>\n",
       "      <td>0.88</td>\n",
       "      <td>0.603333</td>\n",
       "      <td>0.364011</td>\n",
       "      <td>6</td>\n",
       "      <td>2.184067</td>\n",
       "    </tr>\n",
       "    <tr>\n",
       "      <th>2</th>\n",
       "      <td>placebo</td>\n",
       "      <td>0.450000</td>\n",
       "      <td>0.88</td>\n",
       "      <td>-0.430000</td>\n",
       "      <td>0.184900</td>\n",
       "      <td>6</td>\n",
       "      <td>1.109400</td>\n",
       "    </tr>\n",
       "  </tbody>\n",
       "</table>\n",
       "</div>"
      ],
      "text/plain": [
       "      group  gp_means  grand_mean  dev_from_grandmean  squared_devs  \\\n",
       "0  anxifree  0.716667        0.88           -0.163333      0.026678   \n",
       "1  joyzepam  1.483333        0.88            0.603333      0.364011   \n",
       "2   placebo  0.450000        0.88           -0.430000      0.184900   \n",
       "\n",
       "   group_sizes  weighted_squared_devs  \n",
       "0            6               0.160067  \n",
       "1            6               2.184067  \n",
       "2            6               1.109400  "
      ]
     },
     "execution_count": 10,
     "metadata": {},
     "output_type": "execute_result"
    }
   ],
   "source": [
    "Y"
   ]
  },
  {
   "attachments": {},
   "cell_type": "markdown",
   "id": "dc2855f0",
   "metadata": {},
   "source": [
    "Clearly, these are basically the same numbers that we got before. There are a few tiny differences, but that's only because the hand-calculated versions have some small errors caused by the fact that I rounded all my numbers to 2 decimal places at each step in the calculations, whereas Python only does it at the end (obviously, Python's version is more accurate). Anyway, here's the Python command showing the final step:"
   ]
  },
  {
   "cell_type": "code",
   "execution_count": 11,
   "id": "24ccbfe8",
   "metadata": {},
   "outputs": [
    {
     "data": {
      "text/plain": [
       "3.453533333333334"
      ]
     },
     "execution_count": 11,
     "metadata": {},
     "output_type": "execute_result"
    }
   ],
   "source": [
    "SSb = sum(Y['weighted_squared_devs'])\n",
    "SSb"
   ]
  },
  {
   "attachments": {},
   "cell_type": "markdown",
   "id": "c14f8756",
   "metadata": {},
   "source": [
    "which is (ignoring the slight differences due to rounding error) the same answer that I got when doing things by hand.\n",
    "\n",
    "Now that we've calculated our sums of squares values, $\\mbox{SS}_b$ and $\\mbox{SS}_w$, the rest of the ANOVA is pretty painless. The next step is to calculate the degrees of freedom. Since we have $G = 3$ groups and $N = 18$ observations in total, our degrees of freedom can be calculated by simple subtraction:\n",
    "\n",
    "$$\n",
    "\\begin{array}{lclcl}\n",
    "\\mbox{df}_b &=& G - 1 &=& 2 \\\\\n",
    "\\mbox{df}_w &=& N - G &=& 15 \n",
    "\\end{array}\n",
    "$$\n",
    "\n",
    "Next, since we've now calculated the values for the sums of squares and the degrees of freedom, for both the within-groups variability and the between-groups variability, we can obtain the mean square values by dividing one by the other:\n",
    "\n",
    "$$\n",
    "\\begin{array}{lclclcl}\n",
    "\\mbox{MS}_b &=& \\displaystyle\\frac{\\mbox{SS}_b }{  \\mbox{df}_b } &=& \\displaystyle\\frac{3.45}{ 2}  &=& 1.73\n",
    "\\end{array}\n",
    "$$\n",
    "\n",
    "$$\n",
    "\\begin{array}{lclclcl}\n",
    "\\mbox{MS}_w &=& \\displaystyle\\frac{\\mbox{SS}_w }{  \\mbox{df}_w } &=& \\displaystyle\\frac{1.39}{15} &=& 0.09\n",
    "\\end{array}\n",
    "$$\n",
    "\n",
    "We're almost done. The mean square values can be used to calculate the $F$-value, which is the test statistic that we're interested in. We do this by dividing the between-groups MS value by the and within-groups MS value.\n",
    "\n",
    "$$\n",
    "F \\ = \\ \\frac{\\mbox{MS}_b }{ \\mbox{MS}_w } \\ = \\ \\frac{1.73}{0.09} \\ = \\ 18.6\n",
    "$$"
   ]
  },
  {
   "attachments": {},
   "cell_type": "markdown",
   "id": "d5560864",
   "metadata": {},
   "source": [
    "Woohooo! This is terribly exciting, yes? Now that we have our test statistic, the last step is to find out whether the test itself gives us a significant result. As discussed back when we talked about [hypothesis testing](hypothesistesting), what we really *ought* to do is choose an $\\alpha$ level (i.e., acceptable Type I error rate) ahead of time, construct our rejection region, etc etc. But in practice it's just easier to directly calculate the $p$-value. Back in the \"old days\", what we'd do is open up a statistics textbook or something and flick to the back section which would actually have a huge lookup table... that's how we'd \"compute\" our $p$-value, because it's too much effort to do it any other way. However, since we have access to Python, I'll use the `stats.f.cdf()` method from `scipy` to do it instead.[^eveneasier]\n",
    "\n",
    "[^eveneasier]: In fact, in practice we won't do any of this stuff. As we'll see in a minute, there are already modules for Python that will just take care of all of these steps for us, including calculating the $p$-value. But we're still doing things \"by hand\" here, remember?"
   ]
  },
  {
   "cell_type": "code",
   "execution_count": 12,
   "id": "6e94ff10",
   "metadata": {},
   "outputs": [
    {
     "data": {
      "text/plain": [
       "8.672726890401883e-05"
      ]
     },
     "execution_count": 12,
     "metadata": {},
     "output_type": "execute_result"
    }
   ],
   "source": [
    "from scipy import stats\n",
    "p = 1-stats.f.cdf(18.6, 2, 15)\n",
    "p"
   ]
  },
  {
   "attachments": {},
   "cell_type": "markdown",
   "id": "f51f40d5",
   "metadata": {},
   "source": [
    "(onewayanovatable)=\n",
    "Therefore, our $p$-value comes to 0.0000867, or $8.67 \\times 10^{-5}$ in scientific notation. So, unless we're being *extremely* conservative about our Type I error rate, we're pretty much guaranteed to reject the null hypothesis. \n",
    "\n",
    "At this point, we're basically done. Having completed our calculations, it's traditional to organise all these numbers into an ANOVA table like the one below:"
   ]
  },
  {
   "attachments": {},
   "cell_type": "markdown",
   "id": "e2412737",
   "metadata": {},
   "source": [
    "\n",
    "|               |df |sum of squares |mean squares |$F$-statistic |$p$-value             |\n",
    "|:--------------|:--|:--------------|:------------|:-------------|:---------------------|\n",
    "|between groups |2  |3.45           |1.73         |18.6          |$8.67 \\times 10^{-5}$ |\n",
    "|within groups  |15 |1.39           |0.09         |-             |-                     |\n"
   ]
  },
  {
   "attachments": {},
   "cell_type": "markdown",
   "id": "22e9fa55",
   "metadata": {},
   "source": [
    "These days, you'll probably never have much reason to want to construct one of these tables yourself, but you *will* find that almost all statistical software tends to organise the output of an ANOVA into a table like this, so it's a good idea to get used to reading them. However, although the software will output a full ANOVA table, there's almost never a good reason to include the whole table in your write up. A pretty standard way of reporting this result would be to write something like this:\n",
    "\n",
    "> \"One-way ANOVA showed a significant effect of drug on mood gain ($F(2,15) = 18.6, p<.001$).\"\n",
    "\n",
    "Sigh. So much work for one short sentence."
   ]
  },
  {
   "attachments": {},
   "cell_type": "markdown",
   "id": "b899a069",
   "metadata": {},
   "source": [
    "(introduceaov)=\n",
    "## Running an ANOVA in Python\n",
    "\n",
    "I'm pretty sure I know what you're thinking after reading the last section, *especially* if you followed my advice and tried typing all the commands in yourself.... doing the ANOVA calculations yourself *sucks*. There's quite a lot of calculations that we needed to do along the way, and it would be tedious to have to do this over and over again every time you wanted to do an ANOVA. One possible solution to the problem would be to take all these calculations and turn them into some Python functions yourself. You'd still have to do a lot of typing, but at least you'd only have to do it the one time: once you've created the functions, you can reuse them over and over again. However, writing your own functions is a lot of work, so this is kind of a last resort. Besides, it's much better if someone else does all the work for you..."
   ]
  },
  {
   "attachments": {},
   "cell_type": "markdown",
   "id": "9f9c0be7",
   "metadata": {},
   "source": [
    "### Getting Python to calculate ANOVA for you\n",
    "\n",
    "Now, as you can imagine, there are several Python modules available that provided tools for taking the pain out calculating ANOVA's. `scipy`, for example, has `stats.f_oneway` which, in the typical, laconic fashion of `scipy`, spits out an $F$-value, a $p$-value, and not much more. We have already used `scipy.stats` above to find our $p$-value by hand. I am going to reccomend an entirely different package, though: `statsmodels`. These things go in and out of fashion, but for my money, `statsmodels` is quickly becoming the go-to Python package for anthing beyond a humble $t$-test. `statsmodels` builds on a more modern approach to statistics which goes beyond what we can deal with here, but suffice to say, that among other things, it is an easy way to get your ANOVA work done. \n",
    "\n",
    "The key to working with `statsmodels` is the `formula`, so let's take a look at that. A `statsmodels` formula (which will instantly feel familiar to anyone who has worked with the programming language R before) begins with the _dependent variable_ or _outcome measure_: basically the thing we are trying to undersand. The _outcome measure_ goes on the left side of the `~`character, which I read in my head as \"predicted by\". To the right of the `~` comes, unsurprisingly, the _predictor variables_, or _independent variables_ if you prefer. So, in our case, we are investigating whether or not there are significant differences between the three drug types: placebo, anxifree, and joyzepam. In other words, we want to know if variation in the variable `mood_gain` that can be accounted for by these three groups is greater than the variation within the groups. Or, in still other words, whether `mood_gain` can be _predicted by_ `drug`. So, our formula is `'mood_gain ~ drug'`.\n",
    "\n",
    "Before we run the ANOVA, let's just remember what the data look like:"
   ]
  },
  {
   "cell_type": "code",
   "execution_count": 13,
   "id": "4f8258aa",
   "metadata": {},
   "outputs": [
    {
     "data": {
      "text/html": [
       "<div>\n",
       "<style scoped>\n",
       "    .dataframe tbody tr th:only-of-type {\n",
       "        vertical-align: middle;\n",
       "    }\n",
       "\n",
       "    .dataframe tbody tr th {\n",
       "        vertical-align: top;\n",
       "    }\n",
       "\n",
       "    .dataframe thead th {\n",
       "        text-align: right;\n",
       "    }\n",
       "</style>\n",
       "<table border=\"1\" class=\"dataframe\">\n",
       "  <thead>\n",
       "    <tr style=\"text-align: right;\">\n",
       "      <th></th>\n",
       "      <th>drug</th>\n",
       "      <th>therapy</th>\n",
       "      <th>mood_gain</th>\n",
       "    </tr>\n",
       "  </thead>\n",
       "  <tbody>\n",
       "    <tr>\n",
       "      <th>0</th>\n",
       "      <td>placebo</td>\n",
       "      <td>no.therapy</td>\n",
       "      <td>0.5</td>\n",
       "    </tr>\n",
       "    <tr>\n",
       "      <th>1</th>\n",
       "      <td>placebo</td>\n",
       "      <td>no.therapy</td>\n",
       "      <td>0.3</td>\n",
       "    </tr>\n",
       "    <tr>\n",
       "      <th>2</th>\n",
       "      <td>placebo</td>\n",
       "      <td>no.therapy</td>\n",
       "      <td>0.1</td>\n",
       "    </tr>\n",
       "    <tr>\n",
       "      <th>3</th>\n",
       "      <td>anxifree</td>\n",
       "      <td>no.therapy</td>\n",
       "      <td>0.6</td>\n",
       "    </tr>\n",
       "    <tr>\n",
       "      <th>4</th>\n",
       "      <td>anxifree</td>\n",
       "      <td>no.therapy</td>\n",
       "      <td>0.4</td>\n",
       "    </tr>\n",
       "  </tbody>\n",
       "</table>\n",
       "</div>"
      ],
      "text/plain": [
       "       drug     therapy  mood_gain\n",
       "0   placebo  no.therapy        0.5\n",
       "1   placebo  no.therapy        0.3\n",
       "2   placebo  no.therapy        0.1\n",
       "3  anxifree  no.therapy        0.6\n",
       "4  anxifree  no.therapy        0.4"
      ]
     },
     "execution_count": 13,
     "metadata": {},
     "output_type": "execute_result"
    }
   ],
   "source": [
    "df.head()"
   ]
  },
  {
   "attachments": {},
   "cell_type": "markdown",
   "id": "680928af",
   "metadata": {},
   "source": [
    "Now, let's let `statsmodels` do its magic. To do the same ANOVA that I laboriously calculated in the previous section, I’d use a few simple commands like this:"
   ]
  },
  {
   "cell_type": "code",
   "execution_count": 14,
   "id": "1fda74ff",
   "metadata": {},
   "outputs": [
    {
     "data": {
      "text/html": [
       "<div>\n",
       "<style scoped>\n",
       "    .dataframe tbody tr th:only-of-type {\n",
       "        vertical-align: middle;\n",
       "    }\n",
       "\n",
       "    .dataframe tbody tr th {\n",
       "        vertical-align: top;\n",
       "    }\n",
       "\n",
       "    .dataframe thead th {\n",
       "        text-align: right;\n",
       "    }\n",
       "</style>\n",
       "<table border=\"1\" class=\"dataframe\">\n",
       "  <thead>\n",
       "    <tr style=\"text-align: right;\">\n",
       "      <th></th>\n",
       "      <th>sum_sq</th>\n",
       "      <th>df</th>\n",
       "      <th>F</th>\n",
       "      <th>PR(&gt;F)</th>\n",
       "    </tr>\n",
       "  </thead>\n",
       "  <tbody>\n",
       "    <tr>\n",
       "      <th>drug</th>\n",
       "      <td>3.453333</td>\n",
       "      <td>2.0</td>\n",
       "      <td>18.610778</td>\n",
       "      <td>0.000086</td>\n",
       "    </tr>\n",
       "    <tr>\n",
       "      <th>Residual</th>\n",
       "      <td>1.391667</td>\n",
       "      <td>15.0</td>\n",
       "      <td>NaN</td>\n",
       "      <td>NaN</td>\n",
       "    </tr>\n",
       "  </tbody>\n",
       "</table>\n",
       "</div>"
      ],
      "text/plain": [
       "            sum_sq    df          F    PR(>F)\n",
       "drug      3.453333   2.0  18.610778  0.000086\n",
       "Residual  1.391667  15.0        NaN       NaN"
      ]
     },
     "execution_count": 14,
     "metadata": {},
     "output_type": "execute_result"
    }
   ],
   "source": [
    "import statsmodels.api as sm\n",
    "from statsmodels.formula.api import ols\n",
    "\n",
    "formula = 'mood_gain ~ drug'\n",
    "\n",
    "model = ols(formula, data=df).fit()\n",
    "\n",
    "aov_table = sm.stats.anova_lm(model, typ=2)\n",
    "aov_table\n"
   ]
  },
  {
   "attachments": {},
   "cell_type": "markdown",
   "id": "7eb49a99",
   "metadata": {},
   "source": [
    "Now, isn't that better? We got to the same place, but with a lot less pain and suffering!\n",
    "\n",
    "Once we get done celebrating, we might take a little closer look at this wonder function. The function is called `anova_lm`. The ANOVA part makes sense, sure, but what is this `lm` thing all about? `lm` stands for \"linear model\", and later on, we'll see that this reflects a pretty deep statistical relationship between ANOVA and [linear regression](regression), and this has some important implications for what can be done with both ANOVAs and linear regressions... but I'm getting ahead of myself. For now, let's just bask in the glory of the anova table that `statsmodels` gives us. We get the sums of squares, the degrees of freedom, the $F$-statistic, and the $p$-value itself. These are all identical to the numbers that we calculated ourselves when doing it the long and tedious way, and it's even organised into a nice table, like the [one that we filled out by hand](onewayanovatable). You might be wondering what the ``NaN``s in the last two cells are. If you compare this table to the [one that we filled out by hand](onewayanovatable), you will see that these are simply empty cells; it doesn't make sense to calculate an $F$-value or $p$-value for the residuals. ``NaN`` just means \"not a number\". It would be nicer if ``statsmodels`` just left these cells empty, but after all the work it has just done for us, I'm willing to overlook this.\n",
    "\n",
    "So, `statsmodels` provides a pretty easy way to get ANOVAs done, but back when we were doing t-tests, I was all excited about `pingouin` and said it made things so much easier. So couldn't we use `pingouin` to do ANOVA's? Sure, of course we can!"
   ]
  },
  {
   "cell_type": "code",
   "execution_count": 2,
   "id": "4d0428ec",
   "metadata": {},
   "outputs": [
    {
     "data": {
      "text/html": [
       "<div>\n",
       "<style scoped>\n",
       "    .dataframe tbody tr th:only-of-type {\n",
       "        vertical-align: middle;\n",
       "    }\n",
       "\n",
       "    .dataframe tbody tr th {\n",
       "        vertical-align: top;\n",
       "    }\n",
       "\n",
       "    .dataframe thead th {\n",
       "        text-align: right;\n",
       "    }\n",
       "</style>\n",
       "<table border=\"1\" class=\"dataframe\">\n",
       "  <thead>\n",
       "    <tr style=\"text-align: right;\">\n",
       "      <th></th>\n",
       "      <th>Source</th>\n",
       "      <th>SS</th>\n",
       "      <th>DF</th>\n",
       "      <th>MS</th>\n",
       "      <th>F</th>\n",
       "      <th>p-unc</th>\n",
       "      <th>np2</th>\n",
       "    </tr>\n",
       "  </thead>\n",
       "  <tbody>\n",
       "    <tr>\n",
       "      <th>0</th>\n",
       "      <td>drug</td>\n",
       "      <td>3.453333</td>\n",
       "      <td>2</td>\n",
       "      <td>1.726667</td>\n",
       "      <td>18.610778</td>\n",
       "      <td>0.000086</td>\n",
       "      <td>0.712762</td>\n",
       "    </tr>\n",
       "    <tr>\n",
       "      <th>1</th>\n",
       "      <td>Within</td>\n",
       "      <td>1.391667</td>\n",
       "      <td>15</td>\n",
       "      <td>0.092778</td>\n",
       "      <td>NaN</td>\n",
       "      <td>NaN</td>\n",
       "      <td>NaN</td>\n",
       "    </tr>\n",
       "  </tbody>\n",
       "</table>\n",
       "</div>"
      ],
      "text/plain": [
       "   Source        SS  DF        MS          F     p-unc       np2\n",
       "0    drug  3.453333   2  1.726667  18.610778  0.000086  0.712762\n",
       "1  Within  1.391667  15  0.092778        NaN       NaN       NaN"
      ]
     },
     "execution_count": 2,
     "metadata": {},
     "output_type": "execute_result"
    }
   ],
   "source": [
    "import pingouin as pg\n",
    "\n",
    "pg.anova(dv='mood_gain', \n",
    "         between='drug', \n",
    "         data=df,\n",
    "         detailed=True)\n",
    "\n"
   ]
  },
  {
   "attachments": {},
   "cell_type": "markdown",
   "id": "18420ed4",
   "metadata": {},
   "source": [
    "If you check, you'll see we get the same answer either way. So that's _two_ easy ways to do ANOVA in Python! Time for beer and football!\n"
   ]
  },
  {
   "attachments": {},
   "cell_type": "markdown",
   "id": "f843e6a0",
   "metadata": {},
   "source": [
    "(etasquared)=\n",
    "## Effect size\n",
    "\n",
    "\n",
    "There's a few different ways you could measure the effect size in an ANOVA, but the most commonly used measures are $\\eta^2$ (**_eta squared_**) and partial $\\eta^2$. For a one way analysis of variance they're identical to each other, so for the moment I'll just explain $\\eta^2$. The definition of $\\eta^2$ is actually really simple:\n",
    "\n",
    "$$\n",
    "\\eta^2 = \\frac{\\mbox{SS}_b}{\\mbox{SS}_{tot}}\n",
    "$$\n",
    "\n",
    "That's all it is. So when I look at the ANOVA table above, I see that $\\mbox{SS}_b = 3.45$  and $\\mbox{SS}_{tot} = 3.45 + 1.39 = 4.84$. Thus we get an $\\eta^2$ value of \n",
    "\n",
    "$$\n",
    "\\eta^2 = \\frac{3.45}{4.84} = 0.71\n",
    "$$\n",
    "\n",
    "The interpretation of $\\eta^2$ is equally straightforward: it refers to the proportion of the variability in the outcome variable (`mood_gain`) that can be explained in terms of the predictor (`drug`). A value of $\\eta^2 = 0$ means that there is no relationship at all between the two, whereas a value of $\\eta^2 = 1$ means that the relationship is perfect. Better yet, the $\\eta^2$ value is very closely related to a squared correlation (i.e., $r^2$). So, if you're trying to figure out whether a particular value of $\\eta^2$ is big or small, it's sometimes useful to remember that \n",
    "\n",
    "$$\n",
    "\\eta= \\sqrt{\\frac{\\mbox{SS}_b}{\\mbox{SS}_{tot}}}\n",
    "$$\n",
    "\n",
    "can be interpreted as if it referred to the *magnitude* of a Pearson correlation. So in our drugs example, the $\\eta^2$ value of .71 corresponds to an $\\eta$ value of $\\sqrt{.71} = .84$. If we think about this as being equivalent to a correlation of about .84, we'd conclude that the relationship between `drug` and `mood_gain` is strong. \n",
    "\n",
    "It's pretty straightforward to calculate it directly from the numbers in the ANOVA table. In fact, since I've already got the `SSw` and `SSb` variables lying around from my earlier calculations, I can do this:"
   ]
  },
  {
   "cell_type": "code",
   "execution_count": 16,
   "id": "d7d782f2",
   "metadata": {},
   "outputs": [
    {
     "data": {
      "text/plain": [
       "0.7127545404512933"
      ]
     },
     "execution_count": 16,
     "metadata": {},
     "output_type": "execute_result"
    }
   ],
   "source": [
    "SStot = SSb + SSw          # total sums of squares\n",
    "eta_squared = SSb / SStot  # eta-squared value\n",
    "eta_squared"
   ]
  },
  {
   "attachments": {},
   "cell_type": "markdown",
   "id": "5eb57e4b",
   "metadata": {},
   "source": [
    "And, in fact, if you look at the last column in the `pingouin` output above, you'll see that `pingouin` has already calculated $\\eta^2$ for us."
   ]
  },
  {
   "attachments": {},
   "cell_type": "markdown",
   "id": "4f5b3176",
   "metadata": {},
   "source": [
    "(posthoc)=\n",
    "## Multiple comparisons and post hoc tests\n",
    "\n",
    "Any time you run an ANOVA with more than two groups, and you end up with a significant effect, the first thing you'll probably want to ask is which groups are actually different from one another. In our drugs example, our null hypothesis was that all three drugs (placebo, Anxifree and Joyzepam) have the exact same effect on mood. But if you think about it, the null hypothesis is actually claiming *three* different things all at once here. Specifically, it claims that:\n",
    "\n",
    "- Your competitor's drug (Anxifree) is no better than a placebo (i.e., $\\mu_A = \\mu_P$)\n",
    "- Your drug (Joyzepam) is no better than a placebo (i.e., $\\mu_J = \\mu_P$)\n",
    "- Anxifree and Joyzepam are equally effective (i.e., $\\mu_J = \\mu_A$)\n",
    "\n",
    "If any one of those three claims is false, then the null hypothesis is also false. So, now that we've rejected our null hypothesis, we're thinking that *at least* one of those things isn't true. But which ones? All three of these propositions are of interest: you certainly want to know if your new drug Joyzepam is better than a placebo, and it would be nice to know how well it stacks up against an existing commercial alternative (i.e., Anxifree). It would even be useful to check the performance of Anxifree against the placebo: even if Anxifree has already been extensively tested against placebos by other researchers, it can still be very useful to check that your study is producing similar results to earlier work.\n",
    "\n",
    "When we characterise the null hypothesis in terms of these three distinct propositions, it becomes clear that there are eight possible \"states of the world\" that we need to distinguish between:"
   ]
  },
  {
   "attachments": {},
   "cell_type": "markdown",
   "id": "0c9dfa98",
   "metadata": {},
   "source": [
    "\n",
    "|possibility: |is $\\mu_P = \\mu_A$? |is $\\mu_P = \\mu_J$? |is $\\mu_A = \\mu_J$? |which hypothesis? |\n",
    "|:------------|:-------------------|:-------------------|:-------------------|:-----------------|\n",
    "|1            |$\\checkmark$        |$\\checkmark$        |$\\checkmark$        |null              |\n",
    "|2            |$\\checkmark$        |$\\checkmark$        |                    |alternative       |\n",
    "|3            |$\\checkmark$        |                    |$\\checkmark$        |alternative       |\n",
    "|4            |$\\checkmark$        |                    |                    |alternative       |\n",
    "|5            |                    |$\\checkmark$        |$\\checkmark$        |alternative       |\n",
    "|6            |                    |$\\checkmark$        |                    |alternative       |\n",
    "|7            |                    |                    |$\\checkmark$        |alternative       |\n",
    "|8            |                    |                    |                    |alternative       |\n",
    "> "
   ]
  },
  {
   "attachments": {},
   "cell_type": "markdown",
   "id": "fc08804a",
   "metadata": {},
   "source": [
    "By rejecting the null hypothesis, we've decided that we *don't* believe that \\#1 is the true state of the world. The next question to ask is, which of the other seven possibilities *do* we think is right? When faced with this situation, its usually helps to look at the data. For instance, remember the figure we made at the beginning of this chapter, that looked like this?"
   ]
  },
  {
   "cell_type": "code",
   "execution_count": 17,
   "id": "6d643270",
   "metadata": {},
   "outputs": [
    {
     "data": {
      "image/png": "[encoded data removed]",
      "text/plain": [
       "<Figure size 640x480 with 1 Axes>"
      ]
     },
     "metadata": {},
     "output_type": "display_data"
    }
   ],
   "source": [
    "import seaborn as sns\n",
    "\n",
    "fig = sns.pointplot(x='drug', y = 'mood_gain', data = df)\n",
    "sns.despine()"
   ]
  },
  {
   "attachments": {},
   "cell_type": "markdown",
   "id": "15fd0fcf",
   "metadata": {},
   "source": [
    "Looking at the figure, it's tempting to conclude that Joyzepam is better than the placebo and better than Anxifree, but there's no real difference between Anxifree and the placebo. However, if we want to get a clearer answer about this, it might help to run some tests. "
   ]
  },
  {
   "attachments": {},
   "cell_type": "markdown",
   "id": "25ef7856",
   "metadata": {},
   "source": [
    "### Running \"pairwise\" $t$-tests\n",
    "\n",
    "How might we go about solving our problem? Given that we've got three separate pairs of means (placebo versus Anxifree, placebo versus Joyzepam, and Anxifree versus Joyzepam) to compare, what we could do is run three separate $t$-tests and see what happens. There's a couple of ways that we could do this. One method would be to construct new variables corresponding the groups you want to compare (e.g., `anxifree`, `placebo` and `joyzepam`), and then run a $t$-test on these new variables."
   ]
  },
  {
   "attachments": {},
   "cell_type": "markdown",
   "id": "5861f526",
   "metadata": {},
   "source": [
    "(fwer)=\n",
    "This \"lots of $t$-tests idea\" isn't a bad strategy, but there is a problem with just running lots and lots of $t$-tests. The concern is that when running these analyses, what we're doing is going on a \"fishing expedition\": we're running lots and lots of tests without much theoretical guidance, in the hope that some of them come up significant. This kind of theory-free search for group differences is referred to as **_post hoc analysis_** (\"post hoc\" being Latin for \"after this\").[^plannedcomparisons]   \n",
    "\n",
    "It's okay to run post hoc analyses, but a lot of care is required, because post-hoc t-tests can be pretty dangerous: each *individual* $t$-test is designed to have a 5\\% Type I error rate (i.e., $\\alpha = .05$), but imagine if I ran three of these tests. Intuitively, you may be able to feel that if every test I do has a 5\\% chance of committing a Type I error, then the more tests I do on the same set of data, the more likely that at least _some_ of them will lead me to incorrectly reject the null hypothesis. \n",
    "\n",
    "In fact, we can calculate a statistic that tells us just how risky it is to conduct many post-hoc $t$-tests on our data. It's called the _family-wise error rate_, and looks like this:\n",
    "\n",
    "$$FWER = 1-(1-\\alpha)^m$$\n",
    "\n",
    "where $m$ is the number of tests I do. So, while we might feel fine about choosing an $\\alpha$ of 0.05 for one $t$-test, which gives us a 5\\% chance of committing a Type I error, we might not feel so hot about running three post-hoc $t$-tests on our data, since \n",
    "\n",
    "$$1-(1-0.05)^3=0.142625$$\n",
    "\n",
    "Now the family-wise error rate is 0.14 -- in other words, we have now gone from a 5\\% chance of incorrectly rejecting a null hypothesis to a nearly 15\\% chance of incorrectly rejecting a null hypothesis, and maybe those odds don't feel so good anymore. If we did 100 $t$-tests on our data, each with an $\\alpha$ of 0.05, now the FWER goes up to\n",
    "\n",
    "$$1-(1-0.05)^{100}=0.99407947$$\n",
    "\n",
    "That is, it is nearly certain that we will be incorrectly rejecting some null hypotheses, but which ones? We have no idea.\n",
    "\n",
    "As we saw when we talked about [hypothesis testing](hypothesistesting), the central organising principle behind null hypothesis testing is that we seek to control our Type I error rate, but once I start running lots of $t$-tests at once, in order to determine the source of my ANOVA results, my actual Type I error rate across this whole *family* of tests has gotten completely out of control. \n"
   ]
  },
  {
   "attachments": {},
   "cell_type": "markdown",
   "id": "a7736a39",
   "metadata": {},
   "source": [
    "(correctionformultiplecomarisons)=\n",
    "\n",
    "The usual solution to this problem is to introduce an adjustment to the $p$-value, which aims to control the total error rate across the family of tests (see {cite}`Shaffer1995`). An adjustment of this form, which is usually (but not always) applied because one is doing post hoc analysis, is often referred to as a **_correction for multiple comparisons_**, though it is sometimes referred to as \"simultaneous inference\". In any case, there are quite a few different ways of doing this adjustment. I'll discuss a few of them in this section and in [a later section](posthoc2), but you should be aware that there are many other methods out there (see, e.g., {cite}`Hsu1996`). \n",
    "\n",
    "### Bonferroni corrections\n",
    "\n",
    "\n",
    "The simplest of these adjustments is called the **_Bonferroni correction_** {cite}`Dunn1961`, and it's very very simple indeed. Suppose that my post hoc analysis consists of $m$ separate tests, and I want to ensure that the total probability of making *any* Type I errors at all is at most $\\alpha$.[^bonf] If so, then the Bonferroni correction just says \"multiply all your raw $p$-values by $m$\". If we let $p$ denote the original $p$-value, and let $p^\\prime_j$ be the corrected value, then the Bonferroni correction tells that:\n",
    "\n",
    "$$\n",
    "p^\\prime = m \\times p\n",
    "$$\n",
    "\n",
    "And therefore, if you're using the Bonferroni correction, you would reject the null hypothesis if $p^\\prime < \\alpha$. The logic behind this correction is very straightforward. We're doing $m$ different tests; so if we arrange it so that each test has a Type I error rate of at most $\\alpha / m$, then the *total* Type I error rate across these tests cannot be larger than $\\alpha$. That's pretty simple, so much so that in the original paper, the author writes:\n",
    "\n",
    "> The method given here is so simple and so general that I am sure it must have been used before this. I do not find it, however, so can only conclude that perhaps its very simplicity has kept statisticians from realizing that it is a very good method in some situations (pp 52-53 {cite}`Dunn1961`)"
   ]
  },
  {
   "attachments": {},
   "cell_type": "markdown",
   "id": "4f1c223e",
   "metadata": {},
   "source": [
    "### Holm corrections\n",
    "\n",
    "Although the Bonferroni correction is the simplest adjustment out there, it's not usually the best one to use. One method that is often used instead is the **_Holm correction_** {cite}`Holm1979`. The idea behind the Holm correction is to pretend that you're doing the tests sequentially; starting with the smallest (raw) $p$-value and moving onto the largest one. For the $j$-th largest of the $p$-values, the adjustment is *either*\n",
    "\n",
    "$$\n",
    "p^\\prime_j = j \\times p_j \n",
    "$$\n",
    "\n",
    "(i.e., the biggest $p$-value remains unchanged, the second biggest $p$-value is doubled, the third biggest $p$-value is tripled, and so on), *or*\n",
    "\n",
    "$$\n",
    "p^\\prime_j = p^\\prime_{j+1}\n",
    "$$\n",
    "\n",
    "whichever one is *larger*. This might sound a little confusing, so let's go through it a little more slowly. Here's what the Holm correction does. First, you sort all of your $p$-values in order, from smallest to largest. For the smallest $p$-value all you do is multiply it by $m$, and you're done. However, for all the other ones it's a two-stage process. For instance, when you move to the second smallest $p$ value, you first multiply it by $m-1$. If this produces a number that is bigger than the adjusted $p$-value that you got last time, then you keep it. But if it's smaller than the last one, then you copy the last $p$-value. To illustrate how this works, consider the table below, which shows the calculations of a Holm correction for a collection of five $p$-values:\n",
    "\n",
    "\n",
    "|raw $p$ |rank $j$ |$p \\times j$ |Holm $p$ |\n",
    "|:-------|:--------|:------------|:--------|\n",
    "|.001    |5        |.005         |.005     |\n",
    "|.005    |4        |.020         |.020     |\n",
    "|.019    |3        |.057         |.057     |\n",
    "|.022    |2        |.044         |.057     |\n",
    "|.103    |1        |.103         |.103     |\n",
    "\n",
    "\n",
    "Hopefully that makes things clear. "
   ]
  },
  {
   "attachments": {},
   "cell_type": "markdown",
   "id": "74d534e4",
   "metadata": {},
   "source": [
    "Although it's a little harder to calculate, the Holm correction has some very nice properties: it's more powerful than Bonferroni (i.e., it has a lower Type II error rate), but -- counterintuitive as it might seem -- it has the *same* Type I error rate. As a consequence, in practice there's never any reason to use the simpler Bonferroni correction, since it is always outperformed by the slightly more elaborate Holm correction. Running pairwise t-tests with different correction methods is pretty easy with `pingouin`: we just use the `padjust` argument to say what kind of correction we want to use[^notebonf]:\n",
    "\n",
    "[^notebonf]: If you really want to use a Bonferrroni correction anyway, you can write `bonf` instead of `holm` for `padjust`."
   ]
  },
  {
   "cell_type": "code",
   "execution_count": 18,
   "id": "5e875e91",
   "metadata": {
    "tags": [
     "remove-cell"
    ]
   },
   "outputs": [
    {
     "data": {
      "text/plain": [
       "{'divide': 'warn', 'over': 'warn', 'under': 'ignore', 'invalid': 'warn'}"
      ]
     },
     "execution_count": 18,
     "metadata": {},
     "output_type": "execute_result"
    }
   ],
   "source": [
    "import numpy as np\n",
    "np.seterr(all=\"ignore\")"
   ]
  },
  {
   "cell_type": "code",
   "execution_count": 19,
   "id": "0c5d91b0",
   "metadata": {},
   "outputs": [
    {
     "data": {
      "text/html": [
       "<div>\n",
       "<style scoped>\n",
       "    .dataframe tbody tr th:only-of-type {\n",
       "        vertical-align: middle;\n",
       "    }\n",
       "\n",
       "    .dataframe tbody tr th {\n",
       "        vertical-align: top;\n",
       "    }\n",
       "\n",
       "    .dataframe thead th {\n",
       "        text-align: right;\n",
       "    }\n",
       "</style>\n",
       "<table border=\"1\" class=\"dataframe\">\n",
       "  <thead>\n",
       "    <tr style=\"text-align: right;\">\n",
       "      <th></th>\n",
       "      <th>Contrast</th>\n",
       "      <th>A</th>\n",
       "      <th>B</th>\n",
       "      <th>Paired</th>\n",
       "      <th>Parametric</th>\n",
       "      <th>T</th>\n",
       "      <th>dof</th>\n",
       "      <th>alternative</th>\n",
       "      <th>p-unc</th>\n",
       "      <th>p-corr</th>\n",
       "      <th>p-adjust</th>\n",
       "      <th>BF10</th>\n",
       "      <th>hedges</th>\n",
       "    </tr>\n",
       "  </thead>\n",
       "  <tbody>\n",
       "    <tr>\n",
       "      <th>0</th>\n",
       "      <td>drug</td>\n",
       "      <td>anxifree</td>\n",
       "      <td>joyzepam</td>\n",
       "      <td>False</td>\n",
       "      <td>True</td>\n",
       "      <td>-4.206222</td>\n",
       "      <td>10.0</td>\n",
       "      <td>two-sided</td>\n",
       "      <td>0.001811</td>\n",
       "      <td>0.003621</td>\n",
       "      <td>holm</td>\n",
       "      <td>17.947</td>\n",
       "      <td>-2.241659</td>\n",
       "    </tr>\n",
       "    <tr>\n",
       "      <th>1</th>\n",
       "      <td>drug</td>\n",
       "      <td>anxifree</td>\n",
       "      <td>placebo</td>\n",
       "      <td>False</td>\n",
       "      <td>True</td>\n",
       "      <td>1.354183</td>\n",
       "      <td>10.0</td>\n",
       "      <td>two-sided</td>\n",
       "      <td>0.205486</td>\n",
       "      <td>0.205486</td>\n",
       "      <td>holm</td>\n",
       "      <td>0.814</td>\n",
       "      <td>0.721696</td>\n",
       "    </tr>\n",
       "    <tr>\n",
       "      <th>2</th>\n",
       "      <td>drug</td>\n",
       "      <td>joyzepam</td>\n",
       "      <td>placebo</td>\n",
       "      <td>False</td>\n",
       "      <td>True</td>\n",
       "      <td>7.168708</td>\n",
       "      <td>10.0</td>\n",
       "      <td>two-sided</td>\n",
       "      <td>0.000030</td>\n",
       "      <td>0.000091</td>\n",
       "      <td>holm</td>\n",
       "      <td>475.231</td>\n",
       "      <td>3.820482</td>\n",
       "    </tr>\n",
       "  </tbody>\n",
       "</table>\n",
       "</div>"
      ],
      "text/plain": [
       "  Contrast         A         B  Paired  Parametric         T   dof  \\\n",
       "0     drug  anxifree  joyzepam   False        True -4.206222  10.0   \n",
       "1     drug  anxifree   placebo   False        True  1.354183  10.0   \n",
       "2     drug  joyzepam   placebo   False        True  7.168708  10.0   \n",
       "\n",
       "  alternative     p-unc    p-corr p-adjust     BF10    hedges  \n",
       "0   two-sided  0.001811  0.003621     holm   17.947 -2.241659  \n",
       "1   two-sided  0.205486  0.205486     holm    0.814  0.721696  \n",
       "2   two-sided  0.000030  0.000091     holm  475.231  3.820482  "
      ]
     },
     "execution_count": 19,
     "metadata": {},
     "output_type": "execute_result"
    }
   ],
   "source": [
    "import pingouin as pg\n",
    "\n",
    "# pairwise t-tests with Holm correction\n",
    "pg.pairwise_tests(dv='mood_gain', \n",
    "                   between='drug', \n",
    "                   padjust='holm', \n",
    "                   data=df)"
   ]
  },
  {
   "attachments": {},
   "cell_type": "markdown",
   "id": "a11aef0f",
   "metadata": {},
   "source": [
    "\n",
    "As you can see, the biggest $p$-value (corresponding to the comparison between Anxifree and the placebo) is unaltered: it is exactly the same as the value in the ``p-unc`` (\"uncorrected\" $p$-value) column as in the ``p-corr`` (\"corrected\" $p$-value) column. In contrast, the smallest $p$-value (Joyzepam versus placebo) has been multiplied by three.\n"
   ]
  },
  {
   "attachments": {},
   "cell_type": "markdown",
   "id": "7fa74b40",
   "metadata": {},
   "source": [
    "(madness)=\n",
    "### Statistical madness?\n",
    "\n",
    "In my experience, it is usually at around this point that students start to get antsy when I talk about these things in class. They look a little skeptical when I introduce the idea of the null hypothesis, and they shift uncomfortably in their chairs when we talk about $p$-values, but when I start talking about Bonferroni or Holm corrections there are typically one or two who simply can't take it any more, raise their hands, and ask me if I'm not just playing games with numbers at this point.\n",
    "\n",
    "In truth, they're not wrong. In a sense, we are playing games with numbers, but it's a serious game: we are trying to use math to help us understand the universe, and all of the infrastructure that has been erected over the years ($p$-values, effect sizes, degrees of freedom, etc.) has been put in place in an attempt to do so in a principled way. It is usually at this point that, in an effort to regain their trust, that I point to the BF10 column in the `pingouin` output. This column shows the \"bayes factor\" associated with the test, and for many (including myself) it is a more intuitively satisfying and sensible way to think about statistical results. There is a lot of [great material](http://xcelab.net/rm/statistical-rethinking/) out there on Bayesian statistics, and while it is beyond the scope of this book in its current form, I will have something to say on the subject [towards the end](bayes) of this book.\n"
   ]
  },
  {
   "attachments": {},
   "cell_type": "markdown",
   "id": "a41e7677",
   "metadata": {},
   "source": [
    "(writingupposthoctests)=\n",
    "### Writing up the post hoc test\n",
    "\n",
    "Finally, having run the post hoc analysis to determine which groups are significantly different to one another, you might write up the result like this:\n",
    "\n",
    "> Post hoc tests (using the Holm correction to adjust $p$) indicated that Joyzepam produced a significantly larger mood change than both Anxifree ($p = .001$) and the placebo ($p = 9.1 \\times 10^{-5}$). We found no evidence that Anxifree performed better than the placebo ($p = .15$).\n",
    "\n",
    "Or, if you don't like the idea of reporting exact $p$-values, then you'd change those numbers to $p<.01$, $p<.001$ and $p > .05$ respectively. Either way, the key thing is that you indicate that you used Holm's correction to adjust the $p$-values. And of course, I'm assuming that elsewhere in the write up you've included the relevant descriptive statistics (i.e., the group means and standard deviations), since these $p$-values on their own aren't terribly informative. "
   ]
  },
  {
   "attachments": {},
   "cell_type": "markdown",
   "id": "8201b24d",
   "metadata": {},
   "source": [
    "(anovaassumptions)=\n",
    "## Assumptions of one-way ANOVA\n",
    "\n",
    "Like any statistical test, analysis of variance relies on some assumptions about the data. There are three key assumptions that you need to be aware of: *normality*, *homogeneity of variance* and *independence*. If you remember back to [this section](anovamodel) -- which I hope you at least skimmed even if you didn't read the whole thing -- I described the statistical models underpinning ANOVA, which I wrote down like this:\n",
    "\n",
    "$$\n",
    "\\begin{array}{lrcl}\n",
    "H_0: & Y_{ik} &=& \\mu + \\epsilon_{ik} \\\\\n",
    "H_1: & Y_{ik} &=& \\mu_k + \\epsilon_{ik} \n",
    "\\end{array}\n",
    "$$\n",
    "\n",
    "In these equations $\\mu$ refers to a single, grand population mean which is the same for all groups, and $\\mu_k$ is the population mean for the $k$-th group. Up to this point we've been mostly interested in whether our data are best described in terms of a single grand mean (the null hypothesis) or in terms of different group-specific means (the alternative hypothesis). This makes sense, of course: that's actually the important research question! However, all of our testing procedures have -- implicitly -- relied on a specific assumption about the residuals, $\\epsilon_{ik}$, namely that\n",
    "\n",
    "$$\n",
    "\\epsilon_{ik} \\sim \\mbox{Normal}(0, \\sigma^2)\n",
    "$$\n",
    "\n",
    "None of the maths works properly without this bit. Or, to be precise, you can still do all the calculations, and you'll end up with an $F$-statistic, but you have no guarantee that this $F$-statistic actually measures what you think it's measuring, and so any conclusions that you might draw on the basis of the $F$ test might be wrong. \n",
    "\n",
    "So, how do we check whether this assumption about the residuals is accurate? Well, as I indicated above, there are three distinct claims buried in this one statement, and we'll consider them separately.\n",
    "\n",
    "- **_Normality_**. The residuals are assumed to be normally distributed. [As we saw](shapiro), we can assess this by looking at QQ plots or running a Shapiro-Wilk test. I'll talk about this in an ANOVA context [below](anovanormality). \n",
    "- **_Homogeneity of variance_**. Notice that we've only got the one value for the population standard deviation (i.e., $\\sigma$), rather than allowing each group to have it's own value (i.e., $\\sigma_k$). This is referred to as the homogeneity of variance (sometimes called homoscedasticity) assumption. ANOVA assumes that the population standard deviation is the same for all groups. We'll talk about this [extensively](levene). \n",
    "- **_Independence_**. The independence assumption is a little trickier. What it basically means is that, knowing one residual tells you nothing about any other residual. All of the $\\epsilon_{ik}$ values are assumed to have been generated without any \"regard for\" or \"relationship to\" any of the other ones. There's not an obvious or simple way to test for this, but there are some situations that are clear violations of this: for instance, if you have a repeated-measures design, where each participant in your study appears in more than one condition, then independence doesn't hold; there's a special relationship between some observations... namely those that correspond to the same person! When that happens, you need to use something like repeated measures ANOVA. I don't currently talk about repeated measures ANOVA in this book, but it will be included in later versions, if I get [around to it](https://en.wiktionary.org/wiki/round_tuit).\n",
    "\n",
    "\n",
    "### How robust is ANOVA?\n",
    "\n",
    "One question that people often want to know the answer to is the extent to which you can trust the results of an ANOVA if the assumptions are violated. Or, to use the technical language, how **_robust_** is ANOVA to violations of the assumptions? Again, I'm running out of time here, and won't be able to address this in the current version of the book. Maybe [someday](https://en.wikipedia.org/wiki/Hofstadter%27s_law)?"
   ]
  },
  {
   "attachments": {},
   "cell_type": "markdown",
   "id": "df6b367a",
   "metadata": {},
   "source": [
    "(levene)=\n",
    "## Checking the homogeneity of variance assumption\n",
    "\n",
    "There's more than one way to skin a cat, as the saying goes, and more than one way to test the homogeneity of variance assumption, too (though for some reason no-one made a saying out of that). The most commonly used test for this that I've seen in the literature is the **_Levene test_** {cite}`Levene1960`, and the closely related **_Brown-Forsythe test_** {cite}`BrownForsythe1974`, both of which I'll describe here. \n",
    "\n",
    "Levene's test is shockingly simple. Suppose we have our outcome variable $Y_{ik}$. All we do is define a new variable, which I'll call $Z_{ik}$, corresponding to the absolute deviation from the group mean:\n",
    "\n",
    "$$\n",
    "Z_{ik} = \\left| Y_{ik} - \\bar{Y}_k \\right|\n",
    "$$\n",
    "\n",
    "Okay, what good does this do us? Well, let's take a moment to think about what $Z_{ik}$ actually is, and what we're trying to test. The value of $Z_{ik}$ is a measure of how the $i$-th observation in the $k$-th group deviates from its group mean. And our null hypothesis is that all groups have the same variance; that is, the same overall deviations from the group means! So, the null hypothesis in a Levene's test is that the population means of $Z$ are identical for all groups. Hm. So what we need now is a statistical test of the null hypothesis that all group means are identical. Where have we seen that before? Oh right, that's what ANOVA is... and so all that the Levene's test does is run an ANOVA on the new variable $Z_{ik}$. Done.\n",
    "\n",
    "What about the Brown-Forsythe test? Does that do anything particularly different? Nope. The only change from the Levene's test is that it constructs the transformed variable $Z$ in a slightly different way, using deviations from the group *medians* rather than deviations from the group *means*. That is, for the Brown-Forsythe test, \n",
    "\n",
    "$$\n",
    "Z_{ik} = \\left| Y_{ik} - \\mbox{median}_k(Y) \\right|\n",
    "$$\n",
    "\n",
    "where $\\mbox{median}_k(Y)$ is the median for group $k$. Regardless of whether you're doing the standard Levene test or the Brown-Forsythe test, the test statistic -- which is sometimes denoted $F$, but sometimes written as $W$ -- is  calculated in exactly the same way that the $F$-statistic for the regular ANOVA is calculated, just using a $Z_{ik}$ rather than $Y_{ik}$. With that in mind, let's just move on and look at how to run the test in Python."
   ]
  },
  {
   "attachments": {},
   "cell_type": "markdown",
   "id": "a551e429",
   "metadata": {},
   "source": [
    "### Running the Levene's test with Python\n",
    "\n",
    "Okay, so how do we run the Levene test? Obviously, since the Levene test is just an ANOVA, it would be easy enough to manually create the transformed variable $Z_{ik}$ and then run an ANOVA on that. However, that's the tedious way to do it. Much simpler would be to just get `pingouin` to do it for us. Maybe I should take a drink every time I mention `pingouin` in this book. Then again, maybe I shouldn't!"
   ]
  },
  {
   "cell_type": "code",
   "execution_count": 20,
   "id": "f834ee63",
   "metadata": {},
   "outputs": [
    {
     "data": {
      "text/html": [
       "<div>\n",
       "<style scoped>\n",
       "    .dataframe tbody tr th:only-of-type {\n",
       "        vertical-align: middle;\n",
       "    }\n",
       "\n",
       "    .dataframe tbody tr th {\n",
       "        vertical-align: top;\n",
       "    }\n",
       "\n",
       "    .dataframe thead th {\n",
       "        text-align: right;\n",
       "    }\n",
       "</style>\n",
       "<table border=\"1\" class=\"dataframe\">\n",
       "  <thead>\n",
       "    <tr style=\"text-align: right;\">\n",
       "      <th></th>\n",
       "      <th>W</th>\n",
       "      <th>pval</th>\n",
       "      <th>equal_var</th>\n",
       "    </tr>\n",
       "  </thead>\n",
       "  <tbody>\n",
       "    <tr>\n",
       "      <th>levene</th>\n",
       "      <td>1.47</td>\n",
       "      <td>0.26</td>\n",
       "      <td>True</td>\n",
       "    </tr>\n",
       "  </tbody>\n",
       "</table>\n",
       "</div>"
      ],
      "text/plain": [
       "           W  pval  equal_var\n",
       "levene  1.47  0.26       True"
      ]
     },
     "execution_count": 20,
     "metadata": {},
     "output_type": "execute_result"
    }
   ],
   "source": [
    "import pingouin as pg\n",
    "\n",
    "pg.homoscedasticity(data=df, \n",
    "                    dv=\"mood_gain\", \n",
    "                    group=\"drug\").round(2)\n"
   ]
  },
  {
   "attachments": {},
   "cell_type": "markdown",
   "id": "d394b012",
   "metadata": {},
   "source": [
    "If we look at the output, we see that the test is non-significant $(F_{2,15} = 1.47, p = .26)$, so it looks like the homogeneity of variance assumption is fine. By default, the `pingouin`'s `homoscedasticity` function actually does the Brown-Forsythe test. If you want to use the mean instead, then you need to explicitly set the `center` argument, like this:"
   ]
  },
  {
   "cell_type": "code",
   "execution_count": 21,
   "id": "46be870d",
   "metadata": {},
   "outputs": [
    {
     "data": {
      "text/html": [
       "<div>\n",
       "<style scoped>\n",
       "    .dataframe tbody tr th:only-of-type {\n",
       "        vertical-align: middle;\n",
       "    }\n",
       "\n",
       "    .dataframe tbody tr th {\n",
       "        vertical-align: top;\n",
       "    }\n",
       "\n",
       "    .dataframe thead th {\n",
       "        text-align: right;\n",
       "    }\n",
       "</style>\n",
       "<table border=\"1\" class=\"dataframe\">\n",
       "  <thead>\n",
       "    <tr style=\"text-align: right;\">\n",
       "      <th></th>\n",
       "      <th>W</th>\n",
       "      <th>pval</th>\n",
       "      <th>equal_var</th>\n",
       "    </tr>\n",
       "  </thead>\n",
       "  <tbody>\n",
       "    <tr>\n",
       "      <th>levene</th>\n",
       "      <td>1.45</td>\n",
       "      <td>0.27</td>\n",
       "      <td>True</td>\n",
       "    </tr>\n",
       "  </tbody>\n",
       "</table>\n",
       "</div>"
      ],
      "text/plain": [
       "           W  pval  equal_var\n",
       "levene  1.45  0.27       True"
      ]
     },
     "execution_count": 21,
     "metadata": {},
     "output_type": "execute_result"
    }
   ],
   "source": [
    "# Original Levene test\n",
    "pg.homoscedasticity(data=df, \n",
    "                    dv=\"mood_gain\", \n",
    "                    group=\"drug\",\n",
    "                    center = \"mean\").round(2)"
   ]
  },
  {
   "attachments": {},
   "cell_type": "markdown",
   "id": "a8b44f95",
   "metadata": {},
   "source": [
    "That being said, in most cases it's probably best to stick to the default value, since the Brown-Forsythe test is a bit more robust than the original Levene test."
   ]
  },
  {
   "attachments": {},
   "cell_type": "markdown",
   "id": "5435351e",
   "metadata": {},
   "source": [
    "(welchoneway)=\n",
    "## Removing the homogeneity of variance assumption\n",
    "\n",
    "In our example, the homogeneity of variance assumption turned out to be a pretty safe one: the Levene test came back non-significant, so we probably don't need to worry. However, in real life we aren't always that lucky. How do we save our ANOVA when the homogeneity of variance assumption is violated? If you recall from our discussion of $t$-tests, we've seen this problem before. The Student $t$-test assumes equal variances, so the solution was to use the Welch $t$-test, which does not. In fact, Welch {cite}`Welch1951` also showed how we can solve this problem for ANOVA too (the **_Welch one-way test_**). It's implemented in `pingouin` using the `welch_anova` function:"
   ]
  },
  {
   "cell_type": "code",
   "execution_count": 22,
   "id": "cbb9896e",
   "metadata": {},
   "outputs": [
    {
     "data": {
      "text/html": [
       "<div>\n",
       "<style scoped>\n",
       "    .dataframe tbody tr th:only-of-type {\n",
       "        vertical-align: middle;\n",
       "    }\n",
       "\n",
       "    .dataframe tbody tr th {\n",
       "        vertical-align: top;\n",
       "    }\n",
       "\n",
       "    .dataframe thead th {\n",
       "        text-align: right;\n",
       "    }\n",
       "</style>\n",
       "<table border=\"1\" class=\"dataframe\">\n",
       "  <thead>\n",
       "    <tr style=\"text-align: right;\">\n",
       "      <th></th>\n",
       "      <th>Source</th>\n",
       "      <th>ddof1</th>\n",
       "      <th>ddof2</th>\n",
       "      <th>F</th>\n",
       "      <th>p-unc</th>\n",
       "      <th>np2</th>\n",
       "    </tr>\n",
       "  </thead>\n",
       "  <tbody>\n",
       "    <tr>\n",
       "      <th>0</th>\n",
       "      <td>drug</td>\n",
       "      <td>2</td>\n",
       "      <td>9.49</td>\n",
       "      <td>26.32</td>\n",
       "      <td>0.0</td>\n",
       "      <td>0.71</td>\n",
       "    </tr>\n",
       "  </tbody>\n",
       "</table>\n",
       "</div>"
      ],
      "text/plain": [
       "  Source  ddof1  ddof2      F  p-unc   np2\n",
       "0   drug      2   9.49  26.32    0.0  0.71"
      ]
     },
     "execution_count": 22,
     "metadata": {},
     "output_type": "execute_result"
    }
   ],
   "source": [
    "import pingouin as pg\n",
    "\n",
    "pg.welch_anova(dv='mood_gain', \n",
    "               between='drug', \n",
    "               data=df).round(2)"
   ]
  },
  {
   "attachments": {},
   "cell_type": "markdown",
   "id": "103e77a0",
   "metadata": {},
   "source": [
    "To understand what's happening here, let's compare these numbers to what we got [earlier](introduceaov) when we ran our original ANOVA. To save you the trouble of flicking back, here are those numbers again:"
   ]
  },
  {
   "cell_type": "code",
   "execution_count": 23,
   "id": "ea395d3e",
   "metadata": {},
   "outputs": [
    {
     "data": {
      "text/html": [
       "<div>\n",
       "<style scoped>\n",
       "    .dataframe tbody tr th:only-of-type {\n",
       "        vertical-align: middle;\n",
       "    }\n",
       "\n",
       "    .dataframe tbody tr th {\n",
       "        vertical-align: top;\n",
       "    }\n",
       "\n",
       "    .dataframe thead th {\n",
       "        text-align: right;\n",
       "    }\n",
       "</style>\n",
       "<table border=\"1\" class=\"dataframe\">\n",
       "  <thead>\n",
       "    <tr style=\"text-align: right;\">\n",
       "      <th></th>\n",
       "      <th>Source</th>\n",
       "      <th>ddof1</th>\n",
       "      <th>ddof2</th>\n",
       "      <th>F</th>\n",
       "      <th>p-unc</th>\n",
       "      <th>np2</th>\n",
       "    </tr>\n",
       "  </thead>\n",
       "  <tbody>\n",
       "    <tr>\n",
       "      <th>0</th>\n",
       "      <td>drug</td>\n",
       "      <td>2</td>\n",
       "      <td>15</td>\n",
       "      <td>18.61</td>\n",
       "      <td>0.0</td>\n",
       "      <td>0.71</td>\n",
       "    </tr>\n",
       "  </tbody>\n",
       "</table>\n",
       "</div>"
      ],
      "text/plain": [
       "  Source  ddof1  ddof2      F  p-unc   np2\n",
       "0   drug      2     15  18.61    0.0  0.71"
      ]
     },
     "execution_count": 23,
     "metadata": {},
     "output_type": "execute_result"
    }
   ],
   "source": [
    "pg.anova(dv='mood_gain', \n",
    "         between='drug', \n",
    "         data=df).round(2)"
   ]
  },
  {
   "attachments": {},
   "cell_type": "markdown",
   "id": "033772fb",
   "metadata": {},
   "source": [
    "Okay, so originally our ANOVA gave us the result $F(2,15) = 18.6$, whereas the Welch one-way test gave us $F(2,9.49) = 26.32$. In other words, the Welch test has reduced the within-groups degrees of freedom from 15 to 9.49, and the $F$-value has increased from 18.6 to 26.32. "
   ]
  },
  {
   "attachments": {},
   "cell_type": "markdown",
   "id": "c25265d4",
   "metadata": {},
   "source": [
    "(anovanormality)=\n",
    "## Checking the normality assumption\n",
    "\n",
    "Testing the normality assumption is relatively straightforward. We have already covered [most of what you need to know](shapiro). The only thing we really need to know how to do is pull out the residuals (i.e., the $\\epsilon_{ik}$ values) so that we can draw our QQ plot and run our Shapiro-Wilk test. Now, I really hate to say this, but as of the time of writing (Monday, the 11th of April, 2022), `pingouin` does not currently have a way to give you the residuals from the ANOVA calculation. They expect to add this soon, but in the meantime, we can use `statsmodels` to give us what we need:"
   ]
  },
  {
   "cell_type": "code",
   "execution_count": 24,
   "id": "894b5a45",
   "metadata": {},
   "outputs": [],
   "source": [
    "import statsmodels.api as sm\n",
    "from statsmodels.formula.api import ols\n",
    "\n",
    "formula = 'mood_gain ~ drug'\n",
    "\n",
    "model = ols(formula, data=df).fit()\n",
    "res = model.resid\n",
    "\n"
   ]
  },
  {
   "attachments": {},
   "cell_type": "markdown",
   "id": "69eac270",
   "metadata": {},
   "source": [
    "We can print them out too, though it's not exactly an edifying experience.  In fact, given that I'm on the verge of putting *myself* to sleep just typing this, it might be a good idea to skip that step. Instead, let's draw some pictures and run ourselves a hypothesis test: "
   ]
  },
  {
   "cell_type": "code",
   "execution_count": 25,
   "id": "a3fa6e42",
   "metadata": {},
   "outputs": [
    {
     "data": {
      "image/png": "[encoded data removed]",
      "text/plain": [
       "<Figure size 640x480 with 1 Axes>"
      ]
     },
     "metadata": {},
     "output_type": "display_data"
    }
   ],
   "source": [
    "# QQ plot\n",
    "ax = pg.qqplot(res, dist='norm')\n",
    "sns.despine()"
   ]
  },
  {
   "cell_type": "code",
   "execution_count": 26,
   "id": "9d4ebbd7",
   "metadata": {},
   "outputs": [
    {
     "data": {
      "image/png": "[encoded data removed]",
      "text/plain": [
       "<Figure size 640x480 with 1 Axes>"
      ]
     },
     "metadata": {},
     "output_type": "display_data"
    }
   ],
   "source": [
    "# histogram of residuals\n",
    "\n",
    "import seaborn as sns\n",
    "\n",
    "\n",
    "ax = sns.histplot(res)\n",
    "sns.despine()"
   ]
  },
  {
   "cell_type": "code",
   "execution_count": 27,
   "id": "f99b8d77",
   "metadata": {},
   "outputs": [
    {
     "data": {
      "text/html": [
       "<div>\n",
       "<style scoped>\n",
       "    .dataframe tbody tr th:only-of-type {\n",
       "        vertical-align: middle;\n",
       "    }\n",
       "\n",
       "    .dataframe tbody tr th {\n",
       "        vertical-align: top;\n",
       "    }\n",
       "\n",
       "    .dataframe thead th {\n",
       "        text-align: right;\n",
       "    }\n",
       "</style>\n",
       "<table border=\"1\" class=\"dataframe\">\n",
       "  <thead>\n",
       "    <tr style=\"text-align: right;\">\n",
       "      <th></th>\n",
       "      <th>W</th>\n",
       "      <th>pval</th>\n",
       "      <th>normal</th>\n",
       "    </tr>\n",
       "  </thead>\n",
       "  <tbody>\n",
       "    <tr>\n",
       "      <th>0</th>\n",
       "      <td>0.96019</td>\n",
       "      <td>0.605309</td>\n",
       "      <td>True</td>\n",
       "    </tr>\n",
       "  </tbody>\n",
       "</table>\n",
       "</div>"
      ],
      "text/plain": [
       "         W      pval  normal\n",
       "0  0.96019  0.605309    True"
      ]
     },
     "execution_count": 27,
     "metadata": {},
     "output_type": "execute_result"
    }
   ],
   "source": [
    "#Shapiro-Wilk test with Pingouin\n",
    "\n",
    "pg.normality(res)"
   ]
  },
  {
   "cell_type": "code",
   "execution_count": 28,
   "id": "5d945ef6",
   "metadata": {},
   "outputs": [
    {
     "data": {
      "text/plain": [
       "ShapiroResult(statistic=0.9601902365684509, pvalue=0.6053088307380676)"
      ]
     },
     "execution_count": 28,
     "metadata": {},
     "output_type": "execute_result"
    }
   ],
   "source": [
    "#Shapiro-Wilk test with scipy\n",
    "\n",
    "from scipy.stats import shapiro\n",
    "\n",
    "shapiro(res)"
   ]
  },
  {
   "attachments": {},
   "cell_type": "markdown",
   "id": "06fb0310",
   "metadata": {},
   "source": [
    "\n",
    "The histogram and QQ plot are both look pretty normal to me. Not perfect, of course. The histogram in particuar you might need to squint at a bit, to see a normal distringution. But the results of our Shapiro-Wilk test ($W = .96$, $p = .61$) finds no indication that normality is violated, so even if these residuals are not _perfectly_ normally distributed, they seem to be well within the range of the acceptable."
   ]
  },
  {
   "attachments": {},
   "cell_type": "markdown",
   "id": "a584eee0",
   "metadata": {},
   "source": [
    "(kruskalwallis)=\n",
    "## Removing the normality assumption\n",
    "\n",
    "Now that we've seen how to check for normality, we are led naturally to ask what we can do to address violations of normality. In the context of a one-way ANOVA, the easiest solution is probably to switch to a non-parametric test (i.e., one that doesn't rely on any particular assumption about the kind of distribution involved). We've seen non-parametric tests [before](wilcox): when you only have two groups, the Wilcoxon test provides the non-parametric alternative that you need. When you've got three or more groups, you can use the **_Kruskal-Wallis rank sum test_** {cite}`KruskalWallis1952`. So that's the test we'll talk about next.\n",
    "\n",
    "### The logic behind the Kruskal-Wallis test\n",
    "\n",
    "The Kruskal-Wallis test is surprisingly similar to ANOVA, in some ways. In ANOVA, we started with $Y_{ik}$, the value of the outcome variable for the $i$th person in the $k$th group. For the Kruskal-Wallis test, what we'll do is rank order all of these $Y_{ik}$ values, and conduct our analysis on the ranked data. So let's let $R_{ik}$ refer to the ranking given to the $i$th member of the $k$th group. Now, let's calculate $\\bar{R}_k$, the average rank given to observations in the $k$th group:\n",
    "\n",
    "$$\n",
    "\\bar{R}_k = \\frac{1}{N_K} \\sum_{i} R_{ik}\n",
    "$$\n",
    "and let's also calculate $\\bar{R}$, the grand mean rank:\n",
    "$$\n",
    "\\bar{R} = \\frac{1}{N} \\sum_{i} \\sum_{k} R_{ik}\n",
    "$$\n",
    "\n",
    "Now that we've done this, we can calculate the squared deviations from the grand mean rank $\\bar{R}$. When we do this for the individual scores -- i.e., if we calculate $(R_{ik} - \\bar{R})^2$ -- what we have is a \"nonparametric\" measure of how far the $ik$-th observation deviates from the grand mean rank. When we calculate the squared deviation of the group means from the grand means -- i.e., if we calculate $(\\bar{R}_k  - \\bar{R} )^2$ -- then what we have is a nonparametric measure of how much the *group* deviates from the grand mean rank. With this in mind, let's follow the same logic that we did with ANOVA, and define our *ranked* sums of squares measures in much the same way that we did earlier. First, we have our \"total ranked sums of squares\":\n",
    "\n",
    "$$\n",
    "\\mbox{RSS}_{tot} = \\sum_k \\sum_i ( R_{ik} - \\bar{R} )^2\n",
    "$$\n",
    "\n",
    "and we can define the \"between groups ranked sums of squares\" like this:\n",
    "\n",
    "$$\n",
    "\\begin{array}{rcl}\n",
    "\\mbox{RSS}_{b} &=& \\sum_k \\sum_i ( \\bar{R}_k  - \\bar{R} )^2 \\\\\n",
    "&=& \\sum_k N_k ( \\bar{R}_k  - \\bar{R} )^2 \n",
    "\\end{array}\n",
    "$$\n",
    "\n",
    "So, if the null hypothesis is true and there are no true group differences at all, you'd expect the between group rank sums $\\mbox{RSS}_{b}$ to be very small, much smaller than the total rank sums $\\mbox{RSS}_{tot}$. Qualitatively this is very much the same as what we found when we went about constructing the ANOVA $F$-statistic; but for technical reasons the Kruskal-Wallis test statistic, usually denoted $K$, is constructed in a slightly different way: \n",
    "\n",
    "$$\n",
    "K = (N - 1) \\times \\frac{\\mbox{RSS}_b}{\\mbox{RSS}_{tot}}\n",
    "$$\n",
    "\n",
    "and, if the null hypothesis is true, then the sampling distribution of $K$ is *approximately* chi-square with $G-1$ degrees of freedom (where $G$ is the number of groups). The larger the value of $K$, the less consistent the data are with null hypothesis, so this is a one-sided test: we reject $H_0$ when $K$ is sufficiently large."
   ]
  },
  {
   "attachments": {},
   "cell_type": "markdown",
   "id": "3d4a0807",
   "metadata": {},
   "source": [
    "### Additional details\n",
    "\n",
    "The description in the previous section illustrates the logic behind the Kruskal-Wallis test. At a conceptual level, this is the right way to think about how the test works. However, from a purely mathematical perspective it's needlessly complicated. I won't show you the derivation, but you can use a bit of algebraic jiggery-pokery[^notejig] to show that the equation for $K$ can be rewritten as \n",
    "\n",
    "$$\n",
    "K = \\frac{12}{N(N-1)} \\sum_k N_k {\\bar{R}_k}^2    -  3(N+1)\n",
    "$$\n",
    "\n",
    "It's this last equation that you sometimes see given for $K$. This is way easier to calculate than the version I described in the previous section, it's just that it's totally meaningless to actual humans. It's probably best to think of $K$ the way I described it earlier... as an analogue of ANOVA based on ranks. But keep in mind that the test statistic that gets calculated ends up with a rather different look to it than the one we used for our original ANOVA.\n",
    "\n",
    "But wait, there's more! Dear lord, why is there always *more*? The story I've told so far is only actually true when there are no ties in the raw data. That is, if there are no two observations that have exactly the same value. If there *are* ties, then we have to introduce a correction factor to these calculations. At this point I'm assuming that even the most diligent reader has stopped caring (or at least formed the opinion that the tie-correction factor is something that doesn't require their immediate attention). So I'll very quickly tell you how it's calculated, and omit the tedious details about *why* it's done this way. Suppose we construct a frequency table for the raw data, and let $f_j$ be the number of observations that have the $j$-th unique value. This might sound a bit abstract, so here's the Python code showing a concrete example:"
   ]
  },
  {
   "cell_type": "code",
   "execution_count": 29,
   "id": "a14090f4",
   "metadata": {},
   "outputs": [
    {
     "data": {
      "text/html": [
       "<div>\n",
       "<style scoped>\n",
       "    .dataframe tbody tr th:only-of-type {\n",
       "        vertical-align: middle;\n",
       "    }\n",
       "\n",
       "    .dataframe tbody tr th {\n",
       "        vertical-align: top;\n",
       "    }\n",
       "\n",
       "    .dataframe thead th {\n",
       "        text-align: right;\n",
       "    }\n",
       "</style>\n",
       "<table border=\"1\" class=\"dataframe\">\n",
       "  <thead>\n",
       "    <tr style=\"text-align: right;\">\n",
       "      <th></th>\n",
       "      <th>unique_values</th>\n",
       "      <th>counts</th>\n",
       "    </tr>\n",
       "  </thead>\n",
       "  <tbody>\n",
       "    <tr>\n",
       "      <th>5</th>\n",
       "      <td>0.1</td>\n",
       "      <td>1</td>\n",
       "    </tr>\n",
       "    <tr>\n",
       "      <th>7</th>\n",
       "      <td>0.2</td>\n",
       "      <td>1</td>\n",
       "    </tr>\n",
       "    <tr>\n",
       "      <th>0</th>\n",
       "      <td>0.3</td>\n",
       "      <td>2</td>\n",
       "    </tr>\n",
       "    <tr>\n",
       "      <th>6</th>\n",
       "      <td>0.4</td>\n",
       "      <td>1</td>\n",
       "    </tr>\n",
       "    <tr>\n",
       "      <th>4</th>\n",
       "      <td>0.5</td>\n",
       "      <td>1</td>\n",
       "    </tr>\n",
       "    <tr>\n",
       "      <th>1</th>\n",
       "      <td>0.6</td>\n",
       "      <td>2</td>\n",
       "    </tr>\n",
       "    <tr>\n",
       "      <th>11</th>\n",
       "      <td>0.8</td>\n",
       "      <td>1</td>\n",
       "    </tr>\n",
       "    <tr>\n",
       "      <th>9</th>\n",
       "      <td>0.9</td>\n",
       "      <td>1</td>\n",
       "    </tr>\n",
       "    <tr>\n",
       "      <th>10</th>\n",
       "      <td>1.1</td>\n",
       "      <td>1</td>\n",
       "    </tr>\n",
       "    <tr>\n",
       "      <th>12</th>\n",
       "      <td>1.2</td>\n",
       "      <td>1</td>\n",
       "    </tr>\n",
       "    <tr>\n",
       "      <th>3</th>\n",
       "      <td>1.3</td>\n",
       "      <td>2</td>\n",
       "    </tr>\n",
       "    <tr>\n",
       "      <th>2</th>\n",
       "      <td>1.4</td>\n",
       "      <td>2</td>\n",
       "    </tr>\n",
       "    <tr>\n",
       "      <th>8</th>\n",
       "      <td>1.7</td>\n",
       "      <td>1</td>\n",
       "    </tr>\n",
       "    <tr>\n",
       "      <th>13</th>\n",
       "      <td>1.8</td>\n",
       "      <td>1</td>\n",
       "    </tr>\n",
       "  </tbody>\n",
       "</table>\n",
       "</div>"
      ],
      "text/plain": [
       "    unique_values  counts\n",
       "5             0.1       1\n",
       "7             0.2       1\n",
       "0             0.3       2\n",
       "6             0.4       1\n",
       "4             0.5       1\n",
       "1             0.6       2\n",
       "11            0.8       1\n",
       "9             0.9       1\n",
       "10            1.1       1\n",
       "12            1.2       1\n",
       "3             1.3       2\n",
       "2             1.4       2\n",
       "8             1.7       1\n",
       "13            1.8       1"
      ]
     },
     "execution_count": 29,
     "metadata": {},
     "output_type": "execute_result"
    }
   ],
   "source": [
    "# Make a frequency table of the counts of unique values (mood gain)\n",
    "\n",
    "f = df['mood_gain'].value_counts().rename_axis('unique_values').reset_index(name='counts').sort_values('unique_values')\n",
    "f"
   ]
  },
  {
   "attachments": {},
   "cell_type": "markdown",
   "id": "8a9b9baa",
   "metadata": {},
   "source": [
    "Looking at these frequencies, notice that the third entry in the frequency table has a value of $2$. Since this corresponds to a `mood_gain` of 0.3, this table is telling us that two people's mood increased by 0.3. More to the point, note that we can say that `f['counts'][2]` has a value of `2`. Or, in the mathematical notation I introduced above, this is telling us that $f_3 = 2$. Yay. So, now that we know this, the tie correction factor (TCF) is:\n",
    "\n",
    "$$\n",
    "\\mbox{TCF} = 1 - \\frac{\\sum_j {f_j}^3 - f_j}{N^3 - N} \n",
    "$$\n",
    "\n",
    "The tie-corrected value of the Kruskal-Wallis statistic obtained by dividing the value of $K$ by this quantity: it is this tie-corrected version that Python calculates. And at long last, we're actually finished with the theory of the Kruskal-Wallis test. I'm sure you're all terribly relieved that I've cured you of the existential anxiety that naturally arises when you realise that you *don't* know how to calculate the tie-correction factor for the Kruskal-Wallis test. Right?\n",
    "\n",
    "\n",
    "[^notejig]: A technical term."
   ]
  },
  {
   "attachments": {},
   "cell_type": "markdown",
   "id": "11100d3d",
   "metadata": {},
   "source": [
    "### How to run the Kruskal-Wallis test in Python\n",
    "\n",
    "Despite the horror that we've gone through in trying to understand what the Kruskal-Wallis test actually does, it turns out that running the test is pretty painless, since `pingouin` has a function called `kruskal()`:"
   ]
  },
  {
   "cell_type": "code",
   "execution_count": 30,
   "id": "e2fb5eb0",
   "metadata": {},
   "outputs": [
    {
     "data": {
      "text/html": [
       "<div>\n",
       "<style scoped>\n",
       "    .dataframe tbody tr th:only-of-type {\n",
       "        vertical-align: middle;\n",
       "    }\n",
       "\n",
       "    .dataframe tbody tr th {\n",
       "        vertical-align: top;\n",
       "    }\n",
       "\n",
       "    .dataframe thead th {\n",
       "        text-align: right;\n",
       "    }\n",
       "</style>\n",
       "<table border=\"1\" class=\"dataframe\">\n",
       "  <thead>\n",
       "    <tr style=\"text-align: right;\">\n",
       "      <th></th>\n",
       "      <th>Source</th>\n",
       "      <th>ddof1</th>\n",
       "      <th>H</th>\n",
       "      <th>p-unc</th>\n",
       "    </tr>\n",
       "  </thead>\n",
       "  <tbody>\n",
       "    <tr>\n",
       "      <th>Kruskal</th>\n",
       "      <td>drug</td>\n",
       "      <td>2</td>\n",
       "      <td>12.076</td>\n",
       "      <td>0.002</td>\n",
       "    </tr>\n",
       "  </tbody>\n",
       "</table>\n",
       "</div>"
      ],
      "text/plain": [
       "        Source  ddof1       H  p-unc\n",
       "Kruskal   drug      2  12.076  0.002"
      ]
     },
     "execution_count": 30,
     "metadata": {},
     "output_type": "execute_result"
    }
   ],
   "source": [
    "import pingouin as pg\n",
    "\n",
    "pg.kruskal(data=df, \n",
    "        dv='mood_gain', \n",
    "        between='drug').round(3)"
   ]
  },
  {
   "attachments": {},
   "cell_type": "markdown",
   "id": "c03f300d",
   "metadata": {},
   "source": [
    "(anovaandt)=\n",
    "\n",
    "## On the relationship between ANOVA and the Student $t$ test\n",
    "\n",
    "There's one last thing I want to point out before finishing. It's something that a lot of people find kind of surprising, but it's worth knowing about: an ANOVA with two groups is identical to the Student $t$-test. No, really. It's not just that they are similar, but they are actually equivalent in every meaningful way. I won't try to prove that this is always true, but I will show you a single concrete demonstration. Suppose that, instead of running an ANOVA on our `mood_gain` predicted by `drug` model, let's instead do it using `therapy` as the predictor. If we run this ANOVA, here's what we get`\n"
   ]
  },
  {
   "cell_type": "code",
   "execution_count": 31,
   "id": "587df80e",
   "metadata": {},
   "outputs": [
    {
     "data": {
      "text/html": [
       "<div>\n",
       "<style scoped>\n",
       "    .dataframe tbody tr th:only-of-type {\n",
       "        vertical-align: middle;\n",
       "    }\n",
       "\n",
       "    .dataframe tbody tr th {\n",
       "        vertical-align: top;\n",
       "    }\n",
       "\n",
       "    .dataframe thead th {\n",
       "        text-align: right;\n",
       "    }\n",
       "</style>\n",
       "<table border=\"1\" class=\"dataframe\">\n",
       "  <thead>\n",
       "    <tr style=\"text-align: right;\">\n",
       "      <th></th>\n",
       "      <th>Source</th>\n",
       "      <th>ddof1</th>\n",
       "      <th>ddof2</th>\n",
       "      <th>F</th>\n",
       "      <th>p-unc</th>\n",
       "      <th>np2</th>\n",
       "    </tr>\n",
       "  </thead>\n",
       "  <tbody>\n",
       "    <tr>\n",
       "      <th>0</th>\n",
       "      <td>therapy</td>\n",
       "      <td>1</td>\n",
       "      <td>16</td>\n",
       "      <td>1.708</td>\n",
       "      <td>0.21</td>\n",
       "      <td>0.096</td>\n",
       "    </tr>\n",
       "  </tbody>\n",
       "</table>\n",
       "</div>"
      ],
      "text/plain": [
       "    Source  ddof1  ddof2      F  p-unc    np2\n",
       "0  therapy      1     16  1.708   0.21  0.096"
      ]
     },
     "execution_count": 31,
     "metadata": {},
     "output_type": "execute_result"
    }
   ],
   "source": [
    "import pingouin as pg\n",
    "pg.anova(dv='mood_gain', \n",
    "         between='therapy', \n",
    "         data=df).round(3)"
   ]
  },
  {
   "attachments": {},
   "cell_type": "markdown",
   "id": "b49c28fc",
   "metadata": {},
   "source": [
    "Overall, it looks like there's no significant effect here at all but, as we'll [soon see](anova2) this is actually a misleading  answer! In any case, it's irrelevant to our current goals: our interest here is in the $F$-statistic, which is $F(1,16) = 1.71$, and the $p$-value, which is .21. Since we only have two groups, I didn't actually need to resort to an ANOVA, I could have just decided to run a Student $t$-test. So let's see what happens when I do that. First, I'll just re-arrange the data in to wide format:"
   ]
  },
  {
   "cell_type": "code",
   "execution_count": 32,
   "id": "cf8c9b68",
   "metadata": {},
   "outputs": [],
   "source": [
    "df_wide = pd.DataFrame(\n",
    "                {'no_therapy': df.loc[df['therapy'] == 'no.therapy']['mood_gain'],\n",
    "                 'CBT': df.loc[df['therapy'] == 'CBT']['mood_gain']})\n"
   ]
  },
  {
   "attachments": {},
   "cell_type": "markdown",
   "id": "a2cb639d",
   "metadata": {},
   "source": [
    "Then we can run the test"
   ]
  },
  {
   "cell_type": "code",
   "execution_count": 33,
   "id": "31057011",
   "metadata": {},
   "outputs": [
    {
     "data": {
      "text/html": [
       "<div>\n",
       "<style scoped>\n",
       "    .dataframe tbody tr th:only-of-type {\n",
       "        vertical-align: middle;\n",
       "    }\n",
       "\n",
       "    .dataframe tbody tr th {\n",
       "        vertical-align: top;\n",
       "    }\n",
       "\n",
       "    .dataframe thead th {\n",
       "        text-align: right;\n",
       "    }\n",
       "</style>\n",
       "<table border=\"1\" class=\"dataframe\">\n",
       "  <thead>\n",
       "    <tr style=\"text-align: right;\">\n",
       "      <th></th>\n",
       "      <th>T</th>\n",
       "      <th>dof</th>\n",
       "      <th>alternative</th>\n",
       "      <th>p-val</th>\n",
       "      <th>CI95%</th>\n",
       "      <th>cohen-d</th>\n",
       "      <th>BF10</th>\n",
       "      <th>power</th>\n",
       "    </tr>\n",
       "  </thead>\n",
       "  <tbody>\n",
       "    <tr>\n",
       "      <th>T-test</th>\n",
       "      <td>-1.307</td>\n",
       "      <td>16</td>\n",
       "      <td>two-sided</td>\n",
       "      <td>0.21</td>\n",
       "      <td>[-0.84, 0.2]</td>\n",
       "      <td>0.616</td>\n",
       "      <td>0.732</td>\n",
       "      <td>0.233</td>\n",
       "    </tr>\n",
       "  </tbody>\n",
       "</table>\n",
       "</div>"
      ],
      "text/plain": [
       "            T  dof alternative  p-val         CI95%  cohen-d   BF10  power\n",
       "T-test -1.307   16   two-sided   0.21  [-0.84, 0.2]    0.616  0.732  0.233"
      ]
     },
     "execution_count": 33,
     "metadata": {},
     "output_type": "execute_result"
    }
   ],
   "source": [
    "import pingouin as pg\n",
    "\n",
    "pg.ttest(df_wide['no_therapy'], \n",
    "         df_wide['CBT']).round(3)"
   ]
  },
  {
   "attachments": {},
   "cell_type": "markdown",
   "id": "52a61d11",
   "metadata": {},
   "source": [
    "Curiously, the $p$-values are identical: once again we obtain a value of $p = .21$. But what about the test statistic? Having run a $t$-test instead of an ANOVA, we get a somewhat different answer, namely $t(16) = -1.3068$. However, there is a fairly straightforward relationship here. If we square the $t$-statistic"
   ]
  },
  {
   "cell_type": "code",
   "execution_count": 34,
   "id": "4b244729",
   "metadata": {},
   "outputs": [
    {
     "data": {
      "text/plain": [
       "1.708"
      ]
     },
     "execution_count": 34,
     "metadata": {},
     "output_type": "execute_result"
    }
   ],
   "source": [
    "round((-1.307)**2,3)"
   ]
  },
  {
   "attachments": {},
   "cell_type": "markdown",
   "id": "quarterly-designer",
   "metadata": {},
   "source": [
    "\n",
    "we get the $F$-statistic from before. Kinda cool, innit?"
   ]
  },
  {
   "attachments": {},
   "cell_type": "markdown",
   "id": "28f00f01",
   "metadata": {},
   "source": [
    "## Summary\n",
    "\n",
    "There's a fair bit covered in this chapter, but there's still a lot missing. Most obviously, I haven't yet discussed any analog of the paired samples $t$-test for more than two groups. There is a way of doing this, known as *repeated measures ANOVA*, which I am happy to report, ``pingouin`` [handles](https://pingouin-stats.org/build/html/generated/pingouin.rm_anova.html#pingouin.rm_anova) with [aplomb](https://en.wikipedia.org/wiki/Aplomb). I also haven't discussed how to run an ANOVA when you are interested in more than one grouping variable, but that will be discussed in a lot of detail in a [later chapter](anova2). In terms of what we have discussed, the key topics were:\n",
    "\n",
    "\n",
    "- The basic logic behind [how ANOVA works](anovaintro) and [how to run one in Python](introduceaov).\n",
    "- How to compute an [effect size for an ANOVA](etasquared).\n",
    "- [Post hoc analysis and corrections for multiple testing](posthoc).\n",
    "- The [assumptions](anovaassumptions) made by ANOVA.\n",
    "- [How to check the homogeneity of variance assumption](levene) and [what to do](welchoneway) if it is violated.\n",
    "- [How to check the normality assumption](anovanormality) and [what to do](kruskalwallis) if it is violated.\n",
    "\n",
    "\n",
    "As with all of the chapters in this book, there are quite a few different sources that I've relied upon, but the one stand-out text that I've been most heavily influenced by is {cite}`Sahai2000`. It's not a good book for beginners, but it's an excellent book for more advanced readers who are interested in understanding the mathematics behind ANOVA."
   ]
  },
  {
   "attachments": {},
   "cell_type": "markdown",
   "id": "378f5b48",
   "metadata": {},
   "source": [
    "[^note1]: When all groups have the same number of observations, the experimental design is said to be \"balanced\". Balance isn't such a big deal for one-way ANOVA, which is the topic of this chapter. It becomes more important when you start doing more complicated ANOVAs.\n",
    "\n",
    "[^note2]: In a later versions I'm intending to expand on this. But because I'm writing in a rush, and am already over my deadlines, I'll just briefly note that if you read ahead to the chapter on [factorial anovas](anova2) and look at how the \"treatment effect\" at level $k$ of a factor is defined in terms of the $\\alpha_k$ values (check out the section on [interactions](interactions)), it turns out that $Q$ refers to a weighted mean of the squared treatment effects, $Q=(\\sum_{k=1}^G N_k\\alpha_k^2)/(G-1)$.\n",
    "\n",
    "[^note3]: Or, if we want to be sticklers for accuracy, $1 + \\frac{2}{df_2 - 2}$.\n",
    "\n",
    "[^note4]: Or, to be precise, party like \"it's 1899 and we've got no friends and nothing better to do with our time than do some calculations that wouldn't have made any sense in 1899 because ANOVA didn't exist until about the 1920s\".\n",
    "\n",
    "[^plannedcomparisons]: If you *do* have some theoretical basis for wanting to investigate some comparisons but not others, it's a different story. In those circumstances you're not really running \"post hoc\" analyses at all: you're making \"planned comparisons\". I do talk about this situation [later in the book](plannedcomparisons)), but for now I want to keep things simple.\n",
    "\n",
    "[^bonf]: It's worth noting in passing that not all adjustment methods try to do this. What I've described here is an approach for controlling \"family wise Type I error rate\". However, there are other post hoc tests seek to control the \"false discovery rate\", which is a somewhat different thing."
   ]
  },
  {
   "cell_type": "code",
   "execution_count": null,
   "id": "8706dbf8",
   "metadata": {},
   "outputs": [],
   "source": []
  }
 ],
 "metadata": {
  "celltoolbar": "Tags",
  "kernelspec": {
   "display_name": "pythonbook3",
   "language": "python",
   "name": "python3"
  },
  "language_info": {
   "codemirror_mode": {
    "name": "ipython",
    "version": 3
   },
   "file_extension": ".py",
   "mimetype": "text/x-python",
   "name": "python",
   "nbconvert_exporter": "python",
   "pygments_lexer": "ipython3",
   "version": "3.11.3"
  }
 },
 "nbformat": 4,
 "nbformat_minor": 5
}
