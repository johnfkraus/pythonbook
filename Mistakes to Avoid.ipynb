{
 "cells": [
  {
   "cell_type": "markdown",
   "id": "2575c9d9-de1e-4c49-ba8c-a3aba410a8af",
   "metadata": {},
   "source": [
    "## Bad benchmarks"
   ]
  },
  {
   "cell_type": "code",
   "execution_count": 1,
   "id": "da2c5f93-8c70-4c89-9ef2-769f36365415",
   "metadata": {},
   "outputs": [],
   "source": [
    "import time\n",
    "from typing import Callable"
   ]
  },
  {
   "cell_type": "code",
   "execution_count": 2,
   "id": "4b8b64f0-607f-4834-8b6e-f11367a548e4",
   "metadata": {},
   "outputs": [],
   "source": [
    "def pass_stmt() -> Callable:\n",
    "    for i in range(10_000_000):\n",
    "        pass"
   ]
  },
  {
   "cell_type": "code",
   "execution_count": 3,
   "id": "fe6bdd03-09b3-4892-aa30-ca7a450c7d4c",
   "metadata": {},
   "outputs": [],
   "source": [
    "def ellipses() -> None:\n",
    "    for i in range(10_000_000):\n",
    "        ...    "
   ]
  },
  {
   "cell_type": "code",
   "execution_count": 5,
   "id": "f1aeed4e-c1ab-4f3c-9e48-b2a4ef34284e",
   "metadata": {},
   "outputs": [],
   "source": [
    "def get_time(func: Callable) -> None:\n",
    "    start_time: float = time.perf_counter()\n",
    "    func()\n",
    "    end_time: float = time.perf_counter()\n",
    "    print(f'\"{func.__name__}()\" took {end_time - start_time:.5f} seconds') "
   ]
  },
  {
   "cell_type": "code",
   "execution_count": 6,
   "id": "14ba9b72-e661-4d36-9da5-0cc11e31514a",
   "metadata": {},
   "outputs": [
    {
     "name": "stdout",
     "output_type": "stream",
     "text": [
      "\"ellipses()\" took 0.09288 seconds\n"
     ]
    }
   ],
   "source": [
    "get_time(ellipses)"
   ]
  },
  {
   "cell_type": "code",
   "execution_count": 8,
   "id": "5edb7ab7-7446-4134-8343-5c05c16009b1",
   "metadata": {},
   "outputs": [
    {
     "name": "stdout",
     "output_type": "stream",
     "text": [
      "\"pass_stmt()\" took 0.09955 seconds\n",
      "\"ellipses()\" took 0.06252 seconds\n",
      "\"pass_stmt()\" took 0.06275 seconds\n"
     ]
    }
   ],
   "source": [
    "get_time(pass_stmt)  # warmup\n",
    "get_time(ellipses)\n",
    "get_time(pass_stmt)"
   ]
  },
  {
   "cell_type": "code",
   "execution_count": 9,
   "id": "5f2dec5f-eda9-4a44-9899-aecbb6e0eb98",
   "metadata": {},
   "outputs": [
    {
     "name": "stdout",
     "output_type": "stream",
     "text": [
      "\"pass_stmt()\" took 0.06125 seconds\n",
      "\"ellipses()\" took 0.06359 seconds\n",
      "\"pass_stmt()\" took 0.06264 seconds\n"
     ]
    }
   ],
   "source": [
    "get_time(pass_stmt)  # warmup\n",
    "get_time(ellipses)\n",
    "get_time(pass_stmt)"
   ]
  },
  {
   "cell_type": "markdown",
   "id": "77a47626-fdec-486f-b139-2cdc9542c80b",
   "metadata": {},
   "source": [
    "timeit gives you better tools for timing your code"
   ]
  },
  {
   "cell_type": "markdown",
   "id": "7600072d-0b6a-4bc6-8863-7b23b8f95b33",
   "metadata": {},
   "source": [
    "## Premature optimization"
   ]
  },
  {
   "cell_type": "code",
   "execution_count": 11,
   "id": "866e1718-425e-4221-802a-2a49c4a05b8c",
   "metadata": {},
   "outputs": [],
   "source": [
    "def calculate_sum(n):\n",
    "    result = 0\n",
    "    for i in range(n):\n",
    "        result += 1\n",
    "    return result\n",
    "\n",
    "def calculate_sum_optimized(n):\n",
    "    return (n * (n - 1)) // 2\n",
    "\n",
    "def get_time(func: Callable, *args: int) -> None:\n",
    "    start_time: float = time.perf_counter()\n",
    "    func(*args)\n",
    "    end_time: float = time.perf_counter()\n",
    "    print(f'\"{func.__name__}()\" took {end_time - start_time:.5f} seconds')"
   ]
  },
  {
   "cell_type": "code",
   "execution_count": 15,
   "id": "915b0d6d-303a-4716-90fe-d1d4a99dc157",
   "metadata": {},
   "outputs": [
    {
     "name": "stdout",
     "output_type": "stream",
     "text": [
      "\"calculate_sum()\" took 1.40911 seconds\n",
      "\"calculate_sum_optimized()\" took 0.00000 seconds\n"
     ]
    }
   ],
   "source": [
    "n = 100_000_000\n",
    "get_time(calculate_sum, n)\n",
    "get_time(calculate_sum_optimized, n)"
   ]
  },
  {
   "cell_type": "markdown",
   "id": "40899547-63c8-4930-a5c7-33964105edd3",
   "metadata": {},
   "source": [
    "## Type annotations\n",
    "\n",
    "Help avoid mistakes.  When you are tired.\n",
    "\n",
    "Might give you context actions in code editor/IDE."
   ]
  },
  {
   "cell_type": "code",
   "execution_count": 16,
   "id": "38d8160f-4fdc-466b-8deb-8879b34a73e7",
   "metadata": {},
   "outputs": [],
   "source": [
    "name: str = 'Bob'\n",
    "age: int = '88'"
   ]
  },
  {
   "cell_type": "markdown",
   "id": "c328a545-e8fd-4601-9b5b-fb380cad9c23",
   "metadata": {},
   "source": [
    "# Noob mistakes\n",
    "\n",
    "## Equality, identity"
   ]
  },
  {
   "cell_type": "code",
   "execution_count": 24,
   "id": "5cc0ce13-edce-43b8-b1a6-f35cae0154da",
   "metadata": {},
   "outputs": [
    {
     "name": "stdout",
     "output_type": "stream",
     "text": [
      "id(var_a)=4460179120\n",
      "id(var_b)=4460179120\n",
      "True\n",
      "True\n"
     ]
    }
   ],
   "source": [
    "var_a: str = 'bob'\n",
    "var_b: str = 'bob'\n",
    "\n",
    "print(f'{id(var_a)=}')\n",
    "print(f'{id(var_b)=}')\n",
    "print(var_a == var_b)\n",
    "print(var_a is var_b)"
   ]
  },
  {
   "cell_type": "code",
   "execution_count": 26,
   "id": "82ffa16f-a37b-441d-9202-3fa5355200cf",
   "metadata": {},
   "outputs": [
    {
     "name": "stdout",
     "output_type": "stream",
     "text": [
      "id(var_a)=4460179120\n",
      "id(var_b)=4460202816\n",
      "True\n",
      "False\n"
     ]
    }
   ],
   "source": [
    "var_b: str = 'bob'.lower()\n",
    "print(f'{id(var_a)=}')\n",
    "print(f'{id(var_b)=}')\n",
    "print(var_a == var_b)\n",
    "print(var_a is var_b)"
   ]
  },
  {
   "cell_type": "code",
   "execution_count": 27,
   "id": "7de8adfe-6617-4958-80ac-c4de8af69052",
   "metadata": {},
   "outputs": [
    {
     "name": "stdout",
     "output_type": "stream",
     "text": [
      "id(var_a)=4345329096\n",
      "id(var_b)=4345329096\n",
      "True\n",
      "True\n"
     ]
    }
   ],
   "source": [
    "var_a: int = 100\n",
    "var_b: int = 100\n",
    "\n",
    "print(f'{id(var_a)=}')\n",
    "print(f'{id(var_b)=}')\n",
    "print(var_a == var_b)\n",
    "print(var_a is var_b)"
   ]
  },
  {
   "cell_type": "markdown",
   "id": "b155cb89-7be7-4e46-bf35-cbc7789e966a",
   "metadata": {},
   "source": [
    "## Modifying list while iterating through it"
   ]
  },
  {
   "cell_type": "code",
   "execution_count": 30,
   "id": "47b75c47-fbe3-4351-b541-6f1b09cf14a0",
   "metadata": {},
   "outputs": [
    {
     "data": {
      "text/plain": [
       "['A', 'B', 'C', 'D', 'E']"
      ]
     },
     "execution_count": 30,
     "metadata": {},
     "output_type": "execute_result"
    }
   ],
   "source": [
    "items: list[str] = \"A B C D E\".split()\n",
    "items"
   ]
  },
  {
   "cell_type": "code",
   "execution_count": 35,
   "id": "f56646d2-9781-41da-a16d-abf1fba8eb9d",
   "metadata": {},
   "outputs": [
    {
     "name": "stdout",
     "output_type": "stream",
     "text": [
      "A\n",
      "C\n",
      "D\n",
      "E\n"
     ]
    }
   ],
   "source": [
    "# supposedly won't work (but it does!)\n",
    "for item in items:\n",
    "    if item == 'B':\n",
    "        items.remove('B')\n",
    "    else:\n",
    "        print(item)"
   ]
  },
  {
   "cell_type": "code",
   "execution_count": 39,
   "id": "fb20330a-7dc1-4bf3-9e56-3010521c6d3d",
   "metadata": {},
   "outputs": [
    {
     "name": "stdout",
     "output_type": "stream",
     "text": [
      "['A', 'C', 'D', 'E']\n"
     ]
    }
   ],
   "source": [
    "# better, create new list\n",
    "items: list[str] = \"A B C D E\".split()\n",
    "new_items = []\n",
    "\n",
    "for item in items:\n",
    "    if item == 'B':\n",
    "        continue\n",
    "    else:\n",
    "        new_items.append(item)\n",
    "\n",
    "print(new_items)"
   ]
  },
  {
   "cell_type": "markdown",
   "id": "7a8eec7d-062e-4ba2-9066-89271af63ef0",
   "metadata": {},
   "source": [
    "## Modifying strings\n",
    "and other immutable objects"
   ]
  },
  {
   "cell_type": "code",
   "execution_count": 40,
   "id": "f0eb5c07-a1f5-4321-bad2-5b98a8df7dd9",
   "metadata": {},
   "outputs": [],
   "source": [
    "from timeit import timeit"
   ]
  },
  {
   "cell_type": "code",
   "execution_count": 50,
   "id": "4e5b1903-15f0-469a-89c8-6667f5ca2dc3",
   "metadata": {},
   "outputs": [
    {
     "name": "stdout",
     "output_type": "stream",
     "text": [
      "Same result? append_text() == append_text_join()=True\n"
     ]
    }
   ],
   "source": [
    "def append_text() -> str:\n",
    "    text: str = ''\n",
    "    for i in range(50):\n",
    "        text += 'text'\n",
    "\n",
    "    return text\n",
    "\n",
    "def append_text_join() -> str:\n",
    "    elements: list[str] = []\n",
    "    for i in range(50):\n",
    "        elements.append('text')\n",
    "\n",
    "    return ''.join(elements)\n",
    "\n",
    "print(f'Same result? {append_text() == append_text_join()=}')\n",
    "warmup: float = timeit(append_text)\n",
    "normal_time: float = timeit(append_text)\n",
    "join_time: float = timeit(append_text_join)"
   ]
  },
  {
   "cell_type": "code",
   "execution_count": 53,
   "id": "f050d03b-237b-4d5f-ae4b-71037224b303",
   "metadata": {},
   "outputs": [
    {
     "name": "stdout",
     "output_type": "stream",
     "text": [
      "normal: 0.68547s\n",
      "join: 0.57648s\n"
     ]
    }
   ],
   "source": [
    "print(f'normal: {normal_time:.5f}s')\n",
    "print(f'join: {join_time:.5f}s')"
   ]
  },
  {
   "cell_type": "markdown",
   "id": "749a7fc3-0c88-427a-a53a-3a8e7f545807",
   "metadata": {},
   "source": [
    "## Overcomplicating file handling"
   ]
  },
  {
   "cell_type": "code",
   "execution_count": 57,
   "id": "9c5515ed-342e-453c-87f0-41061bd54084",
   "metadata": {},
   "outputs": [
    {
     "name": "stdout",
     "output_type": "stream",
     "text": [
      "Bob eats serial for breakfast.\n",
      "\n",
      "\n"
     ]
    }
   ],
   "source": [
    "from typing import TextIO\n",
    "\n",
    "file: TextIO = open('notes.txt')\n",
    "content: str = file.read()\n",
    "print(content)\n",
    "file.close()  # hope this actually gets executed"
   ]
  },
  {
   "cell_type": "code",
   "execution_count": 58,
   "id": "45f87a3d-5b88-4f41-a8e2-a97dc3f08393",
   "metadata": {},
   "outputs": [
    {
     "name": "stdout",
     "output_type": "stream",
     "text": [
      "Bob eats serial for breakfast.\n",
      "\n",
      "\n"
     ]
    }
   ],
   "source": [
    "# better\n",
    "from typing import TextIO\n",
    "\n",
    "file: TextIO = open('notes.txt')\n",
    "try:\n",
    "    content: str = file.read()\n",
    "    print(content)\n",
    "finally:\n",
    "    file.close()  # close file regardless of what happens"
   ]
  },
  {
   "cell_type": "code",
   "execution_count": 60,
   "id": "d2fe7e0b-7cce-4325-9c89-7a14092d1d1b",
   "metadata": {},
   "outputs": [
    {
     "name": "stdout",
     "output_type": "stream",
     "text": [
      "Bob eats serial for breakfast.\n",
      "\n",
      "\n"
     ]
    }
   ],
   "source": [
    "# even better\n",
    "from typing import TextIO\n",
    "\n",
    "with open('notes.txt') as file:\n",
    "    content: str = file.read()\n",
    "    \n",
    "print(content)\n"
   ]
  },
  {
   "cell_type": "code",
   "execution_count": 68,
   "id": "630e9ffd-2823-4ad2-be59-aae21b3695f6",
   "metadata": {},
   "outputs": [
    {
     "name": "stderr",
     "output_type": "stream",
     "text": [
      "ERROR:root:[Errno 2] No such file or directory: 'nodtes.txt'\n"
     ]
    },
    {
     "name": "stdout",
     "output_type": "stream",
     "text": [
      "Bob eats serial for breakfast.\n",
      "\n",
      "\n"
     ]
    }
   ],
   "source": [
    "# even better still\n",
    "from typing import TextIO\n",
    "import logging\n",
    "\n",
    "logging.basicConfig(level=logging.ERROR)\n",
    "try:\n",
    "    with open('nodtes.txt') as file:\n",
    "        content: str = file.read()\n",
    "except FileNotFoundError as e: # \n",
    "    logging.error(e)\n",
    "\n",
    "print(content)\n"
   ]
  },
  {
   "cell_type": "markdown",
   "id": "d20e67b7-6ca0-4b42-a380-fbe1f7f31d0d",
   "metadata": {},
   "source": [
    "## Bad type checking"
   ]
  },
  {
   "cell_type": "code",
   "execution_count": 73,
   "id": "d4c1ce33-6c9d-4a08-acd7-58c9b88da59e",
   "metadata": {},
   "outputs": [
    {
     "name": "stdout",
     "output_type": "stream",
     "text": [
      "type(name) == type(number)=False\n",
      "type(name) == type(x)=True\n"
     ]
    }
   ],
   "source": [
    "name: str = 'Bob'\n",
    "number: int = 123\n",
    "\n",
    "print(f'{type(name) == type(number)=}')\n",
    "x: str = 'x'\n",
    "print(f'{type(name) == type(x)=}')  # too strict for comparing types, inheritance"
   ]
  },
  {
   "cell_type": "code",
   "execution_count": 75,
   "id": "cece99aa-22b9-4d2c-a56f-ef2ffed666cd",
   "metadata": {},
   "outputs": [
    {
     "name": "stdout",
     "output_type": "stream",
     "text": [
      "isinstance(name, str)=True\n",
      "isinstance(number, str)=False\n"
     ]
    }
   ],
   "source": [
    "print(f'{isinstance(name, str)=}')\n",
    "print(f'{isinstance(number, str)=}')"
   ]
  },
  {
   "cell_type": "code",
   "execution_count": 77,
   "id": "ec7ec376-a83a-4e96-acbe-0ccbd824efc4",
   "metadata": {},
   "outputs": [
    {
     "name": "stdout",
     "output_type": "stream",
     "text": [
      "isinstance(name, (str, tuple))=True\n",
      "isinstance(number, (str, int))=True\n"
     ]
    }
   ],
   "source": [
    "print(f'{isinstance(name, (str, tuple))=}')\n",
    "print(f'{isinstance(number, (str, int))=}')"
   ]
  },
  {
   "cell_type": "code",
   "execution_count": 89,
   "id": "a6326bb0-398d-4586-92b8-5e9c2f2f139b",
   "metadata": {},
   "outputs": [
    {
     "name": "stdout",
     "output_type": "stream",
     "text": [
      "isinstance(Cat(), Animal)=True\n",
      "isinstance(Animal(), Cat)=False\n",
      "type(Animal())=<class '__main__.Animal'>\n"
     ]
    }
   ],
   "source": [
    "class Animal:\n",
    "    ...\n",
    "\n",
    "class Cat(Animal):\n",
    "    ...\n",
    "\n",
    "\n",
    "print(f'{isinstance(Cat(), Animal)=}')\n",
    "print(f'{isinstance(Animal(), Cat)=}')\n",
    "print(f'{type(Animal())=}')"
   ]
  },
  {
   "cell_type": "markdown",
   "id": "8f7ba2b9-bf4f-4bce-be61-9a402ecc8013",
   "metadata": {},
   "source": [
    "## Enumeration"
   ]
  },
  {
   "cell_type": "code",
   "execution_count": 90,
   "id": "eaa90e66-d742-408e-a8bc-47f96124e4be",
   "metadata": {},
   "outputs": [
    {
     "name": "stdout",
     "output_type": "stream",
     "text": [
      "1: A\n",
      "2: B\n",
      "3: C\n",
      "4: D\n",
      "5: E\n"
     ]
    }
   ],
   "source": [
    "letters: str = 'ABCDE'\n",
    "for i, letter in enumerate(letters):\n",
    "    print(f'{i + 1}: {letter}')"
   ]
  },
  {
   "cell_type": "code",
   "execution_count": 91,
   "id": "f06fd45a-f702-4fd7-81d6-a3bde5a84397",
   "metadata": {},
   "outputs": [
    {
     "name": "stdout",
     "output_type": "stream",
     "text": [
      "1: A\n",
      "2: B\n",
      "3: C\n",
      "4: D\n",
      "5: E\n"
     ]
    }
   ],
   "source": [
    "# Better\n",
    "for i, letter in enumerate(letters, 1):\n",
    "    print(f'{i}: {letter}')"
   ]
  },
  {
   "cell_type": "code",
   "execution_count": 92,
   "id": "2fe63ad5-5f08-4401-9ec2-7494115786fd",
   "metadata": {},
   "outputs": [
    {
     "name": "stdout",
     "output_type": "stream",
     "text": [
      "1: A\n",
      "2: B\n",
      "3: C\n",
      "4: D\n",
      "5: E\n"
     ]
    }
   ],
   "source": [
    "# or use keyword for legibility\n",
    "for i, letter in enumerate(letters, start=1):\n",
    "    print(f'{i}: {letter}')"
   ]
  },
  {
   "cell_type": "markdown",
   "id": "3dcf04cc-60e3-426c-9b31-055304a3c448",
   "metadata": {},
   "source": [
    "## Referencing"
   ]
  },
  {
   "cell_type": "code",
   "execution_count": 99,
   "id": "ec9f65f4-e697-4194-af92-90aa2bf43ad5",
   "metadata": {},
   "outputs": [],
   "source": [
    "a: list[int] = [1,2,3]\n",
    "b: list[int] = a  # doesn't copy, just creates a reference/alias to a"
   ]
  },
  {
   "cell_type": "code",
   "execution_count": 100,
   "id": "32dc212a-3895-4694-87b8-91429047df6d",
   "metadata": {},
   "outputs": [
    {
     "name": "stdout",
     "output_type": "stream",
     "text": [
      "id(a)=4508853120\n",
      "id(b)=4508853120\n"
     ]
    }
   ],
   "source": [
    "print(f'{id(a)=}')\n",
    "print(f'{id(b)=}')"
   ]
  },
  {
   "cell_type": "code",
   "execution_count": 101,
   "id": "2d98ba5e-d0aa-4545-9ccb-c5759debfdf2",
   "metadata": {},
   "outputs": [
    {
     "name": "stdout",
     "output_type": "stream",
     "text": [
      "a=[1, 2, 3, 111, 222]\n",
      "b=[1, 2, 3, 111, 222]\n"
     ]
    }
   ],
   "source": [
    "a.append(111)\n",
    "b.append(222)\n",
    "print(f'{a=}')\n",
    "print(f'{b=}')"
   ]
  },
  {
   "cell_type": "markdown",
   "id": "05dd4bf8-863c-4cc9-a4bb-78f78eea7dce",
   "metadata": {},
   "source": [
    "## Shallow copy"
   ]
  },
  {
   "cell_type": "code",
   "execution_count": 103,
   "id": "c4d4a27e-8d59-41dd-b3e7-55752fdeb5a1",
   "metadata": {},
   "outputs": [],
   "source": [
    "from typing import Any\n",
    "from copy import deepcopy\n",
    "\n",
    "a: list[Any] = [1, ['A', 'B'], 3]"
   ]
  },
  {
   "cell_type": "code",
   "execution_count": 116,
   "id": "054a42ef-4782-4124-b22d-0dfeab7ad7c3",
   "metadata": {},
   "outputs": [
    {
     "name": "stdout",
     "output_type": "stream",
     "text": [
      "a=[1, ['A', 'B'], 3]\n",
      "b=[1, ['A', 'B'], 3, 10]\n"
     ]
    }
   ],
   "source": [
    "b: list[Any] = a.copy()  # copies everything except reference types\n",
    "b.append(10)\n",
    "print(f'{a=}')\n",
    "print(f'{b=}')"
   ]
  },
  {
   "cell_type": "code",
   "execution_count": 108,
   "id": "de57e2b3-0930-4796-863c-c23a11f6fab8",
   "metadata": {},
   "outputs": [],
   "source": [
    "b[1][0] = 'CHANGED'"
   ]
  },
  {
   "cell_type": "code",
   "execution_count": 109,
   "id": "7847e33f-a647-423d-a926-9c55eb2cd16d",
   "metadata": {},
   "outputs": [
    {
     "name": "stdout",
     "output_type": "stream",
     "text": [
      "a=[1, ['CHANGED', 'B'], 3]\n",
      "b=[1, ['CHANGED', 'B'], 3, 10]\n"
     ]
    }
   ],
   "source": [
    "print(f'{a=}')\n",
    "print(f'{b=}')"
   ]
  },
  {
   "cell_type": "code",
   "execution_count": 110,
   "id": "ec1b1c0e-ca5a-4e28-b265-29eaa00c4b5b",
   "metadata": {},
   "outputs": [
    {
     "name": "stdout",
     "output_type": "stream",
     "text": [
      "a=[1, ['CHANGED', 'B'], 3]\n",
      "b=[999, ['CHANGED', 'B'], 3, 10]\n"
     ]
    }
   ],
   "source": [
    "b[0] = 999\n",
    "print(f'{a=}')\n",
    "print(f'{b=}')"
   ]
  },
  {
   "cell_type": "code",
   "execution_count": 115,
   "id": "60d1e6e0-d887-4f9d-ba78-89a7ff19b01a",
   "metadata": {},
   "outputs": [
    {
     "name": "stdout",
     "output_type": "stream",
     "text": [
      "a=[1, ['A', 'B'], 3]\n",
      "b=[1, ['A', 'B'], 3, 10]\n",
      "a=[1, ['A', 'B'], 3]\n",
      "b=[1, ['CHANGED', 'B'], 3, 10]\n"
     ]
    }
   ],
   "source": [
    "a: list[Any] = [1, ['A', 'B'], 3]\n",
    "b: list[Any] = deepcopy(a)\n",
    "b.append(10)\n",
    "print(f'{a=}')\n",
    "print(f'{b=}')\n",
    "b[1][0] = 'CHANGED'\n",
    "print(f'{a=}')\n",
    "print(f'{b=}')"
   ]
  },
  {
   "cell_type": "markdown",
   "id": "2de9eb53-6b53-4674-a074-b5249ee90d2b",
   "metadata": {},
   "source": [
    "# Uses for underscores"
   ]
  },
  {
   "cell_type": "markdown",
   "id": "614aa454-46bb-4834-89d9-55d765cd32b1",
   "metadata": {},
   "source": [
    "## Semi-private variables\n",
    "\n",
    "Underscore is a naming convention indicating how the variable is expected to be used."
   ]
  },
  {
   "cell_type": "code",
   "execution_count": 121,
   "id": "a529c80d-a07b-4b21-8764-b17b52074552",
   "metadata": {},
   "outputs": [],
   "source": [
    "from uuid import uuid4, UUID\n",
    "\n",
    "class Lamp:\n",
    "    def __init__(self, brand:str) -> None:\n",
    "        self.brand = brand\n",
    "        self._id: UUID = uuid4()\n",
    "\n",
    "    def get_id(self) -> UUID:\n",
    "        return self._id\n",
    "\n",
    "# subclass\n",
    "class SubLamp(Lamp):\n",
    "    def __init__(self, brand: str) -> None:\n",
    "        super().__init__(brand)\n",
    "\n",
    "    def sublamp_method(self) -> None:\n",
    "        print(self._id)\n"
   ]
  },
  {
   "cell_type": "code",
   "execution_count": 124,
   "id": "5ee74ddd-7c5e-4368-bfff-aa1245362f7e",
   "metadata": {},
   "outputs": [
    {
     "name": "stdout",
     "output_type": "stream",
     "text": [
      "81e591a4-9b3c-41b6-9d75-509e77215980\n",
      "74c4c435-1839-4e30-953e-ed8e31c2efd4\n"
     ]
    }
   ],
   "source": [
    "print(Lamp('bob')._id)  # No!\n",
    "print(Lamp('ted').get_id())"
   ]
  },
  {
   "cell_type": "markdown",
   "id": "773a7d25-5dcd-46cd-8520-45093a189252",
   "metadata": {},
   "source": [
    "## Name mangling"
   ]
  },
  {
   "cell_type": "code",
   "execution_count": 151,
   "id": "78b3e830-7048-4dc0-875e-8b84103a26b4",
   "metadata": {},
   "outputs": [
    {
     "name": "stdout",
     "output_type": "stream",
     "text": [
      "pam.brand='pam'\n",
      "pam._Lamp__hidden_id=UUID('57fcd479-493f-4523-8951-154af37a467f')\n"
     ]
    }
   ],
   "source": [
    "from uuid import uuid4, UUID\n",
    "\n",
    "class Lamp:\n",
    "    def __init__(self, brand:str) -> None:\n",
    "        self.brand = brand\n",
    "        self.__hidden_id: UUID = uuid4()\n",
    "\n",
    "    # def get_id(self) -> UUID:\n",
    "    #     return self._id\n",
    "\n",
    "pam: Lamp = Lamp(brand=\"pam\")\n",
    "print(f'{pam.brand=}')\n",
    "# print(f'{pam.__hidden_id=}')  \n",
    "print(f'{pam._Lamp__hidden_id=}')  "
   ]
  },
  {
   "cell_type": "markdown",
   "id": "e75900ef-58aa-490d-8bc4-9d8284308f7c",
   "metadata": {},
   "source": [
    "## Dunder methods\n",
    "\n",
    "Let you override built-in functionality for types"
   ]
  },
  {
   "cell_type": "code",
   "execution_count": 156,
   "id": "4aa6f061-1b36-44e8-bcfe-21031ee6d168",
   "metadata": {},
   "outputs": [
    {
     "name": "stdout",
     "output_type": "stream",
     "text": [
      "n1=<__main__.CustomNumber object at 0x107452a50>\n"
     ]
    }
   ],
   "source": [
    "from typing import Self\n",
    "\n",
    "class CustomNumber:\n",
    "    def __init__(self, value: int) -> None:\n",
    "        self.value = value\n",
    "\n",
    "n1: CustomNumber = CustomNumber(10)\n",
    "n2: CustomNumber = CustomNumber(100)\n",
    "\n",
    "print(f'{n1=}')\n",
    "# print(f'{n1 + n2=}')  # error"
   ]
  },
  {
   "cell_type": "code",
   "execution_count": 167,
   "id": "41d3a2b4-a63f-456e-850a-53feb0e26925",
   "metadata": {},
   "outputs": [
    {
     "name": "stdout",
     "output_type": "stream",
     "text": [
      "n1=CustomNumber(value=10)\n",
      "n1 + n2=110\n",
      "10 | 100\n"
     ]
    }
   ],
   "source": [
    "from typing import Self\n",
    "\n",
    "class CustomNumber:\n",
    "    def __init__(self, value: int) -> None:\n",
    "        self.value = value\n",
    "\n",
    "    def __add__(self, other: Self) -> int:\n",
    "        return (self.value + other.value)\n",
    "\n",
    "    def __repr__(self) -> str:\n",
    "        return f'CustomNumber(value={self.value})'\n",
    "\n",
    "    def __or__(self, other: Self) -> str:\n",
    "        return f'{self.value} | {other.value}'\n",
    "\n",
    "n1: CustomNumber = CustomNumber(10)\n",
    "n2: CustomNumber = CustomNumber(100)\n",
    "\n",
    "print(f'{n1=}')\n",
    "print(f'{n1 + n2=}')\n",
    "print(f'{n1 | n2}')\n"
   ]
  },
  {
   "cell_type": "markdown",
   "id": "a3eccb10-fafc-470e-8439-1f8badb21fab",
   "metadata": {},
   "source": [
    "## Use system-reserved names"
   ]
  },
  {
   "cell_type": "markdown",
   "id": "649cd091-e729-4ba7-aa22-bc97d3882572",
   "metadata": {},
   "source": [
    "## Case"
   ]
  },
  {
   "cell_type": "code",
   "execution_count": 172,
   "id": "dc9219d6-7dfb-49b9-b9fa-8d67db216400",
   "metadata": {},
   "outputs": [
    {
     "name": "stdout",
     "output_type": "stream",
     "text": [
      "huh?\n"
     ]
    }
   ],
   "source": [
    "gangsta_weather: str = \"thunder\"\n",
    "\n",
    "match gangsta_weather:\n",
    "    case 'rain':\n",
    "        print('Umbrella')\n",
    "    case 'sunny':\n",
    "        print('sunscreen')\n",
    "    case _:\n",
    "        print('huh?')"
   ]
  },
  {
   "cell_type": "code",
   "execution_count": null,
   "id": "825f3f7c-f680-4569-af65-aefc2cbd141d",
   "metadata": {},
   "outputs": [],
   "source": []
  }
 ],
 "metadata": {
  "kernelspec": {
   "display_name": "Python (py311b)",
   "language": "python",
   "name": "py311b"
  },
  "language_info": {
   "codemirror_mode": {
    "name": "ipython",
    "version": 3
   },
   "file_extension": ".py",
   "mimetype": "text/x-python",
   "name": "python",
   "nbconvert_exporter": "python",
   "pygments_lexer": "ipython3",
   "version": "3.13.5"
  },
  "widgets": {
   "application/vnd.jupyter.widget-state+json": {
    "state": {},
    "version_major": 2,
    "version_minor": 0
   }
  }
 },
 "nbformat": 4,
 "nbformat_minor": 5
}
