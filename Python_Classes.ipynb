{
 "cells": [
  {
   "cell_type": "markdown",
   "id": "7aa99b30-f293-43f2-bee4-c686c98587fa",
   "metadata": {},
   "source": [
    "## Python Classes\n",
    "\n",
    "https://www.youtube.com/watch?v=rLyYb7BFgQI&ab_channel=Indently"
   ]
  },
  {
   "cell_type": "code",
   "execution_count": 4,
   "id": "783274e6-a86f-4d07-90bd-465fad59687f",
   "metadata": {},
   "outputs": [
    {
     "name": "stdout",
     "output_type": "stream",
     "text": [
      "<__main__.Microwave object at 0x110be86e0>\n"
     ]
    }
   ],
   "source": [
    "class Microwave:\n",
    "    ...\n",
    "\n",
    "smeg: Microwave = Microwave()\n",
    "print(smeg)"
   ]
  },
  {
   "cell_type": "code",
   "execution_count": 7,
   "id": "003fa627-9c0a-4d13-88df-bb6f7607df92",
   "metadata": {},
   "outputs": [
    {
     "name": "stdout",
     "output_type": "stream",
     "text": [
      "<__main__.Microwave object at 0x11123b380>\n"
     ]
    }
   ],
   "source": [
    "class Microwave:\n",
    "    def __init__(self, brand: str, power_rating: str) -> None:\n",
    "        self.brand = brand\n",
    "        self.power_rating = power_rating\n",
    "\n",
    "smeg: Microwave = Microwave (\"Smeg\", \"B\")\n",
    "print(smeg)"
   ]
  },
  {
   "cell_type": "code",
   "execution_count": 9,
   "id": "11b12c83-e36a-4574-865b-3998c0b761e7",
   "metadata": {},
   "outputs": [
    {
     "name": "stdout",
     "output_type": "stream",
     "text": [
      "Available kernels:\n",
      "  huggingfacebook    /Users/blauerbock/Library/Jupyter/kernels/huggingfacebook\n",
      "  py311b             /Users/blauerbock/Library/Jupyter/kernels/py311b\n",
      "  py313              /Users/blauerbock/Library/Jupyter/kernels/py313\n",
      "  rdf                /Users/blauerbock/Library/Jupyter/kernels/rdf\n",
      "  python3            /opt/anaconda3/share/jupyter/kernels/python3\n"
     ]
    }
   ],
   "source": [
    "!jupyter kernelspec list"
   ]
  },
  {
   "cell_type": "code",
   "execution_count": 10,
   "id": "3e71a033-6a0f-45ee-9739-464a3969a189",
   "metadata": {},
   "outputs": [
    {
     "name": "stdout",
     "output_type": "stream",
     "text": [
      "\u001b[34mhuggingfacebook\u001b[m\u001b[m \u001b[34mpy311b\u001b[m\u001b[m          \u001b[34mpy313\u001b[m\u001b[m           \u001b[34mrdf\u001b[m\u001b[m\n"
     ]
    }
   ],
   "source": [
    "!ls /Users/blauerbock/Library/Jupyter/kernels"
   ]
  },
  {
   "cell_type": "code",
   "execution_count": 11,
   "id": "7ba371d2-5ce0-4113-bf36-cf3491bea451",
   "metadata": {},
   "outputs": [
    {
     "name": "stdout",
     "output_type": "stream",
     "text": [
      "\u001b[34mpython3\u001b[m\u001b[m\n"
     ]
    }
   ],
   "source": [
    "!ls /opt/anaconda3/share/jupyter/kernels"
   ]
  },
  {
   "cell_type": "code",
   "execution_count": 13,
   "id": "602e66d9-dd97-4b9b-b36a-e2cffb69c6b5",
   "metadata": {},
   "outputs": [
    {
     "name": "stdout",
     "output_type": "stream",
     "text": [
      "No subcommand specified. Must specify one of: ['list', 'install', 'uninstall', 'remove', 'install-self', 'provisioners']\n",
      "\n",
      "Manage Jupyter kernel specifications.\n",
      "\n",
      "Subcommands\n",
      "===========\n",
      "Subcommands are launched as `jupyter kernelspec cmd [args]`. For information on\n",
      "using subcommand 'cmd', do: `jupyter kernelspec cmd -h`.\n",
      "\n",
      "list\n",
      "    List installed kernel specifications.\n",
      "install\n",
      "    Install a kernel specification directory.\n",
      "uninstall\n",
      "    Alias for remove\n",
      "remove\n",
      "    Remove one or more Jupyter kernelspecs by name.\n",
      "install-self\n",
      "    [DEPRECATED] Install the IPython kernel spec directory for this Python.\n",
      "provisioners\n",
      "    List available provisioners for use in kernel specifications.\n",
      "\n"
     ]
    }
   ],
   "source": [
    "!jupyter -y kernelspec remove py313"
   ]
  },
  {
   "cell_type": "code",
   "execution_count": 19,
   "id": "6d513484-4ef8-4853-8bd3-ac5315c47a40",
   "metadata": {},
   "outputs": [
    {
     "name": "stdout",
     "output_type": "stream",
     "text": [
      "1000000001\n",
      "1,000,000,000\n"
     ]
    }
   ],
   "source": [
    "billion: int = 1_000_000_000\n",
    "print(billion + 1)\n",
    "print(f\"{billion:,}\")"
   ]
  },
  {
   "cell_type": "code",
   "execution_count": 29,
   "id": "54430cbb-51da-4b95-aa4c-f59ce070ab7a",
   "metadata": {},
   "outputs": [],
   "source": [
    "var:int = 'Bob1'\n",
    "name:str = 'Bob3'"
   ]
  },
  {
   "cell_type": "code",
   "execution_count": 30,
   "id": "e4faefaf-eb65-49c7-8cbc-233ac5001ab2",
   "metadata": {},
   "outputs": [
    {
     "name": "stdout",
     "output_type": "stream",
     "text": [
      "Bob1\n",
      "Bob3\n"
     ]
    }
   ],
   "source": [
    "print(f'{var}')\n",
    "print(f'{name}')"
   ]
  },
  {
   "cell_type": "code",
   "execution_count": null,
   "id": "57d699ee-8d4c-4ed8-8ebe-7d8d40342e35",
   "metadata": {},
   "outputs": [],
   "source": []
  },
  {
   "cell_type": "code",
   "execution_count": null,
   "id": "ca92ea77-49e6-4518-848d-fa5ec3ca80ff",
   "metadata": {},
   "outputs": [],
   "source": []
  },
  {
   "cell_type": "code",
   "execution_count": null,
   "id": "765aac9f-c5b7-4c26-85a9-7d44c53a49c0",
   "metadata": {},
   "outputs": [],
   "source": []
  }
 ],
 "metadata": {
  "kernelspec": {
   "display_name": "Python (py311b)",
   "language": "python",
   "name": "py311b"
  },
  "language_info": {
   "codemirror_mode": {
    "name": "ipython",
    "version": 3
   },
   "file_extension": ".py",
   "mimetype": "text/x-python",
   "name": "python",
   "nbconvert_exporter": "python",
   "pygments_lexer": "ipython3",
   "version": "3.13.5"
  },
  "widgets": {
   "application/vnd.jupyter.widget-state+json": {
    "state": {},
    "version_major": 2,
    "version_minor": 0
   }
  }
 },
 "nbformat": 4,
 "nbformat_minor": 5
}
