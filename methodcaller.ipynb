{
 "cells": [
  {
   "cell_type": "markdown",
   "id": "d6ea2f2e-50ff-44e7-bbf3-81bb58a9c8ad",
   "metadata": {},
   "source": [
    "Python methodcaller\n",
    "\n",
    "https://www.youtube.com/watch?v=xvt1FUSTrTc&list=WL&index=1&ab_channel=Indently\n",
    "\n",
    "To view method parameters in JupyterLab, the primary method is to place your cursor inside the parentheses of a function call and press Shift+Tab.\n",
    " This will display a tooltip showing the function's parameters and its docstring, if available.\n",
    " For a more detailed view, you can press Shift+Tab multiple times: Shift+Tab shows a basic tooltip, Shift+Tab+Tab expands it with a scroll bar, Shift+Tab+Tab+Tab keeps the tooltip visible for 10 seconds while you type, and Shift+Tab+Tab+Tab+Tab displays the documentation in a pager at the bottom of the window."
   ]
  },
  {
   "cell_type": "code",
   "execution_count": 26,
   "id": "fc71bb0c-250d-4872-aa69-6d52cb4cfbbe",
   "metadata": {},
   "outputs": [],
   "source": [
    "from operator import methodcaller\n",
    "from timeit import repeat"
   ]
  },
  {
   "cell_type": "code",
   "execution_count": 27,
   "id": "0cffd577-d7c1-435d-8c6c-51ec0b62a9ac",
   "metadata": {},
   "outputs": [],
   "source": [
    "names: list[str] = \"Bob James Billy Sandra Blake\".split()"
   ]
  },
  {
   "cell_type": "code",
   "execution_count": 28,
   "id": "e4e20990-5f27-47e0-a808-f0823f062f25",
   "metadata": {},
   "outputs": [],
   "source": [
    "starts_with_b: methodcaller = methodcaller(\"startswith\", \"B\")"
   ]
  },
  {
   "cell_type": "code",
   "execution_count": 29,
   "id": "2ccda89c-823c-4138-9010-d1a8bdfe020c",
   "metadata": {},
   "outputs": [
    {
     "data": {
      "text/plain": [
       "['Bob', 'Billy', 'Blake']"
      ]
     },
     "execution_count": 29,
     "metadata": {},
     "output_type": "execute_result"
    }
   ],
   "source": [
    "filtered: filter = filter(starts_with_b, names)\n",
    "list(filtered)"
   ]
  },
  {
   "cell_type": "code",
   "execution_count": 30,
   "id": "63173610-17a7-4ba0-ba16-4aff1244d4f4",
   "metadata": {},
   "outputs": [
    {
     "name": "stdout",
     "output_type": "stream",
     "text": [
      "list(sorted(names, key=count_a))=['Bob', 'Billy', 'James', 'Blake', 'Sandra']\n"
     ]
    }
   ],
   "source": [
    "count_a: methodcaller = methodcaller('count', 'a')\n",
    "print(f'{list(sorted(names, key=count_a))=}')"
   ]
  },
  {
   "cell_type": "code",
   "execution_count": 31,
   "id": "8070ba0e-30b3-41ee-84be-c3b7e77ce8b5",
   "metadata": {},
   "outputs": [],
   "source": [
    "warm_up: str = '''\n",
    "for i in range(3):\n",
    "    ...\n",
    "'''"
   ]
  },
  {
   "cell_type": "code",
   "execution_count": 32,
   "id": "a2a285ab-a756-446a-8749-e1cf338ccf9d",
   "metadata": {},
   "outputs": [],
   "source": [
    "methodcaller_test: str = '''\n",
    "filter(starts_with_b, names)\n",
    "'''"
   ]
  },
  {
   "cell_type": "code",
   "execution_count": 33,
   "id": "00cde0c7-1596-43ce-9876-8770e4e9da4d",
   "metadata": {},
   "outputs": [],
   "source": [
    "lambda_test: str = '''\n",
    "filter(lambda x: x.startswith('B'), names)\n",
    "'''"
   ]
  },
  {
   "cell_type": "code",
   "execution_count": 34,
   "id": "9a9973b7-2a98-488b-9c63-a7d29c569015",
   "metadata": {},
   "outputs": [],
   "source": [
    "warm_up: float = min(repeat(stmt=warm_up))"
   ]
  },
  {
   "cell_type": "code",
   "execution_count": 35,
   "id": "da2ae333-7c27-418b-b412-671e09e59697",
   "metadata": {},
   "outputs": [],
   "source": [
    "methodcaller_time:float = min(repeat(methodcaller_test, globals=globals()))"
   ]
  },
  {
   "cell_type": "code",
   "execution_count": 36,
   "id": "038f90ad-b718-41b0-96ed-39ff45f7f93e",
   "metadata": {},
   "outputs": [],
   "source": [
    "lambda_time: float = min(repeat(methodcaller_test, globals=globals()))"
   ]
  },
  {
   "cell_type": "code",
   "execution_count": 37,
   "id": "5c96f7d4-261a-4da5-901c-9f0302f17391",
   "metadata": {},
   "outputs": [
    {
     "name": "stdout",
     "output_type": "stream",
     "text": [
      "methodcaller_time=0.027\n",
      "lambda_time=0.027\n"
     ]
    }
   ],
   "source": [
    "print(f'{methodcaller_time=:.3f}')\n",
    "print(f'{lambda_time=:.3f}')"
   ]
  },
  {
   "cell_type": "code",
   "execution_count": null,
   "id": "79188873-0eb2-4b29-9f59-321c892f73e3",
   "metadata": {},
   "outputs": [],
   "source": []
  }
 ],
 "metadata": {
  "kernelspec": {
   "display_name": "Python (py311b)",
   "language": "python",
   "name": "py311b"
  },
  "language_info": {
   "codemirror_mode": {
    "name": "ipython",
    "version": 3
   },
   "file_extension": ".py",
   "mimetype": "text/x-python",
   "name": "python",
   "nbconvert_exporter": "python",
   "pygments_lexer": "ipython3",
   "version": "3.13.5"
  },
  "widgets": {
   "application/vnd.jupyter.widget-state+json": {
    "state": {},
    "version_major": 2,
    "version_minor": 0
   }
  }
 },
 "nbformat": 4,
 "nbformat_minor": 5
}
