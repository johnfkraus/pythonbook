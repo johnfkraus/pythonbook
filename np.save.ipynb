{
 "cells": [
  {
   "cell_type": "markdown",
   "id": "6039ec3a-ae1f-4b27-bd6f-ee6d83decdaf",
   "metadata": {},
   "source": [
    "# np.save()\n",
    "\n",
    "The numpy.save() function is used to save a single NumPy array to a binary file in NumPy's .npy format. This format is efficient for storing and loading NumPy arrays. [1]  \n",
    "\n",
    "Syntax:\n",
    "\n",
    "`numpy.save(file, arr, allow_pickle=True, fix_imports=True)`\n",
    "\n",
    "Parameters: \n",
    "\n",
    "- file: This can be a file-like object or a string representing the filename. If it's a string, a .npy extension will be appended if it's not already present. \n",
    "- arr: The array-like object (e.g., a NumPy array) to be saved. \n",
    "- allow_pickle: (Optional, default is True) Allows saving of object arrays using Python's pickle serialization. \n",
    "- fix_imports: (Optional, default is True) Used when allow_pickle is True to remap old module names to new ones during pickling for compatibility. \n",
    "\n",
    "Example: "
   ]
  },
  {
   "cell_type": "code",
   "execution_count": 9,
   "id": "07d48497-f0c4-47ef-ae6f-8fb2cc65d69f",
   "metadata": {},
   "outputs": [
    {
     "name": "stdout",
     "output_type": "stream",
     "text": [
      "[[1 2 3]\n",
      " [4 5 6]]\n"
     ]
    }
   ],
   "source": [
    "import numpy as np\n",
    "import pandas as pd\n",
    "## Create a NumPy array\n",
    "my_array = np.array([[1, 2, 3], [4, 5, 6]])\n",
    "\n",
    "# Save the array to a file named 'my_data.npy'\n",
    "np.save('my_data.npy', my_array)\n",
    "\n",
    "# To load the array later:\n",
    "loaded_array = np.load('my_data.npy')\n",
    "print(loaded_array)"
   ]
  },
  {
   "cell_type": "markdown",
   "id": "f26fda4b-1d4c-4664-8c76-7862916fcfeb",
   "metadata": {},
   "source": [
    "For saving multiple arrays into a single file, numpy.savez() or numpy.savez_compressed() can be used, which create .npz files (zipped archives containing individual .npy files). \n",
    "\n",
    "AI responses may include mistakes.\n",
    "\n",
    "[1] https://www.quora.com/How-do-you-save-a-NumPy-array-as-a-file"
   ]
  },
  {
   "cell_type": "markdown",
   "id": "f20ad9c9-e90e-4774-a623-1acb2a01485c",
   "metadata": {},
   "source": [
    "## np.savetxt()\n",
    "\n",
    "To save a NumPy array in a text format (with a .txt or .csv extension), use numpy.savetxt:"
   ]
  },
  {
   "cell_type": "code",
   "execution_count": null,
   "id": "e31ec40f-ddc6-4b76-92c9-e8750b6678ec",
   "metadata": {},
   "outputs": [],
   "source": [
    "import numpy as np \n",
    " \n",
    "# Create a NumPy array \n",
    "array = np.array([[1, 2, 3], [4, 5, 6]]) \n",
    " \n",
    "# Save the array to a text file \n",
    "np.savetxt('my_array.txt', array) \n",
    "np.savetxt('my_array.csv', array, delimiter=',') \n",
    "\n",
    "\n",
    "# Loading the Text File\n",
    "\n",
    "# To load the array back from a text file, use numpy.loadtxt:\n",
    "\n",
    "loaded_array = np.loadtxt('my_array.txt', dtype=np.int32) "
   ]
  },
  {
   "cell_type": "code",
   "execution_count": 25,
   "id": "f315eead-bc69-4f0b-8aa2-1c3644436eef",
   "metadata": {},
   "outputs": [
    {
     "data": {
      "text/plain": [
       "array([[1., 2., 3.],\n",
       "       [4., 5., 6.]])"
      ]
     },
     "execution_count": 25,
     "metadata": {},
     "output_type": "execute_result"
    }
   ],
   "source": [
    "loaded_array.astype(np.int32)\n",
    "loaded_array"
   ]
  },
  {
   "cell_type": "code",
   "execution_count": 24,
   "id": "71e9c974-1e53-48a4-a813-79fc13ef5e1b",
   "metadata": {},
   "outputs": [
    {
     "name": "stdout",
     "output_type": "stream",
     "text": [
      "1.000000000000000000e+00 2.000000000000000000e+00 3.000000000000000000e+00\n",
      "4.000000000000000000e+00 5.000000000000000000e+00 6.000000000000000000e+00\n"
     ]
    }
   ],
   "source": [
    "!cat my_array.txt"
   ]
  },
  {
   "cell_type": "code",
   "execution_count": 17,
   "id": "25f42662-5343-43bc-83fe-cb391c3f1ff7",
   "metadata": {},
   "outputs": [
    {
     "name": "stdout",
     "output_type": "stream",
     "text": [
      "1.000000000000000000e+00,2.000000000000000000e+00,3.000000000000000000e+00\n",
      "4.000000000000000000e+00,5.000000000000000000e+00,6.000000000000000000e+00\n"
     ]
    }
   ],
   "source": [
    "!cat my_array.csv"
   ]
  },
  {
   "cell_type": "code",
   "execution_count": 18,
   "id": "ea8a4284-518b-4806-9cd3-69b47a552a40",
   "metadata": {},
   "outputs": [
    {
     "data": {
      "text/html": [
       "<div>\n",
       "<style scoped>\n",
       "    .dataframe tbody tr th:only-of-type {\n",
       "        vertical-align: middle;\n",
       "    }\n",
       "\n",
       "    .dataframe tbody tr th {\n",
       "        vertical-align: top;\n",
       "    }\n",
       "\n",
       "    .dataframe thead th {\n",
       "        text-align: right;\n",
       "    }\n",
       "</style>\n",
       "<table border=\"1\" class=\"dataframe\">\n",
       "  <thead>\n",
       "    <tr style=\"text-align: right;\">\n",
       "      <th></th>\n",
       "      <th>0</th>\n",
       "      <th>1</th>\n",
       "      <th>2</th>\n",
       "    </tr>\n",
       "  </thead>\n",
       "  <tbody>\n",
       "    <tr>\n",
       "      <th>0</th>\n",
       "      <td>1.0</td>\n",
       "      <td>2.0</td>\n",
       "      <td>3.0</td>\n",
       "    </tr>\n",
       "    <tr>\n",
       "      <th>1</th>\n",
       "      <td>4.0</td>\n",
       "      <td>5.0</td>\n",
       "      <td>6.0</td>\n",
       "    </tr>\n",
       "  </tbody>\n",
       "</table>\n",
       "</div>"
      ],
      "text/plain": [
       "     0    1    2\n",
       "0  1.0  2.0  3.0\n",
       "1  4.0  5.0  6.0"
      ]
     },
     "execution_count": 18,
     "metadata": {},
     "output_type": "execute_result"
    }
   ],
   "source": [
    "df = pd.DataFrame(loaded_array)\n",
    "df"
   ]
  },
  {
   "cell_type": "code",
   "execution_count": 12,
   "id": "c8c9b39b-b702-44c1-85e3-0275af1de232",
   "metadata": {},
   "outputs": [
    {
     "ename": "SyntaxError",
     "evalue": "invalid syntax. Perhaps you forgot a comma? (1888476486.py, line 1)",
     "output_type": "error",
     "traceback": [
      "\u001b[0;36m  Cell \u001b[0;32mIn[12], line 1\u001b[0;36m\u001b[0m\n\u001b[0;31m    arr.array([[1. 2. 3.]\u001b[0m\n\u001b[0m                ^\u001b[0m\n\u001b[0;31mSyntaxError\u001b[0m\u001b[0;31m:\u001b[0m invalid syntax. Perhaps you forgot a comma?\n"
     ]
    }
   ],
   "source": [
    "arr.array([[1. 2. 3.]\n",
    " [4. 5. 6.]])"
   ]
  },
  {
   "cell_type": "markdown",
   "id": "1a4f5adc-d6dc-4859-9fce-7183dde06f9a",
   "metadata": {},
   "source": [
    "Summary\n",
    "\n",
    "Use np.save for binary files (.npy).\n",
    "Use np.savetxt for text files (.txt or .csv).\n",
    "These methods allow you to easily save and load NumPy arrays for later use."
   ]
  },
  {
   "cell_type": "code",
   "execution_count": null,
   "id": "7f605996-614f-4a78-82fd-f1f4e9682e44",
   "metadata": {},
   "outputs": [],
   "source": []
  }
 ],
 "metadata": {
  "kernelspec": {
   "display_name": "Python (py311b)",
   "language": "python",
   "name": "py311b"
  },
  "language_info": {
   "codemirror_mode": {
    "name": "ipython",
    "version": 3
   },
   "file_extension": ".py",
   "mimetype": "text/x-python",
   "name": "python",
   "nbconvert_exporter": "python",
   "pygments_lexer": "ipython3",
   "version": "3.13.5"
  },
  "widgets": {
   "application/vnd.jupyter.widget-state+json": {
    "state": {},
    "version_major": 2,
    "version_minor": 0
   }
  }
 },
 "nbformat": 4,
 "nbformat_minor": 5
}
