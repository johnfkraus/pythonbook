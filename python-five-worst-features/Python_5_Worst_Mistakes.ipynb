{
 "cells": [
  {
   "cell_type": "markdown",
   "id": "d5f27324-10a5-4880-9ee2-e43163b15fce",
   "metadata": {},
   "source": [
    "# Python 5 Worst Mistakes\n",
    "\n",
    "https://youtu.be/j6WuHCSwNDo?si=rXc1tMiMZo3dgwZS\n",
    "\n",
    "## 1. implicit string concatenation\n",
    "\n",
    "When you have two string literals next to each other, Python implicitly concatenates them."
   ]
  },
  {
   "cell_type": "code",
   "execution_count": 32,
   "id": "a2e00e0a-68be-400b-8375-a73046a8f236",
   "metadata": {},
   "outputs": [
    {
     "data": {
      "text/plain": [
       "'TextText2'"
      ]
     },
     "execution_count": 32,
     "metadata": {},
     "output_type": "execute_result"
    }
   ],
   "source": [
    "text: str = 'Text' 'Text2'\n",
    "text"
   ]
  },
  {
   "cell_type": "code",
   "execution_count": 34,
   "id": "69f07d98-71ec-4181-99fd-6f75b4006e63",
   "metadata": {},
   "outputs": [
    {
     "name": "stdout",
     "output_type": "stream",
     "text": [
      "This is some very long text so I decided to to split it into different lines.\n"
     ]
    }
   ],
   "source": [
    "long_text: str = ('This is some very long text '\n",
    "    'so I decided to '\n",
    "    'to split it '\n",
    "    'into different lines.')\n",
    "\n",
    "# requires parentheses or backslash\n",
    "\n",
    "print(long_text)"
   ]
  },
  {
   "cell_type": "code",
   "execution_count": 39,
   "id": "1034d223-996c-48cc-9d49-38e6304553e3",
   "metadata": {},
   "outputs": [
    {
     "name": "stdout",
     "output_type": "stream",
     "text": [
      "This is some very long textso I decided to to split it into different lines.\n"
     ]
    }
   ],
   "source": [
    "long_text2: str = 'This is some very long text' \\\n",
    "    'so I decided to ' \\\n",
    "    'to split it ' \\\n",
    "    'into different lines.' \n",
    "\n",
    "# requires parentheses or backslash\n",
    "\n",
    "print(long_text2)"
   ]
  },
  {
   "cell_type": "code",
   "execution_count": 42,
   "id": "1d107e5c-97a6-4642-8000-14ade7a0e119",
   "metadata": {},
   "outputs": [
    {
     "name": "stdout",
     "output_type": "stream",
     "text": [
      "names = ['Bob', 'James', 'Bob2AshleyGeorge']\n"
     ]
    }
   ],
   "source": [
    "# forgot comma\n",
    "names: list[str] = ['Bob',\n",
    "                    'James',\n",
    "                    'Bob2'\n",
    "                    'Ashley'\n",
    "                    'George']\n",
    "\n",
    "print(f'names = {names}')"
   ]
  },
  {
   "cell_type": "markdown",
   "id": "e11973f3-b6a1-4139-be75-b7584f84af9c",
   "metadata": {},
   "source": [
    "## 2. Else block after for loop, while loop, or try block.\n",
    "\n",
    "Label the else block \"Success block\"."
   ]
  },
  {
   "cell_type": "code",
   "execution_count": 2,
   "id": "6962432b-88ef-4fd7-8f5d-3d02d4d40b29",
   "metadata": {},
   "outputs": [
    {
     "data": {
      "text/plain": [
       "['James', 'Mandy', 'Bob', 'Martin']"
      ]
     },
     "execution_count": 2,
     "metadata": {},
     "output_type": "execute_result"
    }
   ],
   "source": [
    "names: list[str] = \"James Mandy Bob Martin\".split()\n",
    "names"
   ]
  },
  {
   "cell_type": "code",
   "execution_count": 13,
   "id": "94bd4c6d-4dad-4f2d-89d2-cf26ec690dfc",
   "metadata": {},
   "outputs": [
    {
     "name": "stdout",
     "output_type": "stream",
     "text": [
      "James is partying\n",
      "Mandy is partying\n",
      "Bob is partying\n",
      "Martin is partying\n",
      "Everyone is partying\n"
     ]
    }
   ],
   "source": [
    "for name in names:\n",
    "    # if name == 'Bob':\n",
    "    #     print('Bob is breaking stuff')\n",
    "    #     print('Party is over')\n",
    "    #     break\n",
    "\n",
    "    print(f'{name} is partying')\n",
    "\n",
    "else:  # Success block\n",
    "    print('Everyone is partying')"
   ]
  },
  {
   "cell_type": "code",
   "execution_count": 14,
   "id": "49942454-f194-4291-9bc9-a5aab941981a",
   "metadata": {},
   "outputs": [
    {
     "name": "stdout",
     "output_type": "stream",
     "text": [
      "3\n",
      "2\n",
      "1\n",
      "Else block executes if while loop ends naturally.\n",
      "While loop ended naturally\n"
     ]
    }
   ],
   "source": [
    "i: int = 3\n",
    "while i > 0:\n",
    "    print(i)\n",
    "    # if i == 1:\n",
    "    #     print('Breaking out of loop')\n",
    "    #     break  # if break, else block will not execute\n",
    "    i -= 1\n",
    "else:  # Success block\n",
    "    print('Else block executes if while loop ends naturally.')\n",
    "    print('While loop ended naturally')"
   ]
  },
  {
   "cell_type": "code",
   "execution_count": 15,
   "id": "116b39e6-b125-4f0c-b232-8ff313acb3f2",
   "metadata": {},
   "outputs": [
    {
     "name": "stdout",
     "output_type": "stream",
     "text": [
      "I am dangerous code\n",
      "I handle the dangerous code\n"
     ]
    }
   ],
   "source": [
    "try:\n",
    "    print('I am dangerous code')\n",
    "    raise Exception('Dangerous code')\n",
    "except Exception:\n",
    "    print('I handle the dangerous code')\n",
    "else:  # Success block\n",
    "    print('There were no errors.')"
   ]
  },
  {
   "cell_type": "markdown",
   "id": "226c1494-5ce8-4f7f-88f3-4a3590045611",
   "metadata": {},
   "source": [
    "## 3. Star imports\n",
    "\n",
    "Import order matters.\n",
    "\n",
    "The real issue with `import *` is not shadowing in the way you showed, because you can understand that kind of shadowing statically from your environment.\n",
    "\n",
    "The real issue is actually that you may be deploying your code in an environment where each module has different versions, and if they are using semantic versioning then adding a new feature to those modules only bumps the minor version, which is assumed to always be backwards compatible. If anything changes that is not backwards compatible, the module would have bumped the major version instead, and package managers on the deployment end will use this standard to automatically get the most up-to-date but still compatible version of the dependent modules.\n",
    "\n",
    "However, if you use `import *` then this new feature will be imported into your program, possibly shadowing part of another module that you could not have possibly known about at the time you wrote the code, which turns industry standard backwards compatible updates into automatic code breakage!"
   ]
  },
  {
   "cell_type": "code",
   "execution_count": 1,
   "id": "a92ffd7b-31b7-4694-95d2-f610071e4645",
   "metadata": {},
   "outputs": [
    {
     "data": {
      "text/plain": [
       "'/Users/blauerbock/workspaces/pythonbook/python-five-worst-features'"
      ]
     },
     "execution_count": 1,
     "metadata": {},
     "output_type": "execute_result"
    }
   ],
   "source": [
    "import os\n",
    "os.getcwd() \n",
    "   "
   ]
  },
  {
   "cell_type": "code",
   "execution_count": 2,
   "id": "e65ab93f-d676-4103-9169-e138eb6bae85",
   "metadata": {},
   "outputs": [],
   "source": [
    "# import sys\n",
    "# sys.path.append('my/pat')\n",
    "   "
   ]
  },
  {
   "cell_type": "code",
   "execution_count": 3,
   "id": "6b718b21-2060-4a57-82b2-d4b6d4bed342",
   "metadata": {},
   "outputs": [],
   "source": [
    "import utility"
   ]
  },
  {
   "cell_type": "code",
   "execution_count": 4,
   "id": "c36e237d-48a6-4a2b-9dec-bdbf9814c8e3",
   "metadata": {},
   "outputs": [
    {
     "name": "stdout",
     "output_type": "stream",
     "text": [
      "add(1, 2, 3) from maths.py\n",
      "Calling Bob...\n",
      "Bob is not responding.\n"
     ]
    }
   ],
   "source": [
    "from utility import *\n",
    "from maths import *  # shadows add from utility.py\n",
    "\n",
    "add(1,2,3)\n",
    "call_bob()"
   ]
  },
  {
   "cell_type": "code",
   "execution_count": 5,
   "id": "5690e15a-3b86-46ab-93f2-209de6b154c6",
   "metadata": {},
   "outputs": [
    {
     "name": "stdout",
     "output_type": "stream",
     "text": [
      "add(1, 2, 3) from utility.py\n",
      "Calling Bob...\n",
      "Bob is not responding.\n"
     ]
    }
   ],
   "source": [
    "from maths import *\n",
    "from utility import *  # shadows add from maths.py\n",
    "\n",
    "add(1,2,3)\n",
    "call_bob()"
   ]
  },
  {
   "cell_type": "code",
   "execution_count": 13,
   "id": "815a3eb3-5024-4f30-8be0-76845339b6c6",
   "metadata": {},
   "outputs": [
    {
     "name": "stdout",
     "output_type": "stream",
     "text": [
      "add(1, 2, 3) from utility.py\n",
      "randint(1, 10) = 5\n"
     ]
    },
    {
     "data": {
      "text/plain": [
       "0.05188411309672669"
      ]
     },
     "execution_count": 13,
     "metadata": {},
     "output_type": "execute_result"
    }
   ],
   "source": [
    "from maths import *\n",
    "from utility import *  # shadows add from maths.py\n",
    "from random import *\n",
    "\n",
    "add(1,2,3)\n",
    "print(f'{randint(1, 10) = }')\n",
    "random()"
   ]
  },
  {
   "cell_type": "code",
   "execution_count": 14,
   "id": "53b55198-a52a-41cf-b7e8-3afae8ac76bc",
   "metadata": {},
   "outputs": [
    {
     "name": "stdout",
     "output_type": "stream",
     "text": [
      "add(1, 2, 3) from utility.py\n",
      "randint(1, 10) = 1\n",
      "Bob is dancing on the table.\n"
     ]
    }
   ],
   "source": [
    "from random import *\n",
    "from maths import *\n",
    "from utility import *  # shadows add from maths.py\n",
    "\n",
    "add(1,2,3)\n",
    "print(f'{randint(1, 10) = }')\n",
    "random()"
   ]
  },
  {
   "cell_type": "markdown",
   "id": "489b9702-f80a-4d06-b109-13b8c6b3acc4",
   "metadata": {},
   "source": [
    "## 4. Mutable defaults"
   ]
  },
  {
   "cell_type": "code",
   "execution_count": 15,
   "id": "7324ca6c-8a43-406d-a48c-02ff607b7410",
   "metadata": {},
   "outputs": [
    {
     "name": "stdout",
     "output_type": "stream",
     "text": [
      "['Bob']\n",
      "['Bob', 'James']\n",
      "['Bob', 'James', 'Maria']\n",
      "['Jane']\n"
     ]
    }
   ],
   "source": [
    "## MUTABLE default could be a list or dict\n",
    "# What happens if we don't specify a target?\n",
    "\n",
    "def add_name(name: str, target: list[str] = []) -> list[str]:\n",
    "    target.append(name)\n",
    "    return target\n",
    "\n",
    "print(add_name('Bob'))\n",
    "print(add_name('James'))  # we expect to get back ONE name in one list if we don't specify a target\n",
    "print(add_name('Maria'))\n",
    "print(add_name('Jane', []))"
   ]
  },
  {
   "cell_type": "code",
   "execution_count": 18,
   "id": "3e7714b9-db8c-4b31-863d-4e15ea9042f3",
   "metadata": {},
   "outputs": [
    {
     "name": "stdout",
     "output_type": "stream",
     "text": [
      "['Jane']\n",
      "['Mark']\n"
     ]
    }
   ],
   "source": [
    "# How to fix this? \n",
    "\n",
    "def add_name(name: str, target: list[str] | None = None) -> list[str]:\n",
    "    if target is None:\n",
    "        target = []\n",
    "    target.append(name)\n",
    "    return target\n",
    "\n",
    "# print(add_name('Bob'))\n",
    "# print(add_name('James'))  # we expect to get back ONE name in one list if we don't specify a target\n",
    "# print(add_name('Maria'))\n",
    "print(add_name('Jane', []))\n",
    "print(add_name('Mark', []))"
   ]
  },
  {
   "cell_type": "markdown",
   "id": "4a57e877-b783-4186-a970-9da7e31fa933",
   "metadata": {},
   "source": [
    "## 5. Shallow copy"
   ]
  },
  {
   "cell_type": "code",
   "execution_count": 29,
   "id": "34e9a29b-e9f9-4efc-aeb2-a14a489b02af",
   "metadata": {},
   "outputs": [
    {
     "name": "stdout",
     "output_type": "stream",
     "text": [
      "Original: [1, ['X', 'b'], 2]\n",
      "Copy: [1, ['X', 'b'], 2]\n"
     ]
    }
   ],
   "source": [
    "from typing import Any\n",
    "\n",
    "a: list[Any] = [1, ['a','b'], 2]\n",
    "# alternatively, a: list[int | list[str]] = [1, ['a','b'], 2]\n",
    "\n",
    "a_copy: list[Any] = a.copy()  # a shallow copy\n",
    "\n",
    "a_copy[1][0] = 'X'\n",
    "\n",
    "print(f'Original: {a}')\n",
    "print(f'Copy: {a_copy}')"
   ]
  },
  {
   "cell_type": "code",
   "execution_count": 31,
   "id": "41d40f50-954b-4ab3-8faa-f9c99456326e",
   "metadata": {},
   "outputs": [
    {
     "name": "stdout",
     "output_type": "stream",
     "text": [
      "Original: [1, ['a', 'b'], 2]\n",
      "Copy: [1, ['X', 'b'], 2]\n"
     ]
    }
   ],
   "source": [
    "# solution\n",
    "from copy import deepcopy\n",
    "\n",
    "a: list[Any] = [1, ['a','b'], 2]\n",
    "# alternatively, a: list[int | list[str]] = [1, ['a','b'], 2]\n",
    "\n",
    "a_copy: list[Any] = deepcopy(a)  # a shallow copy\n",
    "\n",
    "a_copy[1][0] = 'X'\n",
    "\n",
    "print(f'Original: {a}')\n",
    "print(f'Copy: {a_copy}')"
   ]
  },
  {
   "cell_type": "code",
   "execution_count": null,
   "id": "2f8a946d-6a9b-48e6-bf18-d7cae089463e",
   "metadata": {},
   "outputs": [],
   "source": []
  }
 ],
 "metadata": {
  "kernelspec": {
   "display_name": "Python (py311b)",
   "language": "python",
   "name": "py311b"
  },
  "language_info": {
   "codemirror_mode": {
    "name": "ipython",
    "version": 3
   },
   "file_extension": ".py",
   "mimetype": "text/x-python",
   "name": "python",
   "nbconvert_exporter": "python",
   "pygments_lexer": "ipython3",
   "version": "3.13.5"
  },
  "widgets": {
   "application/vnd.jupyter.widget-state+json": {
    "state": {},
    "version_major": 2,
    "version_minor": 0
   }
  }
 },
 "nbformat": 4,
 "nbformat_minor": 5
}
