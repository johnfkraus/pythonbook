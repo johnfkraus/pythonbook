{
 "cells": [
  {
   "cell_type": "markdown",
   "id": "82337748-5ce4-4377-b42c-78a65f8efc10",
   "metadata": {},
   "source": [
    "https://youtu.be/9aMsDI23HjU?si=Xbj73OXV8Sp1O3oW"
   ]
  },
  {
   "cell_type": "markdown",
   "id": "41535a51-bfdf-40da-8901-a31e2b0aeebd",
   "metadata": {},
   "source": [
    "## Class/object comparisons\n",
    "\n",
    "Objects with identical properties are not equal unless you add a suitable dunder method, `__eq__`."
   ]
  },
  {
   "cell_type": "code",
   "execution_count": 40,
   "id": "80c5bead-8fbf-4f94-a3df-ff229e193e4f",
   "metadata": {},
   "outputs": [
    {
     "name": "stdout",
     "output_type": "stream",
     "text": [
      "(volvo == toyota)=False\n",
      "(volvo == volvo2)=False\n",
      "id(volvo)=4603031104\n",
      "id(volvo2)=4672484560\n"
     ]
    }
   ],
   "source": [
    "class Car:\n",
    "    def __init__(self, brand: str, model_id: int) -> None:\n",
    "        self.brand = brand\n",
    "        self.model_id = model_id\n",
    "\n",
    "volvo: Car = Car(\"Volvo\", 0)\n",
    "toyota: Car = Car(\"Toyota\", 1)\n",
    "volvo2: Car = Car(\"Volvo\", 0)\n",
    "\n",
    "print(f'{(volvo == toyota)=}')\n",
    "print(f'{(volvo == volvo2)=}')\n",
    "print(f'{id(volvo)=}')\n",
    "print(f'{id(volvo2)=}')"
   ]
  },
  {
   "cell_type": "code",
   "execution_count": 41,
   "id": "e8e532a9-c006-4f37-b44a-a4c8c89c1698",
   "metadata": {},
   "outputs": [
    {
     "name": "stdout",
     "output_type": "stream",
     "text": [
      "(volvo == toyota)=False\n",
      "(volvo == volvo2)=True\n"
     ]
    }
   ],
   "source": [
    "class Car:\n",
    "    def __init__(self, brand: str, model_id: int) -> None:\n",
    "        self.brand = brand\n",
    "        self.model_id = model_id\n",
    "\n",
    "    def __eq__(self, other) -> bool:\n",
    "        return self.model_id == other.model_id\n",
    "\n",
    "\n",
    "volvo: Car = Car(\"Volvo\", 0)\n",
    "toyota: Car = Car(\"Toyota\", 1)\n",
    "volvo2: Car = Car(\"Volvo\", 0)\n",
    "\n",
    "print(f'{(volvo == toyota)=}')\n",
    "print(f'{(volvo == volvo2)=}')"
   ]
  },
  {
   "cell_type": "markdown",
   "id": "becce698-50b4-45df-88ca-dec94bfea2b9",
   "metadata": {
    "jp-MarkdownHeadingCollapsed": true
   },
   "source": [
    "## For-loop overrides variables\n",
    "\n",
    "But try/except doesn't!"
   ]
  },
  {
   "cell_type": "code",
   "execution_count": 7,
   "id": "31246c6c-d607-4ea1-bfbd-e821bd1a4709",
   "metadata": {},
   "outputs": [
    {
     "name": "stdout",
     "output_type": "stream",
     "text": [
      "for loop 0\n",
      "for loop 1\n",
      "for loop 2\n",
      "i = 2\n"
     ]
    }
   ],
   "source": [
    "i: int = 1000\n",
    "\n",
    "for i in range(3):\n",
    "    print(f'for loop {i}')\n",
    "\n",
    "print(f'i = {i}')"
   ]
  },
  {
   "cell_type": "code",
   "execution_count": 8,
   "id": "772979ff-b025-426e-85bc-734398713b21",
   "metadata": {},
   "outputs": [
    {
     "name": "stdout",
     "output_type": "stream",
     "text": [
      "e = division by zero\n",
      "repr(e) = ZeroDivisionError('division by zero')\n"
     ]
    },
    {
     "ename": "NameError",
     "evalue": "name 'e' is not defined",
     "output_type": "error",
     "traceback": [
      "\u001b[0;31m---------------------------------------------------------------------------\u001b[0m",
      "\u001b[0;31mNameError\u001b[0m                                 Traceback (most recent call last)",
      "Cell \u001b[0;32mIn[8], line 9\u001b[0m\n\u001b[1;32m      6\u001b[0m     \u001b[38;5;28mprint\u001b[39m(\u001b[38;5;124mf\u001b[39m\u001b[38;5;124m'\u001b[39m\u001b[38;5;124me = \u001b[39m\u001b[38;5;132;01m{\u001b[39;00me\u001b[38;5;132;01m}\u001b[39;00m\u001b[38;5;124m'\u001b[39m)\n\u001b[1;32m      7\u001b[0m     \u001b[38;5;28mprint\u001b[39m(\u001b[38;5;124mf\u001b[39m\u001b[38;5;124m'\u001b[39m\u001b[38;5;124mrepr(e) = \u001b[39m\u001b[38;5;132;01m{\u001b[39;00m\u001b[38;5;28mrepr\u001b[39m(e)\u001b[38;5;132;01m}\u001b[39;00m\u001b[38;5;124m'\u001b[39m)\n\u001b[0;32m----> 9\u001b[0m \u001b[38;5;28mprint\u001b[39m(e)\n",
      "\u001b[0;31mNameError\u001b[0m: name 'e' is not defined"
     ]
    }
   ],
   "source": [
    "e = 1000\n",
    "\n",
    "try:\n",
    "    print(1/0)\n",
    "except ZeroDivisionError as e:\n",
    "    print(f'e = {e}')\n",
    "    print(f'repr(e) = {repr(e)}')\n",
    "\n",
    "print(e)  # not defined!!"
   ]
  },
  {
   "cell_type": "markdown",
   "id": "26ae3822-641d-4f35-8d84-f76454a084ae",
   "metadata": {},
   "source": [
    "## List slice insertions"
   ]
  },
  {
   "cell_type": "code",
   "execution_count": 14,
   "id": "01255058-2aa0-42a6-a4fc-2eb648078db9",
   "metadata": {},
   "outputs": [
    {
     "name": "stdout",
     "output_type": "stream",
     "text": [
      "numbers = [0, 1, 100, 3, 4, 5, 6, 7, 8, 9]\n"
     ]
    }
   ],
   "source": [
    "numbers: list[str|int] = [0,1,2,3,4,5,6,7,8,9]\n",
    "numbers[2] = 100  # replaces one number\n",
    "print(f'numbers = {numbers}')"
   ]
  },
  {
   "cell_type": "code",
   "execution_count": 22,
   "id": "0e808c2f-0410-4a5c-b58a-f4791f1eedba",
   "metadata": {},
   "outputs": [
    {
     "name": "stdout",
     "output_type": "stream",
     "text": [
      "numbers = [0, 1, 100, 7, 8, 9]\n"
     ]
    }
   ],
   "source": [
    "numbers: list[str|int] = [0,1,2,3,4,5,6,7,8,9]\n",
    "numbers[2:7] = [100]  # replaces [2:7] 2-6 with item in list\n",
    "# list of elements does not have to match the length of the slice!\n",
    "print(f'numbers = {numbers}')"
   ]
  },
  {
   "cell_type": "code",
   "execution_count": 23,
   "id": "105dc488-a00b-45ed-96ea-9554aa0d8762",
   "metadata": {},
   "outputs": [
    {
     "name": "stdout",
     "output_type": "stream",
     "text": [
      "numbers = [0, 1, 'A', 'B', 7, 8, 9]\n"
     ]
    }
   ],
   "source": [
    "numbers: list[str|int] = [0,1,2,3,4,5,6,7,8,9]\n",
    "numbers[2:7] = ['A','B']  # replaces [2:7] 2-6 with items in list\n",
    "# list of elements does not have to match the length of the slice!\n",
    "print(f'numbers = {numbers}')"
   ]
  },
  {
   "cell_type": "code",
   "execution_count": 25,
   "id": "a43baaf8-fc8d-4cc6-b97f-e1c1bbe212b1",
   "metadata": {},
   "outputs": [
    {
     "name": "stdout",
     "output_type": "stream",
     "text": [
      "numbers = [0, 1, 7, 8, 9]\n"
     ]
    }
   ],
   "source": [
    "numbers: list[str|int] = [0,1,2,3,4,5,6,7,8,9]\n",
    "numbers[2:7] = []  # replaces [2:7] 2-6 with empty list\n",
    "# list of elements does not have to match the length of the slice!\n",
    "print(f'numbers = {numbers}')"
   ]
  },
  {
   "cell_type": "code",
   "execution_count": 26,
   "id": "015e8573-1691-4426-a253-f0c910c80cfa",
   "metadata": {},
   "outputs": [
    {
     "name": "stdout",
     "output_type": "stream",
     "text": [
      "numbers = [0, 1, 11, 12, 13, 14, 15, 16, 17, 18, 19, 7, 8, 9]\n"
     ]
    }
   ],
   "source": [
    "# you can insert more elements than you have space for!\n",
    "numbers: list[str|int] = [0,1,2,3,4,5,6,7,8,9]\n",
    "numbers[2:7] = [11,12,13,14,15,16,17,18,19]  # replaces [2:7] 2-6 with empty list\n",
    "# list of elements does not have to match the length of the slice!\n",
    "print(f'numbers = {numbers}')"
   ]
  },
  {
   "cell_type": "markdown",
   "id": "1552aba5-2419-4774-ada1-76200d68a7c1",
   "metadata": {},
   "source": [
    "# Weird Python features\n",
    "\n",
    "https://youtu.be/ChvFoys_BWU?si=XIpWWrrZdZ6ZZxPk\n",
    "\n",
    "## Triple comparisons"
   ]
  },
  {
   "cell_type": "code",
   "execution_count": 43,
   "id": "1e35869a-c871-4a08-9cab-284496a3bde1",
   "metadata": {},
   "outputs": [
    {
     "name": "stdout",
     "output_type": "stream",
     "text": [
      "Passed1\n",
      "Passed2\n"
     ]
    }
   ],
   "source": [
    "a: int = 10\n",
    "b: int = 15\n",
    "c: int = 29\n",
    "\n",
    "if c > b and b > a:\n",
    "    print(\"Passed1\")\n",
    "\n",
    "if c > b > a:\n",
    "    print(\"Passed2\")"
   ]
  },
  {
   "cell_type": "code",
   "execution_count": 46,
   "id": "5df996a7-7ad6-480c-be1b-5f473456ac27",
   "metadata": {},
   "outputs": [
    {
     "name": "stdout",
     "output_type": "stream",
     "text": [
      "True\n"
     ]
    }
   ],
   "source": [
    "result: bool = [] == [] == []\n",
    "# is the same as result: bool = [] == [] and [] == []\n",
    "print(result)"
   ]
  },
  {
   "cell_type": "code",
   "execution_count": 47,
   "id": "76d49ab1-30ad-4941-bb6d-eaedcba1f4d6",
   "metadata": {},
   "outputs": [
    {
     "name": "stdout",
     "output_type": "stream",
     "text": [
      "True\n"
     ]
    }
   ],
   "source": [
    "# is the same as \n",
    "result2: bool = [] == [] and [] == []\n",
    "print(result2)"
   ]
  },
  {
   "cell_type": "code",
   "execution_count": 48,
   "id": "eadfd4ea-bae7-4765-ae45-e7c13d31541d",
   "metadata": {},
   "outputs": [
    {
     "name": "stdout",
     "output_type": "stream",
     "text": [
      "passed\n"
     ]
    }
   ],
   "source": [
    "if 5 > 4 > 3 > 2 > 1 == 1 < 2 != 6:\n",
    "    print('passed')"
   ]
  },
  {
   "cell_type": "markdown",
   "id": "fbf3b375-aff5-42c9-a0f2-f8a6c1650c10",
   "metadata": {},
   "source": [
    "## Infinite references [...]"
   ]
  },
  {
   "cell_type": "code",
   "execution_count": 54,
   "id": "766085df-e194-4f86-9f0e-7c06fd5a36c9",
   "metadata": {},
   "outputs": [
    {
     "name": "stdout",
     "output_type": "stream",
     "text": [
      "[1, 2, [...]]\n",
      "[1, 2, [...]]\n"
     ]
    }
   ],
   "source": [
    "a: list[int] = [1,2]\n",
    "a.append(a)\n",
    "print(a)\n",
    "print(a[2][2][2][2][2][2][2][2][2][2][2][2][2][2][2][2][2][2])"
   ]
  },
  {
   "cell_type": "markdown",
   "id": "9269fafd-94ed-48e1-8597-9b726a06d14f",
   "metadata": {},
   "source": [
    "## Infinity"
   ]
  },
  {
   "cell_type": "code",
   "execution_count": 60,
   "id": "679c9a42-671c-4f8b-b7d3-67be008cf3b2",
   "metadata": {},
   "outputs": [
    {
     "name": "stdout",
     "output_type": "stream",
     "text": [
      "inf\n",
      "False\n",
      "True\n",
      "nan\n",
      "0.0\n"
     ]
    }
   ],
   "source": [
    "infinity: float = float('inf')\n",
    "neg_infinity: float = float('-inf')\n",
    "print(infinity)\n",
    "print(0 > infinity)\n",
    "print(0 < infinity)\n",
    "print((infinity-1)/infinity)\n",
    "print(10/infinity)"
   ]
  },
  {
   "cell_type": "markdown",
   "id": "ae2a3392-824d-444f-a384-90c96ada5da5",
   "metadata": {},
   "source": [
    "## Name mangling / private attributes"
   ]
  },
  {
   "cell_type": "code",
   "execution_count": null,
   "id": "f7628948-04bf-4fce-9d26-d885d44defe4",
   "metadata": {},
   "outputs": [],
   "source": [
    "class Product:\n",
    "    def __init__(self, name: str, id: int) -> None:\n",
    "        self.__name = name\n",
    "        self.__id = id\n",
    "\n",
    "    def __info(self) -> str:\n",
    "        return f'{self.__name} {"
   ]
  }
 ],
 "metadata": {
  "kernelspec": {
   "display_name": "Python (py311b)",
   "language": "python",
   "name": "py311b"
  },
  "language_info": {
   "codemirror_mode": {
    "name": "ipython",
    "version": 3
   },
   "file_extension": ".py",
   "mimetype": "text/x-python",
   "name": "python",
   "nbconvert_exporter": "python",
   "pygments_lexer": "ipython3",
   "version": "3.13.5"
  },
  "widgets": {
   "application/vnd.jupyter.widget-state+json": {
    "state": {},
    "version_major": 2,
    "version_minor": 0
   }
  }
 },
 "nbformat": 4,
 "nbformat_minor": 5
}
